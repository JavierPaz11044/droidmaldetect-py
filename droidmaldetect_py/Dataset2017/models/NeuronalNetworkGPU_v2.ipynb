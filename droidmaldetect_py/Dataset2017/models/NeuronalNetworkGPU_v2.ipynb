{
 "cells": [
  {
   "cell_type": "code",
   "execution_count": 34,
   "metadata": {},
   "outputs": [],
   "source": [
    "import torch\n",
    "import torch.nn as nn\n",
    "import torch.optim as optim\n",
    "import pandas as pd\n",
    "import matplotlib.pyplot as plt\n",
    "import numpy as np"
   ]
  },
  {
   "cell_type": "code",
   "execution_count": 2,
   "metadata": {},
   "outputs": [],
   "source": [
    "device = \"cuda\" if torch.cuda.is_available() else \"cpu\""
   ]
  },
  {
   "cell_type": "code",
   "execution_count": 3,
   "metadata": {},
   "outputs": [
    {
     "data": {
      "text/plain": [
       "'cuda'"
      ]
     },
     "execution_count": 3,
     "metadata": {},
     "output_type": "execute_result"
    }
   ],
   "source": [
    "device"
   ]
  },
  {
   "cell_type": "code",
   "execution_count": 3,
   "metadata": {},
   "outputs": [],
   "source": [
    "# class RecurrentNeuralNetwork(nn.Module):\n",
    "#     def __init__(self):\n",
    "#         super(RecurrentNeuralNetwork, self).__init__()\n",
    "#         hidden = torch.zeros(5,15)\n",
    "#         cell =  torch.zeros(5,15)\n",
    "#         self.batch =  (hidden, cell)\n",
    "#         self.fc1 = nn.Linear(24, 30)   \n",
    "#         self.rnn = nn.LSTM(30,15 , 5,batch_first=True)\n",
    "#         self.fc2 = nn.Linear(15, 1)\n",
    "#         self.relu =  nn.ReLU()\n",
    "#         self.leaky_relu = nn.LeakyReLU(negative_slope=0.01)  # Agregamos LeakyReLU\n",
    "#         self.sigmoid = nn.Identity()\n",
    "\n",
    "#     def forward(self, x): \n",
    "#         x = self.relu(self.fc1(x)) \n",
    "#         x = self.leaky_relu(x)  \n",
    "#         x, self.batch = self.rnn(x, self.batch)\n",
    "#         x = self.leaky_relu(x)  \n",
    "#         x = self.fc2(x)\n",
    "#         x = self.sigmoid(x)\n",
    "#         return x\n"
   ]
  },
  {
   "cell_type": "code",
   "execution_count": 17,
   "metadata": {},
   "outputs": [],
   "source": []
  },
  {
   "cell_type": "code",
   "execution_count": 4,
   "metadata": {},
   "outputs": [],
   "source": [
    "train_data = pd.read_csv('/home/lpazc/Documentos/Proyects/DroidMalDetect-Py/results/train_dataset_pca.csv')\n",
    "test_data = pd.read_csv('/home/lpazc/Documentos/Proyects/DroidMalDetect-Py/results/test_dataset_pca.csv')"
   ]
  },
  {
   "cell_type": "code",
   "execution_count": 5,
   "metadata": {},
   "outputs": [
    {
     "data": {
      "text/plain": [
       "25"
      ]
     },
     "execution_count": 5,
     "metadata": {},
     "output_type": "execute_result"
    }
   ],
   "source": [
    "train_data.shape.__getitem__(1)"
   ]
  },
  {
   "cell_type": "code",
   "execution_count": 6,
   "metadata": {},
   "outputs": [],
   "source": [
    "import matplotlib.pyplot as plt\n",
    "import seaborn as sns"
   ]
  },
  {
   "cell_type": "code",
   "execution_count": 7,
   "metadata": {},
   "outputs": [],
   "source": [
    "X_train = torch.tensor(train_data.drop('category', axis=1).values).float()\n",
    "\n",
    "y_train = torch.tensor(train_data['category'].values).view(-1, 1).float()\n",
    "X_test = torch.tensor(test_data.drop('category', axis=1).values).float()\n",
    "y_test = torch.tensor(test_data['category'].values).view(-1, 1).float()"
   ]
  },
  {
   "cell_type": "code",
   "execution_count": 8,
   "metadata": {},
   "outputs": [
    {
     "data": {
      "text/plain": [
       "tensor([[-1.8719e+00,  9.5374e-01, -9.2541e-03,  ..., -3.0361e-01,\n",
       "          1.0119e-02,  4.2599e-01],\n",
       "        [-1.5269e+00,  1.1766e+00, -5.7230e-02,  ..., -9.8120e-02,\n",
       "          2.8355e-03, -1.7259e-01],\n",
       "        [ 2.7619e+00,  3.0633e+00, -1.2302e+00,  ..., -2.6059e+00,\n",
       "          7.4816e-02, -1.8710e+00],\n",
       "        ...,\n",
       "        [-2.5090e+00, -1.0908e+00,  5.1043e-01,  ...,  9.2696e-02,\n",
       "          1.6503e-02, -5.2496e-01],\n",
       "        [ 2.9256e+00, -8.6861e+00,  1.3898e+00,  ...,  3.6282e-02,\n",
       "          2.8569e-03, -6.9891e-03],\n",
       "        [-1.8811e+00,  9.3592e-01, -5.5224e-03,  ..., -3.4036e-01,\n",
       "          1.0854e-02,  4.2303e-01]])"
      ]
     },
     "execution_count": 8,
     "metadata": {},
     "output_type": "execute_result"
    }
   ],
   "source": [
    "X_test"
   ]
  },
  {
   "cell_type": "code",
   "execution_count": 9,
   "metadata": {},
   "outputs": [
    {
     "data": {
      "text/html": [
       "<div>\n",
       "<style scoped>\n",
       "    .dataframe tbody tr th:only-of-type {\n",
       "        vertical-align: middle;\n",
       "    }\n",
       "\n",
       "    .dataframe tbody tr th {\n",
       "        vertical-align: top;\n",
       "    }\n",
       "\n",
       "    .dataframe thead th {\n",
       "        text-align: right;\n",
       "    }\n",
       "</style>\n",
       "<table border=\"1\" class=\"dataframe\">\n",
       "  <thead>\n",
       "    <tr style=\"text-align: right;\">\n",
       "      <th></th>\n",
       "      <th>PCS-0</th>\n",
       "      <th>PCS-1</th>\n",
       "      <th>PCS-2</th>\n",
       "      <th>PCS-3</th>\n",
       "      <th>PCS-4</th>\n",
       "      <th>PCS-5</th>\n",
       "      <th>PCS-6</th>\n",
       "      <th>PCS-7</th>\n",
       "      <th>PCS-8</th>\n",
       "      <th>PCS-9</th>\n",
       "      <th>...</th>\n",
       "      <th>PCS-15</th>\n",
       "      <th>PCS-16</th>\n",
       "      <th>PCS-17</th>\n",
       "      <th>PCS-18</th>\n",
       "      <th>PCS-19</th>\n",
       "      <th>PCS-20</th>\n",
       "      <th>PCS-21</th>\n",
       "      <th>PCS-22</th>\n",
       "      <th>PCS-23</th>\n",
       "      <th>category</th>\n",
       "    </tr>\n",
       "  </thead>\n",
       "  <tbody>\n",
       "    <tr>\n",
       "      <th>0</th>\n",
       "      <td>-1.719427</td>\n",
       "      <td>1.041112</td>\n",
       "      <td>-0.029033</td>\n",
       "      <td>-0.033945</td>\n",
       "      <td>0.488359</td>\n",
       "      <td>-0.320245</td>\n",
       "      <td>0.675607</td>\n",
       "      <td>0.040008</td>\n",
       "      <td>-0.850674</td>\n",
       "      <td>0.904590</td>\n",
       "      <td>...</td>\n",
       "      <td>0.166457</td>\n",
       "      <td>0.296350</td>\n",
       "      <td>0.170225</td>\n",
       "      <td>0.126065</td>\n",
       "      <td>-0.012936</td>\n",
       "      <td>-0.078119</td>\n",
       "      <td>-0.217705</td>\n",
       "      <td>0.006862</td>\n",
       "      <td>0.172171</td>\n",
       "      <td>0</td>\n",
       "    </tr>\n",
       "    <tr>\n",
       "      <th>1</th>\n",
       "      <td>-2.513016</td>\n",
       "      <td>0.378792</td>\n",
       "      <td>0.180003</td>\n",
       "      <td>-0.033389</td>\n",
       "      <td>0.509032</td>\n",
       "      <td>-0.166350</td>\n",
       "      <td>0.247207</td>\n",
       "      <td>-0.138200</td>\n",
       "      <td>0.478633</td>\n",
       "      <td>-0.355185</td>\n",
       "      <td>...</td>\n",
       "      <td>-0.423369</td>\n",
       "      <td>0.428696</td>\n",
       "      <td>-0.498758</td>\n",
       "      <td>-0.567661</td>\n",
       "      <td>0.053651</td>\n",
       "      <td>0.042064</td>\n",
       "      <td>-0.002884</td>\n",
       "      <td>0.018795</td>\n",
       "      <td>-0.570877</td>\n",
       "      <td>0</td>\n",
       "    </tr>\n",
       "    <tr>\n",
       "      <th>2</th>\n",
       "      <td>7.169543</td>\n",
       "      <td>0.970827</td>\n",
       "      <td>-0.545971</td>\n",
       "      <td>0.185807</td>\n",
       "      <td>-3.243937</td>\n",
       "      <td>-0.199090</td>\n",
       "      <td>-1.077415</td>\n",
       "      <td>-0.185070</td>\n",
       "      <td>1.729826</td>\n",
       "      <td>0.188037</td>\n",
       "      <td>...</td>\n",
       "      <td>-1.130055</td>\n",
       "      <td>-0.283804</td>\n",
       "      <td>0.332416</td>\n",
       "      <td>0.275258</td>\n",
       "      <td>-0.572652</td>\n",
       "      <td>-0.638327</td>\n",
       "      <td>0.332787</td>\n",
       "      <td>-0.019409</td>\n",
       "      <td>0.268257</td>\n",
       "      <td>1</td>\n",
       "    </tr>\n",
       "    <tr>\n",
       "      <th>3</th>\n",
       "      <td>-2.484802</td>\n",
       "      <td>0.321382</td>\n",
       "      <td>0.182738</td>\n",
       "      <td>-0.022501</td>\n",
       "      <td>0.317128</td>\n",
       "      <td>-0.203769</td>\n",
       "      <td>0.532316</td>\n",
       "      <td>-0.171392</td>\n",
       "      <td>0.235577</td>\n",
       "      <td>-0.311109</td>\n",
       "      <td>...</td>\n",
       "      <td>-0.340788</td>\n",
       "      <td>0.405275</td>\n",
       "      <td>-0.597997</td>\n",
       "      <td>-0.307447</td>\n",
       "      <td>0.088032</td>\n",
       "      <td>0.105859</td>\n",
       "      <td>0.135460</td>\n",
       "      <td>0.017582</td>\n",
       "      <td>-0.613108</td>\n",
       "      <td>0</td>\n",
       "    </tr>\n",
       "    <tr>\n",
       "      <th>4</th>\n",
       "      <td>0.095984</td>\n",
       "      <td>-6.182967</td>\n",
       "      <td>0.574045</td>\n",
       "      <td>0.176454</td>\n",
       "      <td>-3.033600</td>\n",
       "      <td>-0.513644</td>\n",
       "      <td>0.781771</td>\n",
       "      <td>1.736568</td>\n",
       "      <td>1.722352</td>\n",
       "      <td>-6.504171</td>\n",
       "      <td>...</td>\n",
       "      <td>2.019361</td>\n",
       "      <td>-2.565433</td>\n",
       "      <td>2.824614</td>\n",
       "      <td>-0.946937</td>\n",
       "      <td>0.259488</td>\n",
       "      <td>-0.222455</td>\n",
       "      <td>1.541727</td>\n",
       "      <td>-0.026497</td>\n",
       "      <td>-0.191912</td>\n",
       "      <td>0</td>\n",
       "    </tr>\n",
       "  </tbody>\n",
       "</table>\n",
       "<p>5 rows × 25 columns</p>\n",
       "</div>"
      ],
      "text/plain": [
       "      PCS-0     PCS-1     PCS-2     PCS-3     PCS-4     PCS-5     PCS-6  \\\n",
       "0 -1.719427  1.041112 -0.029033 -0.033945  0.488359 -0.320245  0.675607   \n",
       "1 -2.513016  0.378792  0.180003 -0.033389  0.509032 -0.166350  0.247207   \n",
       "2  7.169543  0.970827 -0.545971  0.185807 -3.243937 -0.199090 -1.077415   \n",
       "3 -2.484802  0.321382  0.182738 -0.022501  0.317128 -0.203769  0.532316   \n",
       "4  0.095984 -6.182967  0.574045  0.176454 -3.033600 -0.513644  0.781771   \n",
       "\n",
       "      PCS-7     PCS-8     PCS-9  ...    PCS-15    PCS-16    PCS-17    PCS-18  \\\n",
       "0  0.040008 -0.850674  0.904590  ...  0.166457  0.296350  0.170225  0.126065   \n",
       "1 -0.138200  0.478633 -0.355185  ... -0.423369  0.428696 -0.498758 -0.567661   \n",
       "2 -0.185070  1.729826  0.188037  ... -1.130055 -0.283804  0.332416  0.275258   \n",
       "3 -0.171392  0.235577 -0.311109  ... -0.340788  0.405275 -0.597997 -0.307447   \n",
       "4  1.736568  1.722352 -6.504171  ...  2.019361 -2.565433  2.824614 -0.946937   \n",
       "\n",
       "     PCS-19    PCS-20    PCS-21    PCS-22    PCS-23  category  \n",
       "0 -0.012936 -0.078119 -0.217705  0.006862  0.172171         0  \n",
       "1  0.053651  0.042064 -0.002884  0.018795 -0.570877         0  \n",
       "2 -0.572652 -0.638327  0.332787 -0.019409  0.268257         1  \n",
       "3  0.088032  0.105859  0.135460  0.017582 -0.613108         0  \n",
       "4  0.259488 -0.222455  1.541727 -0.026497 -0.191912         0  \n",
       "\n",
       "[5 rows x 25 columns]"
      ]
     },
     "execution_count": 9,
     "metadata": {},
     "output_type": "execute_result"
    }
   ],
   "source": [
    "\n",
    "train_data.head()"
   ]
  },
  {
   "cell_type": "code",
   "execution_count": 10,
   "metadata": {},
   "outputs": [
    {
     "data": {
      "text/plain": [
       "tensor([-1.7194e+00,  1.0411e+00, -2.9033e-02, -3.3945e-02,  4.8836e-01,\n",
       "        -3.2024e-01,  6.7561e-01,  4.0008e-02, -8.5067e-01,  9.0459e-01,\n",
       "         1.4184e+00,  1.5811e-01, -1.1586e-03,  1.9821e-01, -2.6115e-01,\n",
       "         1.6646e-01,  2.9635e-01,  1.7022e-01,  1.2607e-01, -1.2936e-02,\n",
       "        -7.8119e-02, -2.1770e-01,  6.8619e-03,  1.7217e-01])"
      ]
     },
     "execution_count": 10,
     "metadata": {},
     "output_type": "execute_result"
    }
   ],
   "source": [
    "X_train[0]"
   ]
  },
  {
   "cell_type": "code",
   "execution_count": 11,
   "metadata": {},
   "outputs": [
    {
     "data": {
      "text/plain": [
       "torch.Size([2218023, 24])"
      ]
     },
     "execution_count": 11,
     "metadata": {},
     "output_type": "execute_result"
    }
   ],
   "source": [
    "X_train.shape"
   ]
  },
  {
   "cell_type": "code",
   "execution_count": 46,
   "metadata": {},
   "outputs": [],
   "source": [
    "class NeuralNetwork(nn.Module):\n",
    "    def __init__(self, size_input):\n",
    "        super(NeuralNetwork, self).__init__()\n",
    "        self.hidden_size = 15\n",
    "        self.num_layers = 5\n",
    "        self.fc1 = nn.Linear(size_input, 30)\n",
    "        self.fc3 = nn.Linear(self.hidden_size, 15)\n",
    "        self.fc4 = nn.Linear(30, 50) \n",
    "        self.fc7 = nn.Linear(50, 1)\n",
    "        self.fc5 = nn.Linear(50, self.hidden_size)\n",
    "        self.fc6 = nn.Linear(self.hidden_size, 50)\n",
    "\n",
    "        self.relu = nn.ELU()\n",
    "        self.leaky_relu = nn.LeakyReLU(negative_slope=0.01)\n",
    "        self.sigmoid = nn.Sigmoid()\n",
    "\n",
    "    def forward(self, x):\n",
    "        x = self.relu(self.fc1(x))\n",
    "        # x, (hidden, cell) = self.rnn(x)\n",
    "        # x = self.relu(x)\n",
    "        x = self.fc4(x) \n",
    "        x = self.relu(x)\n",
    "        x = self.fc5(x)\n",
    "        x =  self.relu(x)\n",
    "        x =  self.fc6(x)\n",
    "        x =  self.relu(x)\n",
    "        x =  self.fc7(x)\n",
    "        x = self.sigmoid(x)\n",
    "        return x\n"
   ]
  },
  {
   "cell_type": "code",
   "execution_count": 41,
   "metadata": {},
   "outputs": [],
   "source": [
    "class CNNNetwork(nn.Module):\n",
    "    def __init__(self, input_size):\n",
    "        super(CNNNetwork, self).__init__()\n",
    "        self.fc1 =  nn.Linear(in_features=input_size, out_features=32)\n",
    "        self.fc1 =  nn.Linear(in_features=32, out_features=64)\n",
    "        self.fc1 =  nn.Linear(in_features=64, out_features=128)\n",
    "        self.cnn1 =  nn.Conv1d(in_channels=128, out_channels=256, kernel_size=(3,3))\n",
    "        self.linearFinal =  nn.Linear(in_features=20, out_features=2)\n",
    "    def forward(self, x):\n",
    "        print(\"initial: \",x.size())\n",
    "        x =  self.fc1(x)\n",
    "        print(x.sixe())\n",
    "        return x\n"
   ]
  },
  {
   "cell_type": "code",
   "execution_count": 25,
   "metadata": {},
   "outputs": [
    {
     "data": {
      "text/plain": [
       "24"
      ]
     },
     "execution_count": 25,
     "metadata": {},
     "output_type": "execute_result"
    }
   ],
   "source": [
    "X_train.shape.__getitem__(1)"
   ]
  },
  {
   "cell_type": "code",
   "execution_count": 51,
   "metadata": {},
   "outputs": [
    {
     "name": "stdout",
     "output_type": "stream",
     "text": [
      "Epoch [1/150], Avg. Loss: 0.6944391753642924, Accuracy: 0.5332985520362854\n",
      "Epoch [2/150], Avg. Loss: 0.6929245058792197, Accuracy: 0.5332985520362854\n",
      "Epoch [3/150], Avg. Loss: 0.6927592932492838, Accuracy: 0.5333201885223389\n",
      "Epoch [4/150], Avg. Loss: 0.6925468095417681, Accuracy: 0.5333823561668396\n",
      "Epoch [5/150], Avg. Loss: 0.6923882400019631, Accuracy: 0.5337204933166504\n",
      "Epoch [6/150], Avg. Loss: 0.692208491119684, Accuracy: 0.5340830087661743\n",
      "Epoch [7/150], Avg. Loss: 0.6920032558581946, Accuracy: 0.5343021154403687\n",
      "Epoch [8/150], Avg. Loss: 0.6918558865778882, Accuracy: 0.5343562364578247\n",
      "Epoch [9/150], Avg. Loss: 0.6917595402168641, Accuracy: 0.5343508124351501\n",
      "Epoch [10/150], Avg. Loss: 0.6916928559991726, Accuracy: 0.5343859791755676\n",
      "Epoch [11/150], Avg. Loss: 0.6916423170905621, Accuracy: 0.534423828125\n",
      "Epoch [12/150], Avg. Loss: 0.6916013686593008, Accuracy: 0.5343778729438782\n",
      "Epoch [13/150], Avg. Loss: 0.6915671282021989, Accuracy: 0.5350622534751892\n",
      "Epoch [14/150], Avg. Loss: 0.6915367114294051, Accuracy: 0.5358007550239563\n",
      "Epoch [15/150], Avg. Loss: 0.691505247686316, Accuracy: 0.5359143614768982\n",
      "Epoch [16/150], Avg. Loss: 0.6914723754493347, Accuracy: 0.5363444685935974\n",
      "Epoch [17/150], Avg. Loss: 0.6914489621484174, Accuracy: 0.5368313789367676\n",
      "Epoch [18/150], Avg. Loss: 0.6914290150382751, Accuracy: 0.5371533036231995\n",
      "Epoch [19/150], Avg. Loss: 0.6914109374210322, Accuracy: 0.5374589562416077\n",
      "Epoch [20/150], Avg. Loss: 0.6913943638504962, Accuracy: 0.537816047668457\n",
      "Epoch [21/150], Avg. Loss: 0.6913790346159171, Accuracy: 0.5379540324211121\n",
      "Epoch [22/150], Avg. Loss: 0.6913647586250993, Accuracy: 0.5382380485534668\n",
      "Epoch [23/150], Avg. Loss: 0.6913513546326366, Accuracy: 0.5384355187416077\n",
      "Epoch [24/150], Avg. Loss: 0.691338657083505, Accuracy: 0.5386708974838257\n",
      "Epoch [25/150], Avg. Loss: 0.6913265824479135, Accuracy: 0.5388818979263306\n",
      "Epoch [26/150], Avg. Loss: 0.6913150808605386, Accuracy: 0.5390414595603943\n",
      "Epoch [27/150], Avg. Loss: 0.6913040589179331, Accuracy: 0.5392335057258606\n",
      "Epoch [28/150], Avg. Loss: 0.6912933017505244, Accuracy: 0.539422869682312\n",
      "Epoch [29/150], Avg. Loss: 0.6912833550423955, Accuracy: 0.5395798087120056\n",
      "Epoch [30/150], Avg. Loss: 0.6912742175979606, Accuracy: 0.5397366881370544\n",
      "Epoch [31/150], Avg. Loss: 0.6912653028817227, Accuracy: 0.5397745370864868\n",
      "Epoch [32/150], Avg. Loss: 0.6912561623341387, Accuracy: 0.5398502945899963\n",
      "Epoch [33/150], Avg. Loss: 0.6912470268241344, Accuracy: 0.5399206280708313\n",
      "Epoch [34/150], Avg. Loss: 0.6912386273649971, Accuracy: 0.5399693250656128\n",
      "Epoch [35/150], Avg. Loss: 0.6912305026084473, Accuracy: 0.5400450825691223\n",
      "Epoch [36/150], Avg. Loss: 0.6912226658133953, Accuracy: 0.5400775074958801\n",
      "Epoch [37/150], Avg. Loss: 0.6912150506987238, Accuracy: 0.5401180982589722\n",
      "Epoch [38/150], Avg. Loss: 0.6912075778856077, Accuracy: 0.5401803255081177\n",
      "Epoch [39/150], Avg. Loss: 0.6912004847045092, Accuracy: 0.5402209162712097\n",
      "Epoch [40/150], Avg. Loss: 0.6911945490652252, Accuracy: 0.5402587652206421\n",
      "Epoch [41/150], Avg. Loss: 0.6911874419669727, Accuracy: 0.540315568447113\n",
      "Epoch [42/150], Avg. Loss: 0.6911804051799013, Accuracy: 0.5403507351875305\n",
      "Epoch [43/150], Avg. Loss: 0.6911734899529901, Accuracy: 0.540399432182312\n",
      "Epoch [44/150], Avg. Loss: 0.6911667754904278, Accuracy: 0.5404156446456909\n",
      "Epoch [45/150], Avg. Loss: 0.6911602687239244, Accuracy: 0.5404183864593506\n",
      "Epoch [46/150], Avg. Loss: 0.691153939239931, Accuracy: 0.5404751896858215\n",
      "Epoch [47/150], Avg. Loss: 0.6911477298384076, Accuracy: 0.5405265688896179\n",
      "Epoch [48/150], Avg. Loss: 0.6911416149015815, Accuracy: 0.540607750415802\n",
      "Epoch [49/150], Avg. Loss: 0.6911355689997498, Accuracy: 0.5406482815742493\n",
      "Epoch [50/150], Avg. Loss: 0.6911295722243967, Accuracy: 0.5406320691108704\n",
      "Epoch [51/150], Avg. Loss: 0.6911236437183257, Accuracy: 0.5406997203826904\n",
      "Epoch [52/150], Avg. Loss: 0.6911177915819653, Accuracy: 0.5407159328460693\n",
      "Epoch [53/150], Avg. Loss: 0.6911120269785922, Accuracy: 0.5407537817955017\n",
      "Epoch [54/150], Avg. Loss: 0.6911063614341894, Accuracy: 0.5407646298408508\n",
      "Epoch [55/150], Avg. Loss: 0.691100793726304, Accuracy: 0.5407997965812683\n",
      "Epoch [56/150], Avg. Loss: 0.6910953192203626, Accuracy: 0.5408079028129578\n",
      "Epoch [57/150], Avg. Loss: 0.6910899264709838, Accuracy: 0.5408620238304138\n",
      "Epoch [58/150], Avg. Loss: 0.6910845994385132, Accuracy: 0.5408836603164673\n",
      "Epoch [59/150], Avg. Loss: 0.6910793286926015, Accuracy: 0.5408809185028076\n",
      "Epoch [60/150], Avg. Loss: 0.6910741065626937, Accuracy: 0.5408782362937927\n",
      "Epoch [61/150], Avg. Loss: 0.6910689267350232, Accuracy: 0.5409107208251953\n",
      "Epoch [62/150], Avg. Loss: 0.6910637979279614, Accuracy: 0.5409431457519531\n",
      "Epoch [63/150], Avg. Loss: 0.6910587302166679, Accuracy: 0.5409891605377197\n",
      "Epoch [64/150], Avg. Loss: 0.6910537251594342, Accuracy: 0.5410107970237732\n",
      "Epoch [65/150], Avg. Loss: 0.6910487732587431, Accuracy: 0.5410946607589722\n",
      "Epoch [66/150], Avg. Loss: 0.6910438669783752, Accuracy: 0.5411189794540405\n",
      "Epoch [67/150], Avg. Loss: 0.6910389955580597, Accuracy: 0.541140615940094\n",
      "Epoch [68/150], Avg. Loss: 0.6910341478345199, Accuracy: 0.5411785244941711\n",
      "Epoch [69/150], Avg. Loss: 0.6910293081576743, Accuracy: 0.5412055850028992\n",
      "Epoch [70/150], Avg. Loss: 0.691024476702159, Accuracy: 0.5412272214889526\n",
      "Epoch [71/150], Avg. Loss: 0.6910196495050779, Accuracy: 0.5412542223930359\n",
      "Epoch [72/150], Avg. Loss: 0.6910148255992156, Accuracy: 0.5412704944610596\n",
      "Epoch [73/150], Avg. Loss: 0.6910100103311235, Accuracy: 0.5412867069244385\n",
      "Epoch [74/150], Avg. Loss: 0.6910051986229213, Accuracy: 0.541292130947113\n",
      "Epoch [75/150], Avg. Loss: 0.6910003892387225, Accuracy: 0.5412677526473999\n",
      "Epoch [76/150], Avg. Loss: 0.6909955582399477, Accuracy: 0.5413110852241516\n",
      "Epoch [77/150], Avg. Loss: 0.6909906407828693, Accuracy: 0.5413002371788025\n",
      "Epoch [78/150], Avg. Loss: 0.690985667187001, Accuracy: 0.5413110852241516\n",
      "Epoch [79/150], Avg. Loss: 0.6909807425564088, Accuracy: 0.5412677526473999\n",
      "Epoch [80/150], Avg. Loss: 0.6909758437719596, Accuracy: 0.541251540184021\n",
      "Epoch [81/150], Avg. Loss: 0.690970837438539, Accuracy: 0.5412325859069824\n",
      "Epoch [82/150], Avg. Loss: 0.6909656061200857, Accuracy: 0.5412623882293701\n",
      "Epoch [83/150], Avg. Loss: 0.690960467775206, Accuracy: 0.541265070438385\n",
      "Epoch [84/150], Avg. Loss: 0.6909553485731297, Accuracy: 0.5412623882293701\n",
      "Epoch [85/150], Avg. Loss: 0.6909500501272456, Accuracy: 0.5412867069244385\n",
      "Epoch [86/150], Avg. Loss: 0.6909448363530036, Accuracy: 0.5413137674331665\n",
      "Epoch [87/150], Avg. Loss: 0.6909395596963316, Accuracy: 0.5413110852241516\n",
      "Epoch [88/150], Avg. Loss: 0.6909342311996045, Accuracy: 0.5412893891334534\n",
      "Epoch [89/150], Avg. Loss: 0.6909288366098298, Accuracy: 0.54133540391922\n",
      "Epoch [90/150], Avg. Loss: 0.6909233634875437, Accuracy: 0.5413002371788025\n",
      "Epoch [91/150], Avg. Loss: 0.6909177916152589, Accuracy: 0.5413110852241516\n",
      "Epoch [92/150], Avg. Loss: 0.6909120875568789, Accuracy: 0.5413651466369629\n",
      "Epoch [93/150], Avg. Loss: 0.6909062536498408, Accuracy: 0.5413948893547058\n",
      "Epoch [94/150], Avg. Loss: 0.6909003868574813, Accuracy: 0.5414084196090698\n",
      "Epoch [95/150], Avg. Loss: 0.6908940530344525, Accuracy: 0.541432797908783\n",
      "Epoch [96/150], Avg. Loss: 0.6908875620523659, Accuracy: 0.541419267654419\n",
      "Epoch [97/150], Avg. Loss: 0.6908811276792433, Accuracy: 0.5414057374000549\n",
      "Epoch [98/150], Avg. Loss: 0.6908746700795191, Accuracy: 0.5414516925811768\n",
      "Epoch [99/150], Avg. Loss: 0.6908678406123672, Accuracy: 0.541446328163147\n",
      "Epoch [100/150], Avg. Loss: 0.6908610023731097, Accuracy: 0.5414625406265259\n",
      "Epoch [101/150], Avg. Loss: 0.6908540759829215, Accuracy: 0.5415031313896179\n",
      "Epoch [102/150], Avg. Loss: 0.6908470296445988, Accuracy: 0.5415382981300354\n",
      "Epoch [103/150], Avg. Loss: 0.690839997075661, Accuracy: 0.5416086316108704\n",
      "Epoch [104/150], Avg. Loss: 0.6908329691547301, Accuracy: 0.5416519045829773\n",
      "Epoch [105/150], Avg. Loss: 0.6908258927386973, Accuracy: 0.5416492223739624\n",
      "Epoch [106/150], Avg. Loss: 0.6908189578316409, Accuracy: 0.5415842533111572\n",
      "Epoch [107/150], Avg. Loss: 0.6908120440152521, Accuracy: 0.5415896773338318\n",
      "Epoch [108/150], Avg. Loss: 0.6908051754430471, Accuracy: 0.5416113138198853\n",
      "Epoch [109/150], Avg. Loss: 0.6907983231388666, Accuracy: 0.5417330265045166\n",
      "Epoch [110/150], Avg. Loss: 0.6907915333006762, Accuracy: 0.5417249202728271\n",
      "Epoch [111/150], Avg. Loss: 0.6907847789136145, Accuracy: 0.5417411923408508\n",
      "Epoch [112/150], Avg. Loss: 0.6907780139409182, Accuracy: 0.5417411923408508\n",
      "Epoch [113/150], Avg. Loss: 0.6907713269768251, Accuracy: 0.5417438745498657\n",
      "Epoch [114/150], Avg. Loss: 0.6907646607944281, Accuracy: 0.5417547225952148\n",
      "Epoch [115/150], Avg. Loss: 0.6907579473125147, Accuracy: 0.5417411923408508\n",
      "Epoch [116/150], Avg. Loss: 0.6907511699003547, Accuracy: 0.5417276620864868\n",
      "Epoch [117/150], Avg. Loss: 0.6907443106107302, Accuracy: 0.5417087078094482\n",
      "Epoch [118/150], Avg. Loss: 0.6907374236614339, Accuracy: 0.5417249202728271\n",
      "Epoch [119/150], Avg. Loss: 0.6907305760589946, Accuracy: 0.5417195558547974\n",
      "Epoch [120/150], Avg. Loss: 0.6907237346628536, Accuracy: 0.5417574048042297\n",
      "Epoch [121/150], Avg. Loss: 0.6907169144379816, Accuracy: 0.5417817234992981\n",
      "Epoch [122/150], Avg. Loss: 0.6907101181382554, Accuracy: 0.5418304204940796\n",
      "Epoch [123/150], Avg. Loss: 0.6907033242700013, Accuracy: 0.5418629050254822\n",
      "Epoch [124/150], Avg. Loss: 0.6906965093916806, Accuracy: 0.5418601632118225\n",
      "Epoch [125/150], Avg. Loss: 0.6906896272112932, Accuracy: 0.5418899655342102\n",
      "Epoch [126/150], Avg. Loss: 0.6906826312353355, Accuracy: 0.5418412685394287\n",
      "Epoch [127/150], Avg. Loss: 0.6906755132021763, Accuracy: 0.5418655872344971\n",
      "Epoch [128/150], Avg. Loss: 0.690668303364162, Accuracy: 0.5418872237205505\n",
      "Epoch [129/150], Avg. Loss: 0.6906609880728095, Accuracy: 0.5419116020202637\n",
      "Epoch [130/150], Avg. Loss: 0.6906535761539587, Accuracy: 0.5419386625289917\n",
      "Epoch [131/150], Avg. Loss: 0.690646120979089, Accuracy: 0.5419251322746277\n",
      "Epoch [132/150], Avg. Loss: 0.6906386576500566, Accuracy: 0.5419197082519531\n",
      "Epoch [133/150], Avg. Loss: 0.6906312069082572, Accuracy: 0.5418710112571716\n",
      "Epoch [134/150], Avg. Loss: 0.6906236947751513, Accuracy: 0.5418845415115356\n",
      "Epoch [135/150], Avg. Loss: 0.6906160553994951, Accuracy: 0.5419142842292786\n",
      "Epoch [136/150], Avg. Loss: 0.690608256742281, Accuracy: 0.541922390460968\n",
      "Epoch [137/150], Avg. Loss: 0.6906002895074947, Accuracy: 0.5419278144836426\n",
      "Epoch [138/150], Avg. Loss: 0.6905921137303362, Accuracy: 0.5419116020202637\n",
      "Epoch [139/150], Avg. Loss: 0.6905837213372442, Accuracy: 0.5419170260429382\n",
      "Epoch [140/150], Avg. Loss: 0.6905751294291231, Accuracy: 0.5419440269470215\n",
      "Epoch [141/150], Avg. Loss: 0.6905663385836155, Accuracy: 0.5419007539749146\n",
      "Epoch [142/150], Avg. Loss: 0.6905573256144202, Accuracy: 0.54189532995224\n",
      "Epoch [143/150], Avg. Loss: 0.6905480963382631, Accuracy: 0.5418412685394287\n",
      "Epoch [144/150], Avg. Loss: 0.6905386624826299, Accuracy: 0.5418412685394287\n",
      "Epoch [145/150], Avg. Loss: 0.6905290328733604, Accuracy: 0.5418574810028076\n",
      "Epoch [146/150], Avg. Loss: 0.6905194083016709, Accuracy: 0.5418629050254822\n",
      "Epoch [147/150], Avg. Loss: 0.6905097584077466, Accuracy: 0.5418710112571716\n",
      "Epoch [148/150], Avg. Loss: 0.6905001057330783, Accuracy: 0.5419061779975891\n",
      "Epoch [149/150], Avg. Loss: 0.6904905601237737, Accuracy: 0.5419304966926575\n",
      "Epoch [150/150], Avg. Loss: 0.6904811650910893, Accuracy: 0.5419684052467346\n"
     ]
    }
   ],
   "source": [
    "\n",
    "model = NeuralNetwork(X_train.shape.__getitem__(1))\n",
    "model.to(device)\n",
    "optimizer = optim.SGD(model.parameters(), lr=0.1, momentum=0.3)\n",
    "criterion = nn.BCEWithLogitsLoss().to(device)\n",
    "loss_values = []\n",
    "accuracy_values = []\n",
    "\n",
    "num_epochs = 150\n",
    "batch_size = 500  # Reduje el tamaño del lote\n",
    "\n",
    "for epoch in range(num_epochs):\n",
    "    model.train()\n",
    "    total_loss = 0.0\n",
    "    total_batches = 0\n",
    "\n",
    "    for i in range(0, len(X_train), batch_size):\n",
    "        batch_X = X_train[i:i + batch_size]\n",
    "        batch_y = y_train[i:i + batch_size]\n",
    "        outputs = model(batch_X.to(device)) \n",
    "        optimizer.zero_grad()\n",
    "        loss = criterion(outputs, batch_y.to(device))\n",
    "        loss.backward()\n",
    "        optimizer.step()\n",
    "\n",
    "        total_loss += loss.item()\n",
    "        total_batches += 1\n",
    "        print(total_loss / total_batches, end='\\r')\n",
    "\n",
    "    average_loss = total_loss / total_batches\n",
    "    loss_values.append(average_loss)\n",
    "    model.eval()\n",
    "    with torch.no_grad():\n",
    "        outputs = model(X_test.to(device))\n",
    "        predicted = (outputs > 0.5).float()\n",
    "        accuracy = (predicted == y_test.to(device)).float().mean()\n",
    "        accuracy_values.append(accuracy.item())\n",
    "    print(f'Epoch [{epoch + 1}/{num_epochs}], Avg. Loss: {average_loss}, Accuracy: {accuracy.item()}')"
   ]
  },
  {
   "cell_type": "code",
   "execution_count": 72,
   "metadata": {},
   "outputs": [
    {
     "name": "stdout",
     "output_type": "stream",
     "text": [
      "tensor([[0.0808],\n",
      "        [0.0674],\n",
      "        [0.0610],\n",
      "        ...,\n",
      "        [0.0524],\n",
      "        [0.0524],\n",
      "        [0.0524]])\n"
     ]
    }
   ],
   "source": [
    "\n",
    "with torch.no_grad():\n",
    "    outputs = model(X_test)\n",
    "    print(outputs)\n",
    "    # predicted = (outputs > 0.5).float()\n",
    "    # accuracy = (predicted == y_test).float().mean()\n",
    "    # accuracy_values.append(accuracy.item())\n",
    "    # print(f'Epoch [{epoch + 1}/{num_epochs}], Loss: {loss.item()}, Accuracy: {accuracy.item()}')"
   ]
  },
  {
   "cell_type": "code",
   "execution_count": 80,
   "metadata": {},
   "outputs": [],
   "source": [
    "loss = criterion(outputs, y_test)"
   ]
  },
  {
   "cell_type": "code",
   "execution_count": 81,
   "metadata": {},
   "outputs": [
    {
     "data": {
      "text/plain": [
       "tensor(0.6952)"
      ]
     },
     "execution_count": 81,
     "metadata": {},
     "output_type": "execute_result"
    }
   ],
   "source": [
    "loss"
   ]
  },
  {
   "cell_type": "code",
   "execution_count": 91,
   "metadata": {},
   "outputs": [
    {
     "ename": "AttributeError",
     "evalue": "'Tensor' object has no attribute 'hist'",
     "output_type": "error",
     "traceback": [
      "\u001b[0;31m---------------------------------------------------------------------------\u001b[0m",
      "\u001b[0;31mAttributeError\u001b[0m                            Traceback (most recent call last)",
      "\u001b[1;32m/home/lpazc/Documentos/Proyects/DroidMalDetect-Py/droidmaldetect_py/Dataset2017/models/NeuronalNetwork.ipynb Cell 18\u001b[0m line \u001b[0;36m1\n\u001b[0;32m----> <a href='vscode-notebook-cell:/home/lpazc/Documentos/Proyects/DroidMalDetect-Py/droidmaldetect_py/Dataset2017/models/NeuronalNetwork.ipynb#X31sZmlsZQ%3D%3D?line=0'>1</a>\u001b[0m y_test\u001b[39m.\u001b[39;49mhist()\n",
      "\u001b[0;31mAttributeError\u001b[0m: 'Tensor' object has no attribute 'hist'"
     ]
    }
   ],
   "source": []
  },
  {
   "cell_type": "code",
   "execution_count": 89,
   "metadata": {},
   "outputs": [],
   "source": [
    "f = (outputs > 0.5).float()\n",
    "accuracy = (predicted == y_test)"
   ]
  },
  {
   "cell_type": "code",
   "execution_count": 90,
   "metadata": {},
   "outputs": [
    {
     "data": {
      "text/plain": [
       "tensor([[ True],\n",
       "        [ True],\n",
       "        [ True],\n",
       "        ...,\n",
       "        [ True],\n",
       "        [ True],\n",
       "        [False]])"
      ]
     },
     "execution_count": 90,
     "metadata": {},
     "output_type": "execute_result"
    }
   ],
   "source": [
    "accuracy"
   ]
  },
  {
   "cell_type": "code",
   "execution_count": 52,
   "metadata": {},
   "outputs": [
    {
     "data": {
      "image/png": "[encoded data removed]",
      "text/plain": [
       "<Figure size 640x480 with 1 Axes>"
      ]
     },
     "metadata": {},
     "output_type": "display_data"
    }
   ],
   "source": [
    "plt.plot(loss_values, label='Loss')\n",
    "plt.plot(accuracy_values, label='Accuracy')\n",
    "plt.xlabel('Epochs')\n",
    "\n",
    "plt.ylabel('Value')\n",
    "plt.legend()\n",
    "plt.show()"
   ]
  },
  {
   "cell_type": "code",
   "execution_count": 42,
   "metadata": {},
   "outputs": [
    {
     "data": {
      "image/png": "[encoded data removed]",
      "text/plain": [
       "<Figure size 640x480 with 1 Axes>"
      ]
     },
     "metadata": {},
     "output_type": "display_data"
    }
   ],
   "source": [
    "plt.plot(loss_values, label='Loss')\n",
    "plt.plot(accuracy_values, label='Accuracy')\n",
    "plt.xlabel('Epochs')\n",
    "\n",
    "plt.ylabel('Value')\n",
    "plt.legend()\n",
    "plt.show()"
   ]
  },
  {
   "cell_type": "code",
   "execution_count": 44,
   "metadata": {},
   "outputs": [
    {
     "data": {
      "image/png": "[encoded data removed]",
      "text/plain": [
       "<Figure size 640x480 with 1 Axes>"
      ]
     },
     "metadata": {},
     "output_type": "display_data"
    }
   ],
   "source": [
    "plt.plot(loss_values, label='Loss')\n",
    "plt.plot(accuracy_values, label='Accuracy')\n",
    "plt.xlabel('Epochs')\n",
    "\n",
    "plt.ylabel('Value')\n",
    "plt.legend()\n",
    "plt.show()"
   ]
  },
  {
   "cell_type": "code",
   "execution_count": 10,
   "metadata": {},
   "outputs": [
    {
     "data": {
      "text/plain": [
       "[0.5470033288002014,\n",
       " 0.5483744144439697,\n",
       " 0.5508905649185181,\n",
       " 0.5538797378540039,\n",
       " 0.5566412210464478,\n",
       " 0.5595460534095764,\n",
       " 0.561373770236969,\n",
       " 0.5621266961097717,\n",
       " 0.5622444152832031,\n",
       " 0.5621718168258667]"
      ]
     },
     "execution_count": 10,
     "metadata": {},
     "output_type": "execute_result"
    }
   ],
   "source": [
    "accuracy_values"
   ]
  },
  {
   "cell_type": "code",
   "execution_count": 61,
   "metadata": {},
   "outputs": [
    {
     "data": {
      "image/png": "[encoded data removed]",
      "text/plain": [
       "<Figure size 640x480 with 1 Axes>"
      ]
     },
     "metadata": {},
     "output_type": "display_data"
    }
   ],
   "source": [
    "plt.plot(loss_values, label='Loss')\n",
    "plt.plot(accuracy_values, label='Accuracy')\n",
    "plt.xlabel('Epochs')\n",
    "\n",
    "plt.ylabel('Value')\n",
    "plt.legend()\n",
    "plt.show()"
   ]
  },
  {
   "cell_type": "code",
   "execution_count": 50,
   "metadata": {},
   "outputs": [
    {
     "data": {
      "image/png": "[encoded data removed]",
      "text/plain": [
       "<Figure size 640x480 with 1 Axes>"
      ]
     },
     "metadata": {},
     "output_type": "display_data"
    }
   ],
   "source": [
    "plt.plot(loss_values, label='Loss')\n",
    "plt.plot(accuracy_values, label='Accuracy')\n",
    "plt.xlabel('Epochs')\n",
    "\n",
    "plt.ylabel('Value')\n",
    "plt.legend()\n",
    "plt.show()"
   ]
  }
 ],
 "metadata": {
  "kernelspec": {
   "display_name": ".venv",
   "language": "python",
   "name": "python3"
  },
  "language_info": {
   "codemirror_mode": {
    "name": "ipython",
    "version": 3
   },
   "file_extension": ".py",
   "mimetype": "text/x-python",
   "name": "python",
   "nbconvert_exporter": "python",
   "pygments_lexer": "ipython3",
   "version": "3.11.2"
  }
 },
 "nbformat": 4,
 "nbformat_minor": 2
}
