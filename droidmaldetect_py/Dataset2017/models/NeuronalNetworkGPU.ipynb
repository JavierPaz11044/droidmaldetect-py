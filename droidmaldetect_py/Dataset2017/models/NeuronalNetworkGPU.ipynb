{
 "cells": [
  {
   "cell_type": "code",
   "execution_count": 2,
   "metadata": {},
   "outputs": [],
   "source": [
    "import torch\n",
    "import torch.nn as nn\n",
    "import torch.optim as optim\n",
    "import pandas as pd\n",
    "import matplotlib.pyplot as plt\n"
   ]
  },
  {
   "cell_type": "code",
   "execution_count": 3,
   "metadata": {},
   "outputs": [],
   "source": [
    "device = \"cuda\" if torch.cuda.is_available() else \"cpu\""
   ]
  },
  {
   "cell_type": "code",
   "execution_count": 3,
   "metadata": {},
   "outputs": [
    {
     "data": {
      "text/plain": [
       "'cuda'"
      ]
     },
     "execution_count": 3,
     "metadata": {},
     "output_type": "execute_result"
    }
   ],
   "source": [
    "device"
   ]
  },
  {
   "cell_type": "code",
   "execution_count": 3,
   "metadata": {},
   "outputs": [],
   "source": [
    "# class RecurrentNeuralNetwork(nn.Module):\n",
    "#     def __init__(self):\n",
    "#         super(RecurrentNeuralNetwork, self).__init__()\n",
    "#         hidden = torch.zeros(5,15)\n",
    "#         cell =  torch.zeros(5,15)\n",
    "#         self.batch =  (hidden, cell)\n",
    "#         self.fc1 = nn.Linear(24, 30)   \n",
    "#         self.rnn = nn.LSTM(30,15 , 5,batch_first=True)\n",
    "#         self.fc2 = nn.Linear(15, 1)\n",
    "#         self.relu =  nn.ReLU()\n",
    "#         self.leaky_relu = nn.LeakyReLU(negative_slope=0.01)  # Agregamos LeakyReLU\n",
    "#         self.sigmoid = nn.Identity()\n",
    "\n",
    "#     def forward(self, x): \n",
    "#         x = self.relu(self.fc1(x)) \n",
    "#         x = self.leaky_relu(x)  \n",
    "#         x, self.batch = self.rnn(x, self.batch)\n",
    "#         x = self.leaky_relu(x)  \n",
    "#         x = self.fc2(x)\n",
    "#         x = self.sigmoid(x)\n",
    "#         return x\n"
   ]
  },
  {
   "cell_type": "code",
   "execution_count": 17,
   "metadata": {},
   "outputs": [],
   "source": []
  },
  {
   "cell_type": "code",
   "execution_count": 4,
   "metadata": {},
   "outputs": [],
   "source": [
    "train_data = pd.read_csv('/home/lpazc/Documentos/Proyects/DroidMalDetect-Py/results/train_dataset_pca.csv')\n",
    "test_data = pd.read_csv('/home/lpazc/Documentos/Proyects/DroidMalDetect-Py/results/test_dataset_pca.csv')"
   ]
  },
  {
   "cell_type": "code",
   "execution_count": 5,
   "metadata": {},
   "outputs": [
    {
     "data": {
      "text/plain": [
       "25"
      ]
     },
     "execution_count": 5,
     "metadata": {},
     "output_type": "execute_result"
    }
   ],
   "source": [
    "train_data.shape.__getitem__(1)"
   ]
  },
  {
   "cell_type": "code",
   "execution_count": 6,
   "metadata": {},
   "outputs": [],
   "source": [
    "import matplotlib.pyplot as plt\n",
    "import seaborn as sns"
   ]
  },
  {
   "cell_type": "code",
   "execution_count": 7,
   "metadata": {},
   "outputs": [],
   "source": [
    "X_train = torch.tensor(train_data.drop('category', axis=1).values).float()\n",
    "y_train = torch.tensor(train_data['category'].values).view(-1, 1).float()\n",
    "X_test = torch.tensor(test_data.drop('category', axis=1).values).float()\n",
    "y_test = torch.tensor(test_data['category'].values).view(-1, 1).float()"
   ]
  },
  {
   "cell_type": "code",
   "execution_count": 15,
   "metadata": {},
   "outputs": [
    {
     "data": {
      "text/plain": [
       "tensor([[-1.8719e+00,  9.5374e-01, -9.2541e-03,  ..., -3.0361e-01,\n",
       "          1.0119e-02,  4.2599e-01],\n",
       "        [-1.5269e+00,  1.1766e+00, -5.7230e-02,  ..., -9.8120e-02,\n",
       "          2.8355e-03, -1.7259e-01],\n",
       "        [ 2.7619e+00,  3.0633e+00, -1.2302e+00,  ..., -2.6059e+00,\n",
       "          7.4816e-02, -1.8710e+00],\n",
       "        ...,\n",
       "        [-2.5090e+00, -1.0908e+00,  5.1043e-01,  ...,  9.2696e-02,\n",
       "          1.6503e-02, -5.2496e-01],\n",
       "        [ 2.9256e+00, -8.6861e+00,  1.3898e+00,  ...,  3.6282e-02,\n",
       "          2.8569e-03, -6.9891e-03],\n",
       "        [-1.8811e+00,  9.3592e-01, -5.5224e-03,  ..., -3.4036e-01,\n",
       "          1.0854e-02,  4.2303e-01]], device='cuda:0')"
      ]
     },
     "execution_count": 15,
     "metadata": {},
     "output_type": "execute_result"
    }
   ],
   "source": [
    "X_test"
   ]
  },
  {
   "cell_type": "code",
   "execution_count": 9,
   "metadata": {},
   "outputs": [
    {
     "data": {
      "text/html": [
       "<div>\n",
       "<style scoped>\n",
       "    .dataframe tbody tr th:only-of-type {\n",
       "        vertical-align: middle;\n",
       "    }\n",
       "\n",
       "    .dataframe tbody tr th {\n",
       "        vertical-align: top;\n",
       "    }\n",
       "\n",
       "    .dataframe thead th {\n",
       "        text-align: right;\n",
       "    }\n",
       "</style>\n",
       "<table border=\"1\" class=\"dataframe\">\n",
       "  <thead>\n",
       "    <tr style=\"text-align: right;\">\n",
       "      <th></th>\n",
       "      <th>PCS-0</th>\n",
       "      <th>PCS-1</th>\n",
       "      <th>PCS-2</th>\n",
       "      <th>PCS-3</th>\n",
       "      <th>PCS-4</th>\n",
       "      <th>PCS-5</th>\n",
       "      <th>PCS-6</th>\n",
       "      <th>PCS-7</th>\n",
       "      <th>PCS-8</th>\n",
       "      <th>PCS-9</th>\n",
       "      <th>...</th>\n",
       "      <th>PCS-15</th>\n",
       "      <th>PCS-16</th>\n",
       "      <th>PCS-17</th>\n",
       "      <th>PCS-18</th>\n",
       "      <th>PCS-19</th>\n",
       "      <th>PCS-20</th>\n",
       "      <th>PCS-21</th>\n",
       "      <th>PCS-22</th>\n",
       "      <th>PCS-23</th>\n",
       "      <th>category</th>\n",
       "    </tr>\n",
       "  </thead>\n",
       "  <tbody>\n",
       "    <tr>\n",
       "      <th>0</th>\n",
       "      <td>-1.719427</td>\n",
       "      <td>1.041112</td>\n",
       "      <td>-0.029033</td>\n",
       "      <td>-0.033945</td>\n",
       "      <td>0.488359</td>\n",
       "      <td>-0.320245</td>\n",
       "      <td>0.675607</td>\n",
       "      <td>0.040008</td>\n",
       "      <td>-0.850674</td>\n",
       "      <td>0.904590</td>\n",
       "      <td>...</td>\n",
       "      <td>0.166457</td>\n",
       "      <td>0.296350</td>\n",
       "      <td>0.170225</td>\n",
       "      <td>0.126065</td>\n",
       "      <td>-0.012936</td>\n",
       "      <td>-0.078119</td>\n",
       "      <td>-0.217705</td>\n",
       "      <td>0.006862</td>\n",
       "      <td>0.172171</td>\n",
       "      <td>0</td>\n",
       "    </tr>\n",
       "    <tr>\n",
       "      <th>1</th>\n",
       "      <td>-2.513016</td>\n",
       "      <td>0.378792</td>\n",
       "      <td>0.180003</td>\n",
       "      <td>-0.033389</td>\n",
       "      <td>0.509032</td>\n",
       "      <td>-0.166350</td>\n",
       "      <td>0.247207</td>\n",
       "      <td>-0.138200</td>\n",
       "      <td>0.478633</td>\n",
       "      <td>-0.355185</td>\n",
       "      <td>...</td>\n",
       "      <td>-0.423369</td>\n",
       "      <td>0.428696</td>\n",
       "      <td>-0.498758</td>\n",
       "      <td>-0.567661</td>\n",
       "      <td>0.053651</td>\n",
       "      <td>0.042064</td>\n",
       "      <td>-0.002884</td>\n",
       "      <td>0.018795</td>\n",
       "      <td>-0.570877</td>\n",
       "      <td>0</td>\n",
       "    </tr>\n",
       "    <tr>\n",
       "      <th>2</th>\n",
       "      <td>7.169543</td>\n",
       "      <td>0.970827</td>\n",
       "      <td>-0.545971</td>\n",
       "      <td>0.185807</td>\n",
       "      <td>-3.243937</td>\n",
       "      <td>-0.199090</td>\n",
       "      <td>-1.077415</td>\n",
       "      <td>-0.185070</td>\n",
       "      <td>1.729826</td>\n",
       "      <td>0.188037</td>\n",
       "      <td>...</td>\n",
       "      <td>-1.130055</td>\n",
       "      <td>-0.283804</td>\n",
       "      <td>0.332416</td>\n",
       "      <td>0.275258</td>\n",
       "      <td>-0.572652</td>\n",
       "      <td>-0.638327</td>\n",
       "      <td>0.332787</td>\n",
       "      <td>-0.019409</td>\n",
       "      <td>0.268257</td>\n",
       "      <td>1</td>\n",
       "    </tr>\n",
       "    <tr>\n",
       "      <th>3</th>\n",
       "      <td>-2.484802</td>\n",
       "      <td>0.321382</td>\n",
       "      <td>0.182738</td>\n",
       "      <td>-0.022501</td>\n",
       "      <td>0.317128</td>\n",
       "      <td>-0.203769</td>\n",
       "      <td>0.532316</td>\n",
       "      <td>-0.171392</td>\n",
       "      <td>0.235577</td>\n",
       "      <td>-0.311109</td>\n",
       "      <td>...</td>\n",
       "      <td>-0.340788</td>\n",
       "      <td>0.405275</td>\n",
       "      <td>-0.597997</td>\n",
       "      <td>-0.307447</td>\n",
       "      <td>0.088032</td>\n",
       "      <td>0.105859</td>\n",
       "      <td>0.135460</td>\n",
       "      <td>0.017582</td>\n",
       "      <td>-0.613108</td>\n",
       "      <td>0</td>\n",
       "    </tr>\n",
       "    <tr>\n",
       "      <th>4</th>\n",
       "      <td>0.095984</td>\n",
       "      <td>-6.182967</td>\n",
       "      <td>0.574045</td>\n",
       "      <td>0.176454</td>\n",
       "      <td>-3.033600</td>\n",
       "      <td>-0.513644</td>\n",
       "      <td>0.781771</td>\n",
       "      <td>1.736568</td>\n",
       "      <td>1.722352</td>\n",
       "      <td>-6.504171</td>\n",
       "      <td>...</td>\n",
       "      <td>2.019361</td>\n",
       "      <td>-2.565433</td>\n",
       "      <td>2.824614</td>\n",
       "      <td>-0.946937</td>\n",
       "      <td>0.259488</td>\n",
       "      <td>-0.222455</td>\n",
       "      <td>1.541727</td>\n",
       "      <td>-0.026497</td>\n",
       "      <td>-0.191912</td>\n",
       "      <td>0</td>\n",
       "    </tr>\n",
       "  </tbody>\n",
       "</table>\n",
       "<p>5 rows × 25 columns</p>\n",
       "</div>"
      ],
      "text/plain": [
       "      PCS-0     PCS-1     PCS-2     PCS-3     PCS-4     PCS-5     PCS-6  \\\n",
       "0 -1.719427  1.041112 -0.029033 -0.033945  0.488359 -0.320245  0.675607   \n",
       "1 -2.513016  0.378792  0.180003 -0.033389  0.509032 -0.166350  0.247207   \n",
       "2  7.169543  0.970827 -0.545971  0.185807 -3.243937 -0.199090 -1.077415   \n",
       "3 -2.484802  0.321382  0.182738 -0.022501  0.317128 -0.203769  0.532316   \n",
       "4  0.095984 -6.182967  0.574045  0.176454 -3.033600 -0.513644  0.781771   \n",
       "\n",
       "      PCS-7     PCS-8     PCS-9  ...    PCS-15    PCS-16    PCS-17    PCS-18  \\\n",
       "0  0.040008 -0.850674  0.904590  ...  0.166457  0.296350  0.170225  0.126065   \n",
       "1 -0.138200  0.478633 -0.355185  ... -0.423369  0.428696 -0.498758 -0.567661   \n",
       "2 -0.185070  1.729826  0.188037  ... -1.130055 -0.283804  0.332416  0.275258   \n",
       "3 -0.171392  0.235577 -0.311109  ... -0.340788  0.405275 -0.597997 -0.307447   \n",
       "4  1.736568  1.722352 -6.504171  ...  2.019361 -2.565433  2.824614 -0.946937   \n",
       "\n",
       "     PCS-19    PCS-20    PCS-21    PCS-22    PCS-23  category  \n",
       "0 -0.012936 -0.078119 -0.217705  0.006862  0.172171         0  \n",
       "1  0.053651  0.042064 -0.002884  0.018795 -0.570877         0  \n",
       "2 -0.572652 -0.638327  0.332787 -0.019409  0.268257         1  \n",
       "3  0.088032  0.105859  0.135460  0.017582 -0.613108         0  \n",
       "4  0.259488 -0.222455  1.541727 -0.026497 -0.191912         0  \n",
       "\n",
       "[5 rows x 25 columns]"
      ]
     },
     "execution_count": 9,
     "metadata": {},
     "output_type": "execute_result"
    }
   ],
   "source": [
    "\n",
    "train_data.head()"
   ]
  },
  {
   "cell_type": "code",
   "execution_count": 18,
   "metadata": {},
   "outputs": [
    {
     "data": {
      "text/plain": [
       "tensor([-1.7194e+00,  1.0411e+00, -2.9033e-02, -3.3945e-02,  4.8836e-01,\n",
       "        -3.2024e-01,  6.7561e-01,  4.0008e-02, -8.5067e-01,  9.0459e-01,\n",
       "         1.4184e+00,  1.5811e-01, -1.1586e-03,  1.9821e-01, -2.6115e-01,\n",
       "         1.6646e-01,  2.9635e-01,  1.7022e-01,  1.2607e-01, -1.2936e-02,\n",
       "        -7.8119e-02, -2.1770e-01,  6.8619e-03,  1.7217e-01], device='cuda:0')"
      ]
     },
     "execution_count": 18,
     "metadata": {},
     "output_type": "execute_result"
    }
   ],
   "source": [
    "X_train[0]"
   ]
  },
  {
   "cell_type": "code",
   "execution_count": 20,
   "metadata": {},
   "outputs": [
    {
     "data": {
      "text/plain": [
       "torch.Size([2218023, 24])"
      ]
     },
     "execution_count": 20,
     "metadata": {},
     "output_type": "execute_result"
    }
   ],
   "source": [
    "X_train.shape"
   ]
  },
  {
   "cell_type": "code",
   "execution_count": 27,
   "metadata": {},
   "outputs": [],
   "source": [
    "# class RecurrentNeuralNetwork(nn.Module):\n",
    "#     def __init__(self):\n",
    "#         super(RecurrentNeuralNetwork, self).__init__()\n",
    "#         self.hidden_size = 15\n",
    "#         self.num_layers = 5\n",
    "#         self.fc1 = nn.Linear(24, 30)\n",
    "#         self.rnn = nn.LSTM(30, self.hidden_size, self.num_layers, batch_first=True)\n",
    "#         self.fc2 = nn.Linear(self.hidden_size, 1)\n",
    "#         self.leaky_relu = nn.ReLU()\n",
    "#         self.relu = nn.LeakyReLU(negative_slope=0.01)\n",
    "#         self.sigmoid = nn.Sigmoid()\n",
    "\n",
    "#     def forward(self, x):\n",
    "#         x = self.relu(self.fc1(x))\n",
    "#         x, (hidden, cell) = self.rnn(x)\n",
    "#         x = self. relu(x)\n",
    "#         x = self.fc2(x)\n",
    "#         x = self.sigmoid(x)\n",
    "#         return x\n",
    "class RecurrentNeuralNetwork(nn.Module):\n",
    "    def __init__(self, size_input):\n",
    "        super(RecurrentNeuralNetwork, self).__init__()\n",
    "        self.hidden_size = 15\n",
    "        self.num_layers = 5\n",
    "        self.fc1 = nn.Linear(size_input, 30)\n",
    "        self.fc2 = nn.Linear(30, 30)\n",
    "        self.fc3 = nn.Linear(self.hidden_size, 15)\n",
    "        self.fc4 = nn.Linear(self.hidden_size, 1)\n",
    "        self.rnn = nn.LSTM(30, self.hidden_size, self.num_layers, batch_first=True)\n",
    "        self.rnn2 = nn.LSTM(15, self.hidden_size, self.num_layers)\n",
    "        self.gru_layer = nn.GRU(input_size=self.hidden_size, hidden_size=self.hidden_size, num_layers=self.num_layers)\n",
    "\n",
    "        self.maxpool = nn.MaxPool1d(kernel_size=2)\n",
    "\n",
    "        self.relu = nn.ReLU()\n",
    "        self.elu = nn.ELU()\n",
    "        self.leaky_relu = nn.LeakyReLU(negative_slope=0.01)\n",
    "        self.sigmoid = nn.Sigmoid()\n",
    "\n",
    "    def forward(self, x):\n",
    "        x = self.relu(self.fc1(x))\n",
    "        x = self.relu(self.fc2(x))\n",
    " \n",
    "        x, (hidden, cell) = self.rnn(x)\n",
    "        x = self.relu(x)\n",
    "        x = self.fc3(x)\n",
    "\n",
    "        x, (hidden, cell) = self.rnn2(x)\n",
    " \n",
    "        x, hidden = self.gru_layer(x, hidden)\n",
    "\n",
    "        x = self.fc4(x)\n",
    "        x = self.sigmoid(x)\n",
    "\n",
    "        return x\n"
   ]
  },
  {
   "cell_type": "code",
   "execution_count": 48,
   "metadata": {},
   "outputs": [],
   "source": []
  },
  {
   "cell_type": "code",
   "execution_count": 30,
   "metadata": {},
   "outputs": [
    {
     "name": "stdout",
     "output_type": "stream",
     "text": [
      "Epoch [1/50], Avg. Loss: 0.6933164055598642, Accuracy: 0.5332985520362854\n",
      "Epoch [2/50], Avg. Loss: 0.6932325859000172, Accuracy: 0.5332985520362854\n",
      "Epoch [3/50], Avg. Loss: 0.6932317679585448, Accuracy: 0.5332985520362854\n",
      "Epoch [4/50], Avg. Loss: 0.6932314918225141, Accuracy: 0.5332985520362854\n",
      "Epoch [5/50], Avg. Loss: 0.6932313905744276, Accuracy: 0.5332985520362854\n",
      "Epoch [6/50], Avg. Loss: 0.6932313634042115, Accuracy: 0.5332985520362854\n",
      "Epoch [7/50], Avg. Loss: 0.6932313684937566, Accuracy: 0.5332985520362854\n",
      "Epoch [8/50], Avg. Loss: 0.693231387416975, Accuracy: 0.5332985520362854\n",
      "Epoch [9/50], Avg. Loss: 0.6932314105564004, Accuracy: 0.5332985520362854\n",
      "Epoch [10/50], Avg. Loss: 0.6932314364743842, Accuracy: 0.5332985520362854\n",
      "Epoch [11/50], Avg. Loss: 0.6932314600571966, Accuracy: 0.5332985520362854\n",
      "Epoch [12/50], Avg. Loss: 0.6932314831590014, Accuracy: 0.5332985520362854\n",
      "Epoch [13/50], Avg. Loss: 0.6932315033532624, Accuracy: 0.5332985520362854\n",
      "Epoch [14/50], Avg. Loss: 0.6932315233486712, Accuracy: 0.5332985520362854\n",
      "Epoch [15/50], Avg. Loss: 0.6932315396733734, Accuracy: 0.5332985520362854\n",
      "Epoch [16/50], Avg. Loss: 0.6932315543212665, Accuracy: 0.5332985520362854\n",
      "Epoch [17/50], Avg. Loss: 0.6932315701515249, Accuracy: 0.5332985520362854\n",
      "Epoch [18/50], Avg. Loss: 0.6932315820584806, Accuracy: 0.5332985520362854\n",
      "Epoch [19/50], Avg. Loss: 0.6932315974238544, Accuracy: 0.5332985520362854\n",
      "Epoch [20/50], Avg. Loss: 0.6932316094168002, Accuracy: 0.5332985520362854\n",
      "Epoch [21/50], Avg. Loss: 0.693231619039641, Accuracy: 0.5332985520362854\n",
      "Epoch [22/50], Avg. Loss: 0.6932316244946444, Accuracy: 0.5332985520362854\n",
      "Epoch [23/50], Avg. Loss: 0.6932316290118171, Accuracy: 0.5332985520362854\n",
      "Epoch [24/50], Avg. Loss: 0.6932316343942662, Accuracy: 0.5332985520362854\n",
      "Epoch [25/50], Avg. Loss: 0.693231638940998, Accuracy: 0.5332985520362854\n",
      "Epoch [26/50], Avg. Loss: 0.6932316427245668, Accuracy: 0.5332985520362854\n",
      "Epoch [27/50], Avg. Loss: 0.6932316537743075, Accuracy: 0.5332985520362854\n",
      "Epoch [28/50], Avg. Loss: 0.6932316649664696, Accuracy: 0.5332985520362854\n",
      "Epoch [29/50], Avg. Loss: 0.693231663321907, Accuracy: 0.5332985520362854\n",
      "Epoch [30/50], Avg. Loss: 0.6932316754250277, Accuracy: 0.5332985520362854\n",
      "Epoch [31/50], Avg. Loss: 0.6932316851956641, Accuracy: 0.5332985520362854\n",
      "Epoch [32/50], Avg. Loss: 0.6932316835081065, Accuracy: 0.5332985520362854\n",
      "Epoch [33/50], Avg. Loss: 0.6932316853246495, Accuracy: 0.5332985520362854\n",
      "Epoch [34/50], Avg. Loss: 0.6932316861684283, Accuracy: 0.5332985520362854\n",
      "Epoch [35/50], Avg. Loss: 0.6932316873776655, Accuracy: 0.5332985520362854\n",
      "Epoch [36/50], Avg. Loss: 0.6932316862947264, Accuracy: 0.5332985520362854\n",
      "Epoch [37/50], Avg. Loss: 0.693231687356168, Accuracy: 0.5332985520362854\n",
      "Epoch [38/50], Avg. Loss: 0.693231692918659, Accuracy: 0.5332985520362854\n",
      "Epoch [39/50], Avg. Loss: 0.6932317001310871, Accuracy: 0.5332985520362854\n",
      "Epoch [40/50], Avg. Loss: 0.6932317016466644, Accuracy: 0.5332985520362854\n",
      "Epoch [41/50], Avg. Loss: 0.6932317065722905, Accuracy: 0.5332985520362854\n",
      "Epoch [42/50], Avg. Loss: 0.6932317060670982, Accuracy: 0.5332985520362854\n",
      "Epoch [43/50], Avg. Loss: 0.693231709337413, Accuracy: 0.5332985520362854\n",
      "Epoch [44/50], Avg. Loss: 0.6932317093427873, Accuracy: 0.5332985520362854\n",
      "Epoch [45/50], Avg. Loss: 0.6932317048068043, Accuracy: 0.5332985520362854\n",
      "Epoch [46/50], Avg. Loss: 0.6932317008996245, Accuracy: 0.5332985520362854\n",
      "Epoch [47/50], Avg. Loss: 0.6932317064244949, Accuracy: 0.5332985520362854\n",
      "Epoch [48/50], Avg. Loss: 0.6932317001794566, Accuracy: 0.5332985520362854\n",
      "Epoch [49/50], Avg. Loss: 0.6932317101946277, Accuracy: 0.5332985520362854\n",
      "Epoch [50/50], Avg. Loss: 0.6932317034981409, Accuracy: 0.5332985520362854\n"
     ]
    }
   ],
   "source": [
    "\n",
    "model = RecurrentNeuralNetwork(X_train.shape.__getitem__(1))\n",
    "model.to(device)\n",
    "optimizer = optim.ASGD(model.parameters(), lr=0.5)\n",
    "criterion = nn.BCEWithLogitsLoss().to(device)\n",
    "loss_values = []\n",
    "accuracy_values = []\n",
    "\n",
    "num_epochs = 50\n",
    "batch_size = 100  # Reduje el tamaño del lote\n",
    "\n",
    "for epoch in range(num_epochs):\n",
    "    model.train()\n",
    "    total_loss = 0.0\n",
    "    total_batches = 0\n",
    "\n",
    "    for i in range(0, len(X_train), batch_size):\n",
    "        batch_X = X_train[i:i + batch_size]\n",
    "        batch_y = y_train[i:i + batch_size]\n",
    "        outputs = model(batch_X.to(device)) \n",
    "        optimizer.zero_grad()\n",
    "        loss = criterion(outputs, batch_y.to(device))\n",
    "        loss.backward()\n",
    "        optimizer.step()\n",
    "\n",
    "        total_loss += loss.item()\n",
    "        total_batches += 1\n",
    "        print(total_loss / total_batches, end='\\r')\n",
    "\n",
    "    average_loss = total_loss / total_batches\n",
    "    loss_values.append(average_loss)\n",
    "    model.eval()\n",
    "    with torch.no_grad():\n",
    "        outputs = model(X_test.to(device))\n",
    "        predicted = (outputs > 0.5).float()\n",
    "        accuracy = (predicted == y_test.to(device)).float().mean()\n",
    "        accuracy_values.append(accuracy.item())\n",
    "    print(f'Epoch [{epoch + 1}/{num_epochs}], Avg. Loss: {average_loss}, Accuracy: {accuracy.item()}')"
   ]
  },
  {
   "cell_type": "code",
   "execution_count": 72,
   "metadata": {},
   "outputs": [
    {
     "name": "stdout",
     "output_type": "stream",
     "text": [
      "tensor([[0.0808],\n",
      "        [0.0674],\n",
      "        [0.0610],\n",
      "        ...,\n",
      "        [0.0524],\n",
      "        [0.0524],\n",
      "        [0.0524]])\n"
     ]
    }
   ],
   "source": [
    "\n",
    "with torch.no_grad():\n",
    "    outputs = model(X_test)\n",
    "    print(outputs)\n",
    "    # predicted = (outputs > 0.5).float()\n",
    "    # accuracy = (predicted == y_test).float().mean()\n",
    "    # accuracy_values.append(accuracy.item())\n",
    "    # print(f'Epoch [{epoch + 1}/{num_epochs}], Loss: {loss.item()}, Accuracy: {accuracy.item()}')"
   ]
  },
  {
   "cell_type": "code",
   "execution_count": 80,
   "metadata": {},
   "outputs": [],
   "source": [
    "loss = criterion(outputs, y_test)"
   ]
  },
  {
   "cell_type": "code",
   "execution_count": 81,
   "metadata": {},
   "outputs": [
    {
     "data": {
      "text/plain": [
       "tensor(0.6952)"
      ]
     },
     "execution_count": 81,
     "metadata": {},
     "output_type": "execute_result"
    }
   ],
   "source": [
    "loss"
   ]
  },
  {
   "cell_type": "code",
   "execution_count": 89,
   "metadata": {},
   "outputs": [],
   "source": [
    "f = (outputs > 0.5).float()\n",
    "accuracy = (predicted == y_test)"
   ]
  },
  {
   "cell_type": "code",
   "execution_count": 90,
   "metadata": {},
   "outputs": [
    {
     "data": {
      "text/plain": [
       "tensor([[ True],\n",
       "        [ True],\n",
       "        [ True],\n",
       "        ...,\n",
       "        [ True],\n",
       "        [ True],\n",
       "        [False]])"
      ]
     },
     "execution_count": 90,
     "metadata": {},
     "output_type": "execute_result"
    }
   ],
   "source": [
    "accuracy"
   ]
  },
  {
   "cell_type": "code",
   "execution_count": 31,
   "metadata": {},
   "outputs": [
    {
     "data": {
      "image/png": "[encoded data removed]",
      "text/plain": [
       "<Figure size 640x480 with 1 Axes>"
      ]
     },
     "metadata": {},
     "output_type": "display_data"
    }
   ],
   "source": [
    "plt.plot(loss_values, label='Loss')\n",
    "plt.plot(accuracy_values, label='Accuracy')\n",
    "plt.xlabel('Epochs')\n",
    "\n",
    "plt.ylabel('Value')\n",
    "plt.legend()\n",
    "plt.show()"
   ]
  },
  {
   "cell_type": "code",
   "execution_count": 10,
   "metadata": {},
   "outputs": [
    {
     "data": {
      "text/plain": [
       "[0.5470033288002014,\n",
       " 0.5483744144439697,\n",
       " 0.5508905649185181,\n",
       " 0.5538797378540039,\n",
       " 0.5566412210464478,\n",
       " 0.5595460534095764,\n",
       " 0.561373770236969,\n",
       " 0.5621266961097717,\n",
       " 0.5622444152832031,\n",
       " 0.5621718168258667]"
      ]
     },
     "execution_count": 10,
     "metadata": {},
     "output_type": "execute_result"
    }
   ],
   "source": [
    "accuracy_values"
   ]
  }
 ],
 "metadata": {
  "kernelspec": {
   "display_name": ".venv",
   "language": "python",
   "name": "python3"
  },
  "language_info": {
   "codemirror_mode": {
    "name": "ipython",
    "version": 3
   },
   "file_extension": ".py",
   "mimetype": "text/x-python",
   "name": "python",
   "nbconvert_exporter": "python",
   "pygments_lexer": "ipython3",
   "version": "3.11.2"
  }
 },
 "nbformat": 4,
 "nbformat_minor": 2
}
