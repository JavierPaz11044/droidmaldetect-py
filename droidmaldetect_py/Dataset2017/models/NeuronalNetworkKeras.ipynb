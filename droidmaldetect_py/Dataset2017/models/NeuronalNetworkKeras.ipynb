{
 "cells": [
  {
   "cell_type": "code",
   "execution_count": 15,
   "metadata": {},
   "outputs": [],
   "source": [
    "import pandas as pd\n",
    "from keras.layers import Activation, SimpleRNN\n",
    "from keras.models import Sequential\n",
    "from keras.layers import Dense\n",
    "from keras.regularizers import l2\n",
    "import keras\n",
    "from sklearn.model_selection import train_test_split"
   ]
  },
  {
   "cell_type": "code",
   "execution_count": 3,
   "metadata": {},
   "outputs": [],
   "source": [
    "dataset_general =  pd.read_csv('/home/lpazc/Documentos/Proyects/DroidMalDetect-Py/results/dataset_pca.csv', index_col=False)"
   ]
  },
  {
   "cell_type": "code",
   "execution_count": 4,
   "metadata": {},
   "outputs": [],
   "source": [
    "categories = dataset_general.category\n",
    "dataset_values =  dataset_general.drop(['category'], axis=1)"
   ]
  },
  {
   "cell_type": "code",
   "execution_count": 7,
   "metadata": {},
   "outputs": [
    {
     "data": {
      "text/plain": [
       "0          0\n",
       "1          0\n",
       "2          0\n",
       "3          0\n",
       "4          0\n",
       "          ..\n",
       "2587689    0\n",
       "2587690    0\n",
       "2587691    0\n",
       "2587692    0\n",
       "2587693    0\n",
       "Name: category, Length: 2587694, dtype: int64"
      ]
     },
     "execution_count": 7,
     "metadata": {},
     "output_type": "execute_result"
    }
   ],
   "source": [
    "categories"
   ]
  },
  {
   "cell_type": "code",
   "execution_count": 10,
   "metadata": {},
   "outputs": [],
   "source": [
    "train_dataset, test_dataset, train_category, test_category =  train_test_split(dataset_values, categories, random_state=42, test_size=1/7)"
   ]
  },
  {
   "cell_type": "code",
   "execution_count": 14,
   "metadata": {},
   "outputs": [],
   "source": [
    "def inputTrain():\n",
    "    return train_dataset\n",
    "\n",
    "def outputTrain():\n",
    "    return train_category\n",
    "\n",
    "def inputTest():\n",
    "    return test_dataset\n",
    "\n",
    "def outputTest():\n",
    "    return test_category\n"
   ]
  },
  {
   "cell_type": "code",
   "execution_count": null,
   "metadata": {},
   "outputs": [],
   "source": [
    "\n",
    "def Network():\n",
    "    modelo = Sequential()\n",
    "    #agregar capas\n",
    "    #model.add(SimpleRNN(1, 100))\n",
    "    modelo.add(Dense(6, input_shape=(7,), kernel_regularizer= l2(0.), activation='relu')) # tanh, sigmoid, relu, tan, normal\n",
    "    modelo.add(Dense(10, kernel_regularizer= l2(0.), activation='relu'))\n",
    "    modelo.add(Dense(10, kernel_regularizer= l2(0.), activation='relu'))\n",
    "    #modelo.add(Dense(5, kernel_regularizer= l2(0.),activation='relu'))\n",
    "    #modelo.add(Dense(256, kernel_initializer='normal',activation='relu'))\n",
    "    #modelo.add(Dense(256, kernel_initializer='normal',activation='relu'))\n",
    "    modelo.add(Dense(1,  kernel_regularizer= l2(0.), activation='linear'))\n",
    "    \n",
    "    #modelo.add(Dense(1,  kernel_initializer= 'normal', activation='linear')) # sigmoid sogmax-> para sacar probabilidades en todos los resultados a= 90%, b=30%, c=60%\n",
    "    modelo.compile(loss='mean_absolute_error', \n",
    "                   optimizer = 'sgd', \n",
    "                   metrics=[[\"accuracy\"]])\n",
    "    modelo.fit(inputTrain(),outputTrain(), epochs=150)\n",
    "    modelo.evaluate(inputTest(),outputTest())\n",
    "    return modelo"
   ]
  },
  {
   "cell_type": "code",
   "execution_count": null,
   "metadata": {},
   "outputs": [],
   "source": [
    "pan"
   ]
  }
 ],
 "metadata": {
  "kernelspec": {
   "display_name": ".venv",
   "language": "python",
   "name": "python3"
  },
  "language_info": {
   "codemirror_mode": {
    "name": "ipython",
    "version": 3
   },
   "file_extension": ".py",
   "mimetype": "text/x-python",
   "name": "python",
   "nbconvert_exporter": "python",
   "pygments_lexer": "ipython3",
   "version": "3.11.2"
  }
 },
 "nbformat": 4,
 "nbformat_minor": 2
}
