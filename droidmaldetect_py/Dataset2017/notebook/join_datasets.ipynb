{
 "cells": [
  {
   "cell_type": "code",
   "execution_count": 1,
   "id": "a27917f3",
   "metadata": {},
   "outputs": [
    {
     "name": "stdout",
     "output_type": "stream",
     "text": [
      "['/home/lpazc/Documentos/Proyects/DroidMalDetect-Py/droidmaldetect_py/Dataset2017/notebook', '/usr/lib/python311.zip', '/usr/lib/python3.11', '/usr/lib/python3.11/lib-dynload', '', '/home/lpazc/Documentos/Proyects/DroidMalDetect-Py/.venv/lib/python3.11/site-packages']\n"
     ]
    }
   ],
   "source": [
    "import sys\n",
    "print(sys.path)\n"
   ]
  },
  {
   "cell_type": "code",
   "execution_count": 2,
   "id": "initial_id",
   "metadata": {
    "ExecuteTime": {
     "end_time": "2023-11-06T01:19:44.635592221Z",
     "start_time": "2023-11-06T01:19:44.588274993Z"
    },
    "collapsed": true
   },
   "outputs": [
    {
     "data": {
      "text/plain": [
       "False"
      ]
     },
     "execution_count": 2,
     "metadata": {},
     "output_type": "execute_result"
    }
   ],
   "source": [
    "import pandas as pd\n",
    "import os\n",
    "import dotenv\n",
    "dotenv.load_dotenv()\n"
   ]
  },
  {
   "cell_type": "code",
   "execution_count": 3,
   "id": "7ff3bfce",
   "metadata": {},
   "outputs": [],
   "source": [
    "# TODO: Columns that can be removed for column correlation analysis\n",
    "# TODO: The initial version may change due to the relationship between the variables\n",
    "\n",
    "datasets_malware = [\n",
    "    {\"path\": [\"dataset/2017_dataset/Adware\"], \"class\":\"Adware\"},\n",
    "    {\"path\": [\"dataset/2017_dataset/Benign\"], \"class\":\"Benign\"},\n",
    "    {\"path\": [\"dataset/2017_dataset/Ransomware\"], \"class\":\"Ransomware\"},\n",
    "    {\"path\": [\"dataset/2017_dataset/Scareware\"], \"class\":\"Scareware\"},\n",
    "    {\"path\": [\"dataset/2017_dataset/SMSmalware\"], \"class\":\"SMSmalware\"},\n",
    "]"
   ]
  },
  {
   "cell_type": "code",
   "execution_count": 4,
   "metadata": {},
   "outputs": [],
   "source": [
    "abs_path_result = os.getenv('FOLDER_RESULT')"
   ]
  },
  {
   "cell_type": "code",
   "execution_count": 4,
   "id": "e9f977425febc439",
   "metadata": {
    "ExecuteTime": {
     "end_time": "2023-11-06T01:28:44.735461506Z",
     "start_time": "2023-11-06T01:28:44.726879719Z"
    },
    "collapsed": false
   },
   "outputs": [
    {
     "data": {
      "text/plain": [
       "['ADWARE.csv',\n",
       " 'BENIGN.csv',\n",
       " 'RANSOMWARE.csv',\n",
       " 'SCAREWARE.csv',\n",
       " 'SMSMALWARE.csv']"
      ]
     },
     "execution_count": 4,
     "metadata": {},
     "output_type": "execute_result"
    }
   ],
   "source": [
    "abs_path_result = \"/home/lpazc/Documentos/Proyects/DroidMalDetect-Py/results\"\n",
    "categories =  [\"\".join([category['class'].upper(), '.csv']) for category in datasets_malware]\n",
    "column_to_delete = [\"Source IP\", \"Destination IP\", \"Timestamp\", \"Label\"]\n",
    "\n",
    "categories"
   ]
  },
  {
   "cell_type": "code",
   "execution_count": 5,
   "id": "e04e0bab60e6afd5",
   "metadata": {
    "ExecuteTime": {
     "start_time": "2023-11-06T01:44:37.664363714Z"
    },
    "collapsed": false,
    "is_executing": true
   },
   "outputs": [
    {
     "name": "stdout",
     "output_type": "stream",
     "text": [
      "ADWARE.csv\n",
      "BENIGN.csv\n",
      "RANSOMWARE.csv\n",
      "SCAREWARE.csv\n",
      "SMSMALWARE.csv\n"
     ]
    }
   ],
   "source": [
    "dataframe_general =  pd.DataFrame()\n",
    "for category in categories:\n",
    "    csv_path = os.path.join(abs_path_result, category)\n",
    "    temp_dataframe: pd.DataFrame =  pd.read_csv(csv_path, index_col=False)\n",
    "    print(category)\n",
    "    dataframe_general =  pd.concat([dataframe_general, temp_dataframe], ignore_index=True)"
   ]
  },
  {
   "cell_type": "code",
   "execution_count": 6,
   "id": "2cb735f1",
   "metadata": {},
   "outputs": [
    {
     "data": {
      "text/plain": [
       "Source IP            object\n",
       "Source Port         float64\n",
       "Destination IP       object\n",
       "Destination Port    float64\n",
       "Protocol            float64\n",
       "                     ...   \n",
       "Idle Mean           float64\n",
       "Idle Std            float64\n",
       "Idle Max            float64\n",
       "Idle Min            float64\n",
       "Label                object\n",
       "Length: 84, dtype: object"
      ]
     },
     "execution_count": 6,
     "metadata": {},
     "output_type": "execute_result"
    }
   ],
   "source": [
    "dataframe_general.dtypes"
   ]
  },
  {
   "cell_type": "code",
   "execution_count": 17,
   "metadata": {},
   "outputs": [
    {
     "data": {
      "text/html": [
       "<div>\n",
       "<style scoped>\n",
       "    .dataframe tbody tr th:only-of-type {\n",
       "        vertical-align: middle;\n",
       "    }\n",
       "\n",
       "    .dataframe tbody tr th {\n",
       "        vertical-align: top;\n",
       "    }\n",
       "\n",
       "    .dataframe thead th {\n",
       "        text-align: right;\n",
       "    }\n",
       "</style>\n",
       "<table border=\"1\" class=\"dataframe\">\n",
       "  <thead>\n",
       "    <tr style=\"text-align: right;\">\n",
       "      <th></th>\n",
       "      <th>Source IP</th>\n",
       "      <th>Source Port</th>\n",
       "      <th>Destination IP</th>\n",
       "      <th>Destination Port</th>\n",
       "      <th>Protocol</th>\n",
       "      <th>Timestamp</th>\n",
       "      <th>Flow Duration</th>\n",
       "      <th>Total Fwd Packets</th>\n",
       "      <th>Total Backward Packets</th>\n",
       "      <th>Total Length of Fwd Packets</th>\n",
       "      <th>...</th>\n",
       "      <th>Active Mean</th>\n",
       "      <th>Active Std</th>\n",
       "      <th>Active Max</th>\n",
       "      <th>Active Min</th>\n",
       "      <th>Idle Mean</th>\n",
       "      <th>Idle Std</th>\n",
       "      <th>Idle Max</th>\n",
       "      <th>Idle Min</th>\n",
       "      <th>Label</th>\n",
       "      <th>category</th>\n",
       "    </tr>\n",
       "  </thead>\n",
       "  <tbody>\n",
       "    <tr>\n",
       "      <th>0</th>\n",
       "      <td>31.13.71.1</td>\n",
       "      <td>443.0</td>\n",
       "      <td>10.42.0.151</td>\n",
       "      <td>38833.0</td>\n",
       "      <td>6.0</td>\n",
       "      <td>14/06/2017 04:26:15</td>\n",
       "      <td>13.0</td>\n",
       "      <td>2.0</td>\n",
       "      <td>0.0</td>\n",
       "      <td>42.0</td>\n",
       "      <td>...</td>\n",
       "      <td>0.0</td>\n",
       "      <td>0.0</td>\n",
       "      <td>0.0</td>\n",
       "      <td>0.0</td>\n",
       "      <td>0.0</td>\n",
       "      <td>0.0</td>\n",
       "      <td>0.0</td>\n",
       "      <td>0.0</td>\n",
       "      <td>ADWARE_SHUANET</td>\n",
       "      <td>0</td>\n",
       "    </tr>\n",
       "    <tr>\n",
       "      <th>1</th>\n",
       "      <td>10.42.0.151</td>\n",
       "      <td>38833.0</td>\n",
       "      <td>31.13.71.1</td>\n",
       "      <td>443.0</td>\n",
       "      <td>6.0</td>\n",
       "      <td>14/06/2017 04:26:15</td>\n",
       "      <td>24906.0</td>\n",
       "      <td>1.0</td>\n",
       "      <td>1.0</td>\n",
       "      <td>0.0</td>\n",
       "      <td>...</td>\n",
       "      <td>0.0</td>\n",
       "      <td>0.0</td>\n",
       "      <td>0.0</td>\n",
       "      <td>0.0</td>\n",
       "      <td>0.0</td>\n",
       "      <td>0.0</td>\n",
       "      <td>0.0</td>\n",
       "      <td>0.0</td>\n",
       "      <td>ADWARE_SHUANET</td>\n",
       "      <td>0</td>\n",
       "    </tr>\n",
       "    <tr>\n",
       "      <th>2</th>\n",
       "      <td>10.42.0.151</td>\n",
       "      <td>38833.0</td>\n",
       "      <td>31.13.71.1</td>\n",
       "      <td>443.0</td>\n",
       "      <td>6.0</td>\n",
       "      <td>14/06/2017 04:26:15</td>\n",
       "      <td>163.0</td>\n",
       "      <td>2.0</td>\n",
       "      <td>0.0</td>\n",
       "      <td>42.0</td>\n",
       "      <td>...</td>\n",
       "      <td>0.0</td>\n",
       "      <td>0.0</td>\n",
       "      <td>0.0</td>\n",
       "      <td>0.0</td>\n",
       "      <td>0.0</td>\n",
       "      <td>0.0</td>\n",
       "      <td>0.0</td>\n",
       "      <td>0.0</td>\n",
       "      <td>ADWARE_SHUANET</td>\n",
       "      <td>0</td>\n",
       "    </tr>\n",
       "    <tr>\n",
       "      <th>3</th>\n",
       "      <td>10.42.0.151</td>\n",
       "      <td>41420.0</td>\n",
       "      <td>172.217.6.237</td>\n",
       "      <td>443.0</td>\n",
       "      <td>6.0</td>\n",
       "      <td>14/06/2017 04:26:15</td>\n",
       "      <td>277972.0</td>\n",
       "      <td>2.0</td>\n",
       "      <td>0.0</td>\n",
       "      <td>0.0</td>\n",
       "      <td>...</td>\n",
       "      <td>0.0</td>\n",
       "      <td>0.0</td>\n",
       "      <td>0.0</td>\n",
       "      <td>0.0</td>\n",
       "      <td>0.0</td>\n",
       "      <td>0.0</td>\n",
       "      <td>0.0</td>\n",
       "      <td>0.0</td>\n",
       "      <td>ADWARE_SHUANET</td>\n",
       "      <td>0</td>\n",
       "    </tr>\n",
       "    <tr>\n",
       "      <th>4</th>\n",
       "      <td>10.42.0.151</td>\n",
       "      <td>41420.0</td>\n",
       "      <td>172.217.6.237</td>\n",
       "      <td>443.0</td>\n",
       "      <td>6.0</td>\n",
       "      <td>14/06/2017 04:26:16</td>\n",
       "      <td>1123796.0</td>\n",
       "      <td>2.0</td>\n",
       "      <td>0.0</td>\n",
       "      <td>0.0</td>\n",
       "      <td>...</td>\n",
       "      <td>0.0</td>\n",
       "      <td>0.0</td>\n",
       "      <td>0.0</td>\n",
       "      <td>0.0</td>\n",
       "      <td>0.0</td>\n",
       "      <td>0.0</td>\n",
       "      <td>0.0</td>\n",
       "      <td>0.0</td>\n",
       "      <td>ADWARE_SHUANET</td>\n",
       "      <td>0</td>\n",
       "    </tr>\n",
       "    <tr>\n",
       "      <th>...</th>\n",
       "      <td>...</td>\n",
       "      <td>...</td>\n",
       "      <td>...</td>\n",
       "      <td>...</td>\n",
       "      <td>...</td>\n",
       "      <td>...</td>\n",
       "      <td>...</td>\n",
       "      <td>...</td>\n",
       "      <td>...</td>\n",
       "      <td>...</td>\n",
       "      <td>...</td>\n",
       "      <td>...</td>\n",
       "      <td>...</td>\n",
       "      <td>...</td>\n",
       "      <td>...</td>\n",
       "      <td>...</td>\n",
       "      <td>...</td>\n",
       "      <td>...</td>\n",
       "      <td>...</td>\n",
       "      <td>...</td>\n",
       "      <td>...</td>\n",
       "    </tr>\n",
       "    <tr>\n",
       "      <th>2613734</th>\n",
       "      <td>10.42.0.151</td>\n",
       "      <td>58368.0</td>\n",
       "      <td>192.229.163.180</td>\n",
       "      <td>443.0</td>\n",
       "      <td>6.0</td>\n",
       "      <td>30/06/2017 04:42:24</td>\n",
       "      <td>7583003.0</td>\n",
       "      <td>2.0</td>\n",
       "      <td>0.0</td>\n",
       "      <td>0.0</td>\n",
       "      <td>...</td>\n",
       "      <td>0.0</td>\n",
       "      <td>0.0</td>\n",
       "      <td>0.0</td>\n",
       "      <td>0.0</td>\n",
       "      <td>7583003.0</td>\n",
       "      <td>0.0</td>\n",
       "      <td>7583003.0</td>\n",
       "      <td>7583003.0</td>\n",
       "      <td>SMSMALWARE_BEANBOT</td>\n",
       "      <td>0</td>\n",
       "    </tr>\n",
       "    <tr>\n",
       "      <th>2613735</th>\n",
       "      <td>10.42.0.151</td>\n",
       "      <td>21164.0</td>\n",
       "      <td>10.42.0.1</td>\n",
       "      <td>53.0</td>\n",
       "      <td>17.0</td>\n",
       "      <td>30/06/2017 04:17:44</td>\n",
       "      <td>73511.0</td>\n",
       "      <td>1.0</td>\n",
       "      <td>1.0</td>\n",
       "      <td>34.0</td>\n",
       "      <td>...</td>\n",
       "      <td>0.0</td>\n",
       "      <td>0.0</td>\n",
       "      <td>0.0</td>\n",
       "      <td>0.0</td>\n",
       "      <td>0.0</td>\n",
       "      <td>0.0</td>\n",
       "      <td>0.0</td>\n",
       "      <td>0.0</td>\n",
       "      <td>SMSMALWARE_BEANBOT</td>\n",
       "      <td>0</td>\n",
       "    </tr>\n",
       "    <tr>\n",
       "      <th>2613736</th>\n",
       "      <td>54.239.17.112</td>\n",
       "      <td>443.0</td>\n",
       "      <td>10.42.0.151</td>\n",
       "      <td>43100.0</td>\n",
       "      <td>6.0</td>\n",
       "      <td>30/06/2017 04:34:17</td>\n",
       "      <td>67152.0</td>\n",
       "      <td>1.0</td>\n",
       "      <td>1.0</td>\n",
       "      <td>0.0</td>\n",
       "      <td>...</td>\n",
       "      <td>0.0</td>\n",
       "      <td>0.0</td>\n",
       "      <td>0.0</td>\n",
       "      <td>0.0</td>\n",
       "      <td>0.0</td>\n",
       "      <td>0.0</td>\n",
       "      <td>0.0</td>\n",
       "      <td>0.0</td>\n",
       "      <td>SMSMALWARE_BEANBOT</td>\n",
       "      <td>0</td>\n",
       "    </tr>\n",
       "    <tr>\n",
       "      <th>2613737</th>\n",
       "      <td>10.42.0.151</td>\n",
       "      <td>9986.0</td>\n",
       "      <td>10.42.0.1</td>\n",
       "      <td>53.0</td>\n",
       "      <td>17.0</td>\n",
       "      <td>30/06/2017 04:15:34</td>\n",
       "      <td>170111.0</td>\n",
       "      <td>1.0</td>\n",
       "      <td>1.0</td>\n",
       "      <td>34.0</td>\n",
       "      <td>...</td>\n",
       "      <td>0.0</td>\n",
       "      <td>0.0</td>\n",
       "      <td>0.0</td>\n",
       "      <td>0.0</td>\n",
       "      <td>0.0</td>\n",
       "      <td>0.0</td>\n",
       "      <td>0.0</td>\n",
       "      <td>0.0</td>\n",
       "      <td>SMSMALWARE_BEANBOT</td>\n",
       "      <td>0</td>\n",
       "    </tr>\n",
       "    <tr>\n",
       "      <th>2613738</th>\n",
       "      <td>10.42.0.151</td>\n",
       "      <td>51160.0</td>\n",
       "      <td>54.230.38.227</td>\n",
       "      <td>443.0</td>\n",
       "      <td>6.0</td>\n",
       "      <td>30/06/2017 04:34:03</td>\n",
       "      <td>12712163.0</td>\n",
       "      <td>10.0</td>\n",
       "      <td>7.0</td>\n",
       "      <td>328.0</td>\n",
       "      <td>...</td>\n",
       "      <td>150464.0</td>\n",
       "      <td>0.0</td>\n",
       "      <td>150464.0</td>\n",
       "      <td>150464.0</td>\n",
       "      <td>12561699.0</td>\n",
       "      <td>0.0</td>\n",
       "      <td>12561699.0</td>\n",
       "      <td>12561699.0</td>\n",
       "      <td>SMSMALWARE_BEANBOT</td>\n",
       "      <td>0</td>\n",
       "    </tr>\n",
       "  </tbody>\n",
       "</table>\n",
       "<p>2613739 rows × 85 columns</p>\n",
       "</div>"
      ],
      "text/plain": [
       "             Source IP  Source Port   Destination IP  Destination Port  \\\n",
       "0           31.13.71.1        443.0      10.42.0.151           38833.0   \n",
       "1          10.42.0.151      38833.0       31.13.71.1             443.0   \n",
       "2          10.42.0.151      38833.0       31.13.71.1             443.0   \n",
       "3          10.42.0.151      41420.0    172.217.6.237             443.0   \n",
       "4          10.42.0.151      41420.0    172.217.6.237             443.0   \n",
       "...                ...          ...              ...               ...   \n",
       "2613734    10.42.0.151      58368.0  192.229.163.180             443.0   \n",
       "2613735    10.42.0.151      21164.0        10.42.0.1              53.0   \n",
       "2613736  54.239.17.112        443.0      10.42.0.151           43100.0   \n",
       "2613737    10.42.0.151       9986.0        10.42.0.1              53.0   \n",
       "2613738    10.42.0.151      51160.0    54.230.38.227             443.0   \n",
       "\n",
       "         Protocol            Timestamp  Flow Duration  Total Fwd Packets  \\\n",
       "0             6.0  14/06/2017 04:26:15           13.0                2.0   \n",
       "1             6.0  14/06/2017 04:26:15        24906.0                1.0   \n",
       "2             6.0  14/06/2017 04:26:15          163.0                2.0   \n",
       "3             6.0  14/06/2017 04:26:15       277972.0                2.0   \n",
       "4             6.0  14/06/2017 04:26:16      1123796.0                2.0   \n",
       "...           ...                  ...            ...                ...   \n",
       "2613734       6.0  30/06/2017 04:42:24      7583003.0                2.0   \n",
       "2613735      17.0  30/06/2017 04:17:44        73511.0                1.0   \n",
       "2613736       6.0  30/06/2017 04:34:17        67152.0                1.0   \n",
       "2613737      17.0  30/06/2017 04:15:34       170111.0                1.0   \n",
       "2613738       6.0  30/06/2017 04:34:03     12712163.0               10.0   \n",
       "\n",
       "         Total Backward Packets  Total Length of Fwd Packets  ...  \\\n",
       "0                           0.0                         42.0  ...   \n",
       "1                           1.0                          0.0  ...   \n",
       "2                           0.0                         42.0  ...   \n",
       "3                           0.0                          0.0  ...   \n",
       "4                           0.0                          0.0  ...   \n",
       "...                         ...                          ...  ...   \n",
       "2613734                     0.0                          0.0  ...   \n",
       "2613735                     1.0                         34.0  ...   \n",
       "2613736                     1.0                          0.0  ...   \n",
       "2613737                     1.0                         34.0  ...   \n",
       "2613738                     7.0                        328.0  ...   \n",
       "\n",
       "         Active Mean  Active Std  Active Max  Active Min   Idle Mean  \\\n",
       "0                0.0         0.0         0.0         0.0         0.0   \n",
       "1                0.0         0.0         0.0         0.0         0.0   \n",
       "2                0.0         0.0         0.0         0.0         0.0   \n",
       "3                0.0         0.0         0.0         0.0         0.0   \n",
       "4                0.0         0.0         0.0         0.0         0.0   \n",
       "...              ...         ...         ...         ...         ...   \n",
       "2613734          0.0         0.0         0.0         0.0   7583003.0   \n",
       "2613735          0.0         0.0         0.0         0.0         0.0   \n",
       "2613736          0.0         0.0         0.0         0.0         0.0   \n",
       "2613737          0.0         0.0         0.0         0.0         0.0   \n",
       "2613738     150464.0         0.0    150464.0    150464.0  12561699.0   \n",
       "\n",
       "         Idle Std    Idle Max    Idle Min               Label  category  \n",
       "0             0.0         0.0         0.0      ADWARE_SHUANET         0  \n",
       "1             0.0         0.0         0.0      ADWARE_SHUANET         0  \n",
       "2             0.0         0.0         0.0      ADWARE_SHUANET         0  \n",
       "3             0.0         0.0         0.0      ADWARE_SHUANET         0  \n",
       "4             0.0         0.0         0.0      ADWARE_SHUANET         0  \n",
       "...           ...         ...         ...                 ...       ...  \n",
       "2613734       0.0   7583003.0   7583003.0  SMSMALWARE_BEANBOT         0  \n",
       "2613735       0.0         0.0         0.0  SMSMALWARE_BEANBOT         0  \n",
       "2613736       0.0         0.0         0.0  SMSMALWARE_BEANBOT         0  \n",
       "2613737       0.0         0.0         0.0  SMSMALWARE_BEANBOT         0  \n",
       "2613738       0.0  12561699.0  12561699.0  SMSMALWARE_BEANBOT         0  \n",
       "\n",
       "[2613739 rows x 85 columns]"
      ]
     },
     "execution_count": 17,
     "metadata": {},
     "output_type": "execute_result"
    }
   ],
   "source": [
    "dataframe_general"
   ]
  },
  {
   "cell_type": "code",
   "execution_count": 7,
   "id": "cc53d4ed",
   "metadata": {},
   "outputs": [],
   "source": [
    "dataframe_general['category'] = dataframe_general.Label.apply(lambda category:  1 if 'BENIGN' in category else 0)"
   ]
  },
  {
   "cell_type": "code",
   "execution_count": 8,
   "id": "44b654ed",
   "metadata": {},
   "outputs": [
    {
     "data": {
      "text/plain": [
       "<Axes: >"
      ]
     },
     "execution_count": 8,
     "metadata": {},
     "output_type": "execute_result"
    },
    {
     "data": {
      "image/png": "[encoded data removed]",
      "text/plain": [
       "<Figure size 640x480 with 1 Axes>"
      ]
     },
     "metadata": {},
     "output_type": "display_data"
    }
   ],
   "source": [
    "dataframe_general.Label.hist()"
   ]
  },
  {
   "cell_type": "code",
   "execution_count": 9,
   "id": "ab1305333d1cec84",
   "metadata": {
    "ExecuteTime": {
     "end_time": "2023-11-06T01:41:49.914644597Z",
     "start_time": "2023-11-06T01:41:49.646512581Z"
    },
    "collapsed": false
   },
   "outputs": [
    {
     "data": {
      "text/plain": [
       "<Axes: >"
      ]
     },
     "execution_count": 9,
     "metadata": {},
     "output_type": "execute_result"
    },
    {
     "data": {
      "image/png": "[encoded data removed]",
      "text/plain": [
       "<Figure size 640x480 with 1 Axes>"
      ]
     },
     "metadata": {},
     "output_type": "display_data"
    }
   ],
   "source": [
    "dataframe_general['category'].hist()"
   ]
  },
  {
   "cell_type": "code",
   "execution_count": 10,
   "id": "10d26ff1",
   "metadata": {},
   "outputs": [
    {
     "data": {
      "text/plain": [
       "222167815"
      ]
     },
     "execution_count": 10,
     "metadata": {},
     "output_type": "execute_result"
    }
   ],
   "source": [
    "dataframe_general.size"
   ]
  },
  {
   "cell_type": "code",
   "execution_count": 11,
   "id": "cc087135",
   "metadata": {},
   "outputs": [
    {
     "data": {
      "text/plain": [
       "Source IP            object\n",
       "Source Port         float64\n",
       "Destination IP       object\n",
       "Destination Port    float64\n",
       "Protocol            float64\n",
       "                     ...   \n",
       "Idle Std            float64\n",
       "Idle Max            float64\n",
       "Idle Min            float64\n",
       "Label                object\n",
       "category              int64\n",
       "Length: 85, dtype: object"
      ]
     },
     "execution_count": 11,
     "metadata": {},
     "output_type": "execute_result"
    }
   ],
   "source": [
    "dataframe_general.dtypes"
   ]
  },
  {
   "cell_type": "code",
   "execution_count": 12,
   "id": "fb000a03",
   "metadata": {},
   "outputs": [],
   "source": [
    "not_numeric_columns =  dataframe_general.select_dtypes(exclude=['int', 'float'])\n",
    "dataframe_general.drop(not_numeric_columns.columns, inplace=True, axis=1)"
   ]
  },
  {
   "cell_type": "code",
   "execution_count": 13,
   "id": "506a40f9",
   "metadata": {},
   "outputs": [
    {
     "data": {
      "text/plain": [
       "Index(['Source Port', 'Destination Port', 'Protocol', 'Flow Duration',\n",
       "       'Total Fwd Packets', 'Total Backward Packets',\n",
       "       'Total Length of Fwd Packets', 'Total Length of Bwd Packets',\n",
       "       'Fwd Packet Length Max', 'Fwd Packet Length Min',\n",
       "       'Fwd Packet Length Mean', 'Fwd Packet Length Std',\n",
       "       'Bwd Packet Length Max', 'Bwd Packet Length Min',\n",
       "       'Bwd Packet Length Mean', 'Bwd Packet Length Std', 'Flow Bytes/s',\n",
       "       'Flow Packets/s', 'Flow IAT Mean', 'Flow IAT Std', 'Flow IAT Max',\n",
       "       'Flow IAT Min', 'Fwd IAT Total', 'Fwd IAT Mean', 'Fwd IAT Std',\n",
       "       'Fwd IAT Max', 'Fwd IAT Min', 'Bwd IAT Total', 'Bwd IAT Mean',\n",
       "       'Bwd IAT Std', 'Bwd IAT Max', 'Bwd IAT Min', 'Fwd PSH Flags',\n",
       "       'Bwd PSH Flags', 'Fwd URG Flags', 'Bwd URG Flags', 'Fwd Header Length',\n",
       "       'Bwd Header Length', 'Fwd Packets/s', 'Bwd Packets/s',\n",
       "       'Min Packet Length', 'Max Packet Length', 'Packet Length Mean',\n",
       "       'Packet Length Std', 'Packet Length Variance', 'FIN Flag Count',\n",
       "       'SYN Flag Count', 'RST Flag Count', 'PSH Flag Count', 'ACK Flag Count',\n",
       "       'URG Flag Count', 'CWE Flag Count', 'ECE Flag Count', 'Down/Up Ratio',\n",
       "       'Average Packet Size', 'Avg Fwd Segment Size', 'Avg Bwd Segment Size',\n",
       "       'Fwd Header Length.1', 'Fwd Avg Bytes/Bulk', 'Fwd Avg Packets/Bulk',\n",
       "       'Fwd Avg Bulk Rate', 'Bwd Avg Bytes/Bulk', 'Bwd Avg Packets/Bulk',\n",
       "       'Bwd Avg Bulk Rate', 'Subflow Fwd Packets', 'Subflow Fwd Bytes',\n",
       "       'Subflow Bwd Packets', 'Subflow Bwd Bytes', 'Init_Win_bytes_forward',\n",
       "       'Init_Win_bytes_backward', 'act_data_pkt_fwd', 'min_seg_size_forward',\n",
       "       'Active Mean', 'Active Std', 'Active Max', 'Active Min', 'Idle Mean',\n",
       "       'Idle Std', 'Idle Max', 'Idle Min', 'category'],\n",
       "      dtype='object')"
      ]
     },
     "execution_count": 13,
     "metadata": {},
     "output_type": "execute_result"
    }
   ],
   "source": [
    "dataframe_general.columns"
   ]
  },
  {
   "cell_type": "code",
   "execution_count": 14,
   "id": "20700840",
   "metadata": {},
   "outputs": [],
   "source": [
    "size_dataset_before_duplicates = dataframe_general.shape\n",
    "dataframe_general_filter = dataframe_general.drop_duplicates(keep='first')\n",
    "size_dataset_after_duplicates = dataframe_general_filter.shape"
   ]
  },
  {
   "cell_type": "code",
   "execution_count": 15,
   "id": "a4f2907c",
   "metadata": {},
   "outputs": [],
   "source": [
    "general_shape = pd.DataFrame([\n",
    "    {'rows': size_dataset_before_duplicates[0], 'Columns': size_dataset_before_duplicates[1]},\n",
    "    {'rows': size_dataset_after_duplicates[0], 'Columns': size_dataset_after_duplicates[1]}\n",
    "])"
   ]
  },
  {
   "cell_type": "code",
   "execution_count": 16,
   "id": "08d49f10",
   "metadata": {},
   "outputs": [],
   "source": [
    "import matplotlib.pyplot as plt"
   ]
  },
  {
   "cell_type": "code",
   "execution_count": 17,
   "id": "464260b5",
   "metadata": {},
   "outputs": [
    {
     "data": {
      "text/plain": [
       "<Figure size 600x400 with 0 Axes>"
      ]
     },
     "metadata": {},
     "output_type": "display_data"
    },
    {
     "data": {
      "image/png": "[encoded data removed]",
      "text/plain": [
       "<Figure size 640x480 with 1 Axes>"
      ]
     },
     "metadata": {},
     "output_type": "display_data"
    }
   ],
   "source": [
    "plt.figure(figsize=(6, 4))\n",
    "general_shape.plot(kind='bar', rot=0)\n",
    "plt.title('Forma del DataFrame')\n",
    "plt.xlabel('Tipo')\n",
    "plt.ylabel('Cantidad')\n",
    "plt.show()"
   ]
  },
  {
   "cell_type": "code",
   "execution_count": 24,
   "metadata": {},
   "outputs": [],
   "source": [
    "variance =  dataframe_general_filter.var()"
   ]
  },
  {
   "cell_type": "code",
   "execution_count": 29,
   "metadata": {},
   "outputs": [
    {
     "data": {
      "text/plain": [
       "<NumpyExtensionArray>\n",
       "[     337983530.1580065,      225161582.4450403,     20.660794738399762,\n",
       "      483255928374284.6,       4896.59529825846,      46005.39499282215,\n",
       "      740599435.3883982,      94924957432.62682,     165807.01744083056,\n",
       "     3310.9342225882597,     16207.424538956098,      25331.98180961932,\n",
       "      307469.3985994673,      4697.568550375883,     103985.86812786132,\n",
       "      54513.36986644308,     1002095510830.7386,      1680062708.049722,\n",
       "      64061904788436.76,     40426205399889.375,     339628572320927.94,\n",
       "      54081891949895.33,     343805441641938.06,      71807498121211.31,\n",
       "      38119386612044.75,     209409215484846.12,      59170528768971.38,\n",
       "      331666589335132.3,      22627994512989.51,     28496246645319.355,\n",
       "      236175862223681.9,     15178254671298.795,    0.06866875075573875,\n",
       "                    0.0,                    0.0,                    0.0,\n",
       " 2.9783175789253056e+16,  8.993381945258886e+16,     1325647886.9112585,\n",
       "     125378032.14201142,      522.2472695201207,      360140.2459809094,\n",
       "      41744.16703424951,     53776.538003571055,     23061053294.881218,\n",
       "   0.014974980077697033,    0.06866875075573875,                    0.0,\n",
       "    0.21745885164764786,    0.24716694860482205,    0.16827135622214034,\n",
       "                    0.0,                    0.0,     0.4257173600607645,\n",
       "      44212.96040353629,     16207.424538956098,     103985.86812786132,\n",
       " 2.9783175789253056e+16,                    0.0,                    0.0,\n",
       "                    0.0,                    0.0,                    0.0,\n",
       "                    0.0,       4896.59529825846,      740599435.3883982,\n",
       "      46005.39499282215,      94924957432.62682,      929519215.8005548,\n",
       "       71295300.1185079,     411.12255253258655,     19007603333568.004,\n",
       "      817320811747.0734,     113377950761.82889,     1158286823615.0544,\n",
       "      714236984215.8856,     214880589049077.38,      8871182268138.053,\n",
       "      237151134189141.8,      204679861669520.4,    0.24895437117186842]\n",
       "Length: 81, dtype: float64"
      ]
     },
     "execution_count": 29,
     "metadata": {},
     "output_type": "execute_result"
    }
   ],
   "source": [
    "variance.array"
   ]
  },
  {
   "cell_type": "code",
   "execution_count": 22,
   "metadata": {},
   "outputs": [
    {
     "name": "stdout",
     "output_type": "stream",
     "text": [
      "0.0\n",
      "0.0\n",
      "0.0\n",
      "0.0\n",
      "0.0\n",
      "0.0\n",
      "0.0\n",
      "0.0\n",
      "0.0\n",
      "0.0\n",
      "0.0\n",
      "0.0\n"
     ]
    }
   ],
   "source": [
    "for i in dataframe_general_filter.var():\n",
    "    if i == 0:\n",
    "     print(i)"
   ]
  },
  {
   "cell_type": "code",
   "execution_count": 19,
   "id": "3fdc9d88",
   "metadata": {},
   "outputs": [],
   "source": [
    "dataframe_general_filter.to_csv(os.path.join(abs_path_result, 'general_malware.csv'), index=False)"
   ]
  }
 ],
 "metadata": {
  "kernelspec": {
   "display_name": "Python 3",
   "language": "python",
   "name": "python3"
  },
  "language_info": {
   "codemirror_mode": {
    "name": "ipython",
    "version": 3
   },
   "file_extension": ".py",
   "mimetype": "text/x-python",
   "name": "python",
   "nbconvert_exporter": "python",
   "pygments_lexer": "ipython3",
   "version": "3.11.2"
  }
 },
 "nbformat": 4,
 "nbformat_minor": 5
}
