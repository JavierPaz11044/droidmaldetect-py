{
 "cells": [
  {
   "cell_type": "code",
   "execution_count": 4,
   "id": "a27917f3",
   "metadata": {},
   "outputs": [
    {
     "name": "stdout",
     "output_type": "stream",
     "text": [
      "['/home/lpazc/Documentos/Proyects/DroidMalDetect-Py/droidmaldetect_py/Dataset2017/notebook', '/usr/lib/python311.zip', '/usr/lib/python3.11', '/usr/lib/python3.11/lib-dynload', '', '/home/lpazc/Documentos/Proyects/DroidMalDetect-Py/.venv/lib/python3.11/site-packages', '/home/lpazc/Documentos/Proyects/DroidMalDetect-Py']\n"
     ]
    }
   ],
   "source": [
    "import sys\n",
    "print(sys.path)"
   ]
  },
  {
   "cell_type": "code",
   "execution_count": 5,
   "id": "initial_id",
   "metadata": {
    "ExecuteTime": {
     "end_time": "2023-11-06T01:19:44.635592221Z",
     "start_time": "2023-11-06T01:19:44.588274993Z"
    },
    "collapsed": true
   },
   "outputs": [
    {
     "data": {
      "text/plain": [
       "True"
      ]
     },
     "execution_count": 5,
     "metadata": {},
     "output_type": "execute_result"
    }
   ],
   "source": [
    "import pandas as pd\n",
    "import os\n",
    "import dotenv\n",
    "dotenv.load_dotenv()\n"
   ]
  },
  {
   "cell_type": "code",
   "execution_count": 6,
   "id": "7ff3bfce",
   "metadata": {},
   "outputs": [],
   "source": [
    "# TODO: Columns that can be removed for column correlation analysis\n",
    "# TODO: The initial version may change due to the relationship between the variables\n",
    "\n",
    "datasets_malware = [\n",
    "    {\"path\": [\"dataset/2017_dataset/Adware\"], \"class\":\"Adware\"},\n",
    "    {\"path\": [\"dataset/2017_dataset/Benign\"], \"class\":\"Benign\"},\n",
    "    {\"path\": [\"dataset/2017_dataset/Ransomware\"], \"class\":\"Ransomware\"},\n",
    "    {\"path\": [\"dataset/2017_dataset/Scareware\"], \"class\":\"Scareware\"},\n",
    "    {\"path\": [\"dataset/2017_dataset/SMSmalware\"], \"class\":\"SMSmalware\"},\n",
    "]"
   ]
  },
  {
   "cell_type": "code",
   "execution_count": 24,
   "id": "e9f977425febc439",
   "metadata": {
    "ExecuteTime": {
     "end_time": "2023-11-06T01:28:44.735461506Z",
     "start_time": "2023-11-06T01:28:44.726879719Z"
    },
    "collapsed": false
   },
   "outputs": [
    {
     "data": {
      "text/plain": [
       "['ADWARE.csv',\n",
       " 'BENIGN.csv',\n",
       " 'RANSOMWARE.csv',\n",
       " 'SCAREWARE.csv',\n",
       " 'SMSMALWARE.csv']"
      ]
     },
     "execution_count": 24,
     "metadata": {},
     "output_type": "execute_result"
    }
   ],
   "source": [
    "abs_path_result = os.getenv('FOLDER_RESULT')\n",
    "categories =  [\"\".join([category['class'].upper(), '.csv']) for category in datasets_malware]\n",
    "column_to_delete = [\"Source IP\", \"Destination IP\", \"Timestamp\", \"Label\"]\n",
    "\n",
    "categories"
   ]
  },
  {
   "cell_type": "code",
   "execution_count": 45,
   "id": "e04e0bab60e6afd5",
   "metadata": {
    "ExecuteTime": {
     "start_time": "2023-11-06T01:44:37.664363714Z"
    },
    "collapsed": false,
    "is_executing": true
   },
   "outputs": [
    {
     "name": "stdout",
     "output_type": "stream",
     "text": [
      "ADWARE.csv\n",
      "BENIGN.csv\n",
      "RANSOMWARE.csv\n",
      "SCAREWARE.csv\n",
      "SMSMALWARE.csv\n"
     ]
    }
   ],
   "source": [
    "dataframe_general =  pd.DataFrame()\n",
    "for category in categories:\n",
    "    csv_path = os.path.join(abs_path_result, category)\n",
    "    temp_dataframe: pd.DataFrame =  pd.read_csv(csv_path, index_col=False)\n",
    "    print(category)\n",
    "    dataframe_general =  pd.concat([dataframe_general, temp_dataframe], ignore_index=True)"
   ]
  },
  {
   "cell_type": "code",
   "execution_count": 46,
   "id": "2cb735f1",
   "metadata": {},
   "outputs": [
    {
     "data": {
      "text/plain": [
       "Source IP            object\n",
       "Source Port         float64\n",
       "Destination IP       object\n",
       "Destination Port    float64\n",
       "Protocol            float64\n",
       "                     ...   \n",
       "Idle Mean           float64\n",
       "Idle Std            float64\n",
       "Idle Max            float64\n",
       "Idle Min            float64\n",
       "Label                object\n",
       "Length: 84, dtype: object"
      ]
     },
     "execution_count": 46,
     "metadata": {},
     "output_type": "execute_result"
    }
   ],
   "source": [
    "dataframe_general.dtypes"
   ]
  },
  {
   "cell_type": "code",
   "execution_count": 47,
   "id": "cc53d4ed",
   "metadata": {},
   "outputs": [],
   "source": [
    "dataframe_general['category'] = dataframe_general.Label.apply(lambda category:  1 if 'BENIGN' in category else 0)"
   ]
  },
  {
   "cell_type": "code",
   "execution_count": 48,
   "id": "44b654ed",
   "metadata": {},
   "outputs": [
    {
     "data": {
      "text/plain": [
       "<Axes: >"
      ]
     },
     "execution_count": 48,
     "metadata": {},
     "output_type": "execute_result"
    },
    {
     "data": {
      "image/png": "[encoded data removed]",
      "text/plain": [
       "<Figure size 640x480 with 1 Axes>"
      ]
     },
     "metadata": {},
     "output_type": "display_data"
    }
   ],
   "source": [
    "dataframe_general.Label.hist()"
   ]
  },
  {
   "cell_type": "code",
   "execution_count": 50,
   "id": "ab1305333d1cec84",
   "metadata": {
    "ExecuteTime": {
     "end_time": "2023-11-06T01:41:49.914644597Z",
     "start_time": "2023-11-06T01:41:49.646512581Z"
    },
    "collapsed": false
   },
   "outputs": [
    {
     "ename": "KeyError",
     "evalue": "'Category'",
     "output_type": "error",
     "traceback": [
      "\u001b[0;31m---------------------------------------------------------------------------\u001b[0m",
      "\u001b[0;31mKeyError\u001b[0m                                  Traceback (most recent call last)",
      "File \u001b[0;32m~/Documentos/Proyects/DroidMalDetect-Py/.venv/lib/python3.11/site-packages/pandas/core/indexes/base.py:3790\u001b[0m, in \u001b[0;36mIndex.get_loc\u001b[0;34m(self, key)\u001b[0m\n\u001b[1;32m   3789\u001b[0m \u001b[39mtry\u001b[39;00m:\n\u001b[0;32m-> 3790\u001b[0m     \u001b[39mreturn\u001b[39;00m \u001b[39mself\u001b[39;49m\u001b[39m.\u001b[39;49m_engine\u001b[39m.\u001b[39;49mget_loc(casted_key)\n\u001b[1;32m   3791\u001b[0m \u001b[39mexcept\u001b[39;00m \u001b[39mKeyError\u001b[39;00m \u001b[39mas\u001b[39;00m err:\n",
      "File \u001b[0;32mindex.pyx:152\u001b[0m, in \u001b[0;36mpandas._libs.index.IndexEngine.get_loc\u001b[0;34m()\u001b[0m\n",
      "File \u001b[0;32mindex.pyx:181\u001b[0m, in \u001b[0;36mpandas._libs.index.IndexEngine.get_loc\u001b[0;34m()\u001b[0m\n",
      "File \u001b[0;32mpandas/_libs/hashtable_class_helper.pxi:7080\u001b[0m, in \u001b[0;36mpandas._libs.hashtable.PyObjectHashTable.get_item\u001b[0;34m()\u001b[0m\n",
      "File \u001b[0;32mpandas/_libs/hashtable_class_helper.pxi:7088\u001b[0m, in \u001b[0;36mpandas._libs.hashtable.PyObjectHashTable.get_item\u001b[0;34m()\u001b[0m\n",
      "\u001b[0;31mKeyError\u001b[0m: 'Category'",
      "\nThe above exception was the direct cause of the following exception:\n",
      "\u001b[0;31mKeyError\u001b[0m                                  Traceback (most recent call last)",
      "\u001b[1;32m/home/lpazc/Documentos/Proyects/DroidMalDetect-Py/droidmaldetect_py/Dataset2017/notebook/join_datasets.ipynb Cell 9\u001b[0m line \u001b[0;36m1\n\u001b[0;32m----> <a href='vscode-notebook-cell:/home/lpazc/Documentos/Proyects/DroidMalDetect-Py/droidmaldetect_py/Dataset2017/notebook/join_datasets.ipynb#W6sZmlsZQ%3D%3D?line=0'>1</a>\u001b[0m dataframe_general[\u001b[39m'\u001b[39;49m\u001b[39mCategory\u001b[39;49m\u001b[39m'\u001b[39;49m]\u001b[39m.\u001b[39mhist()\n",
      "File \u001b[0;32m~/Documentos/Proyects/DroidMalDetect-Py/.venv/lib/python3.11/site-packages/pandas/core/frame.py:3893\u001b[0m, in \u001b[0;36mDataFrame.__getitem__\u001b[0;34m(self, key)\u001b[0m\n\u001b[1;32m   3891\u001b[0m \u001b[39mif\u001b[39;00m \u001b[39mself\u001b[39m\u001b[39m.\u001b[39mcolumns\u001b[39m.\u001b[39mnlevels \u001b[39m>\u001b[39m \u001b[39m1\u001b[39m:\n\u001b[1;32m   3892\u001b[0m     \u001b[39mreturn\u001b[39;00m \u001b[39mself\u001b[39m\u001b[39m.\u001b[39m_getitem_multilevel(key)\n\u001b[0;32m-> 3893\u001b[0m indexer \u001b[39m=\u001b[39m \u001b[39mself\u001b[39;49m\u001b[39m.\u001b[39;49mcolumns\u001b[39m.\u001b[39;49mget_loc(key)\n\u001b[1;32m   3894\u001b[0m \u001b[39mif\u001b[39;00m is_integer(indexer):\n\u001b[1;32m   3895\u001b[0m     indexer \u001b[39m=\u001b[39m [indexer]\n",
      "File \u001b[0;32m~/Documentos/Proyects/DroidMalDetect-Py/.venv/lib/python3.11/site-packages/pandas/core/indexes/base.py:3797\u001b[0m, in \u001b[0;36mIndex.get_loc\u001b[0;34m(self, key)\u001b[0m\n\u001b[1;32m   3792\u001b[0m     \u001b[39mif\u001b[39;00m \u001b[39misinstance\u001b[39m(casted_key, \u001b[39mslice\u001b[39m) \u001b[39mor\u001b[39;00m (\n\u001b[1;32m   3793\u001b[0m         \u001b[39misinstance\u001b[39m(casted_key, abc\u001b[39m.\u001b[39mIterable)\n\u001b[1;32m   3794\u001b[0m         \u001b[39mand\u001b[39;00m \u001b[39many\u001b[39m(\u001b[39misinstance\u001b[39m(x, \u001b[39mslice\u001b[39m) \u001b[39mfor\u001b[39;00m x \u001b[39min\u001b[39;00m casted_key)\n\u001b[1;32m   3795\u001b[0m     ):\n\u001b[1;32m   3796\u001b[0m         \u001b[39mraise\u001b[39;00m InvalidIndexError(key)\n\u001b[0;32m-> 3797\u001b[0m     \u001b[39mraise\u001b[39;00m \u001b[39mKeyError\u001b[39;00m(key) \u001b[39mfrom\u001b[39;00m \u001b[39merr\u001b[39;00m\n\u001b[1;32m   3798\u001b[0m \u001b[39mexcept\u001b[39;00m \u001b[39mTypeError\u001b[39;00m:\n\u001b[1;32m   3799\u001b[0m     \u001b[39m# If we have a listlike key, _check_indexing_error will raise\u001b[39;00m\n\u001b[1;32m   3800\u001b[0m     \u001b[39m#  InvalidIndexError. Otherwise we fall through and re-raise\u001b[39;00m\n\u001b[1;32m   3801\u001b[0m     \u001b[39m#  the TypeError.\u001b[39;00m\n\u001b[1;32m   3802\u001b[0m     \u001b[39mself\u001b[39m\u001b[39m.\u001b[39m_check_indexing_error(key)\n",
      "\u001b[0;31mKeyError\u001b[0m: 'Category'"
     ]
    }
   ],
   "source": [
    "dataframe_general['category'].hist()"
   ]
  },
  {
   "cell_type": "code",
   "execution_count": 39,
   "id": "cc087135",
   "metadata": {},
   "outputs": [
    {
     "data": {
      "text/plain": [
       "Source IP            object\n",
       "Source Port         float64\n",
       "Destination IP       object\n",
       "Destination Port    float64\n",
       "Protocol            float64\n",
       "                     ...   \n",
       "Idle Std            float64\n",
       "Idle Max            float64\n",
       "Idle Min            float64\n",
       "Label                object\n",
       "Category              int64\n",
       "Length: 85, dtype: object"
      ]
     },
     "execution_count": 39,
     "metadata": {},
     "output_type": "execute_result"
    }
   ],
   "source": [
    "dataframe_general.dtypes"
   ]
  },
  {
   "cell_type": "code",
   "execution_count": 37,
   "id": "fb000a03",
   "metadata": {},
   "outputs": [],
   "source": [
    "not_numeric_columns =  dataframe_general.select_dtypes(exclude=['int', 'float'])"
   ]
  },
  {
   "cell_type": "code",
   "execution_count": 38,
   "id": "8ff21b1e",
   "metadata": {},
   "outputs": [
    {
     "data": {
      "text/html": [
       "<div>\n",
       "<style scoped>\n",
       "    .dataframe tbody tr th:only-of-type {\n",
       "        vertical-align: middle;\n",
       "    }\n",
       "\n",
       "    .dataframe tbody tr th {\n",
       "        vertical-align: top;\n",
       "    }\n",
       "\n",
       "    .dataframe thead th {\n",
       "        text-align: right;\n",
       "    }\n",
       "</style>\n",
       "<table border=\"1\" class=\"dataframe\">\n",
       "  <thead>\n",
       "    <tr style=\"text-align: right;\">\n",
       "      <th></th>\n",
       "      <th>Source IP</th>\n",
       "      <th>Destination IP</th>\n",
       "      <th>Timestamp</th>\n",
       "      <th>Label</th>\n",
       "    </tr>\n",
       "  </thead>\n",
       "  <tbody>\n",
       "    <tr>\n",
       "      <th>0</th>\n",
       "      <td>31.13.71.1</td>\n",
       "      <td>10.42.0.151</td>\n",
       "      <td>14/06/2017 04:26:15</td>\n",
       "      <td>ADWARE_SHUANET</td>\n",
       "    </tr>\n",
       "    <tr>\n",
       "      <th>1</th>\n",
       "      <td>10.42.0.151</td>\n",
       "      <td>31.13.71.1</td>\n",
       "      <td>14/06/2017 04:26:15</td>\n",
       "      <td>ADWARE_SHUANET</td>\n",
       "    </tr>\n",
       "    <tr>\n",
       "      <th>2</th>\n",
       "      <td>10.42.0.151</td>\n",
       "      <td>31.13.71.1</td>\n",
       "      <td>14/06/2017 04:26:15</td>\n",
       "      <td>ADWARE_SHUANET</td>\n",
       "    </tr>\n",
       "    <tr>\n",
       "      <th>3</th>\n",
       "      <td>10.42.0.151</td>\n",
       "      <td>172.217.6.237</td>\n",
       "      <td>14/06/2017 04:26:15</td>\n",
       "      <td>ADWARE_SHUANET</td>\n",
       "    </tr>\n",
       "    <tr>\n",
       "      <th>4</th>\n",
       "      <td>10.42.0.151</td>\n",
       "      <td>172.217.6.237</td>\n",
       "      <td>14/06/2017 04:26:16</td>\n",
       "      <td>ADWARE_SHUANET</td>\n",
       "    </tr>\n",
       "    <tr>\n",
       "      <th>...</th>\n",
       "      <td>...</td>\n",
       "      <td>...</td>\n",
       "      <td>...</td>\n",
       "      <td>...</td>\n",
       "    </tr>\n",
       "    <tr>\n",
       "      <th>229270</th>\n",
       "      <td>10.42.0.151</td>\n",
       "      <td>192.229.163.180</td>\n",
       "      <td>30/06/2017 04:42:24</td>\n",
       "      <td>SMSMALWARE_BEANBOT</td>\n",
       "    </tr>\n",
       "    <tr>\n",
       "      <th>229271</th>\n",
       "      <td>10.42.0.151</td>\n",
       "      <td>10.42.0.1</td>\n",
       "      <td>30/06/2017 04:17:44</td>\n",
       "      <td>SMSMALWARE_BEANBOT</td>\n",
       "    </tr>\n",
       "    <tr>\n",
       "      <th>229272</th>\n",
       "      <td>54.239.17.112</td>\n",
       "      <td>10.42.0.151</td>\n",
       "      <td>30/06/2017 04:34:17</td>\n",
       "      <td>SMSMALWARE_BEANBOT</td>\n",
       "    </tr>\n",
       "    <tr>\n",
       "      <th>229273</th>\n",
       "      <td>10.42.0.151</td>\n",
       "      <td>10.42.0.1</td>\n",
       "      <td>30/06/2017 04:15:34</td>\n",
       "      <td>SMSMALWARE_BEANBOT</td>\n",
       "    </tr>\n",
       "    <tr>\n",
       "      <th>229274</th>\n",
       "      <td>10.42.0.151</td>\n",
       "      <td>54.230.38.227</td>\n",
       "      <td>30/06/2017 04:34:03</td>\n",
       "      <td>SMSMALWARE_BEANBOT</td>\n",
       "    </tr>\n",
       "  </tbody>\n",
       "</table>\n",
       "<p>2613739 rows × 4 columns</p>\n",
       "</div>"
      ],
      "text/plain": [
       "            Source IP   Destination IP            Timestamp  \\\n",
       "0          31.13.71.1      10.42.0.151  14/06/2017 04:26:15   \n",
       "1         10.42.0.151       31.13.71.1  14/06/2017 04:26:15   \n",
       "2         10.42.0.151       31.13.71.1  14/06/2017 04:26:15   \n",
       "3         10.42.0.151    172.217.6.237  14/06/2017 04:26:15   \n",
       "4         10.42.0.151    172.217.6.237  14/06/2017 04:26:16   \n",
       "...               ...              ...                  ...   \n",
       "229270    10.42.0.151  192.229.163.180  30/06/2017 04:42:24   \n",
       "229271    10.42.0.151        10.42.0.1  30/06/2017 04:17:44   \n",
       "229272  54.239.17.112      10.42.0.151  30/06/2017 04:34:17   \n",
       "229273    10.42.0.151        10.42.0.1  30/06/2017 04:15:34   \n",
       "229274    10.42.0.151    54.230.38.227  30/06/2017 04:34:03   \n",
       "\n",
       "                     Label  \n",
       "0           ADWARE_SHUANET  \n",
       "1           ADWARE_SHUANET  \n",
       "2           ADWARE_SHUANET  \n",
       "3           ADWARE_SHUANET  \n",
       "4           ADWARE_SHUANET  \n",
       "...                    ...  \n",
       "229270  SMSMALWARE_BEANBOT  \n",
       "229271  SMSMALWARE_BEANBOT  \n",
       "229272  SMSMALWARE_BEANBOT  \n",
       "229273  SMSMALWARE_BEANBOT  \n",
       "229274  SMSMALWARE_BEANBOT  \n",
       "\n",
       "[2613739 rows x 4 columns]"
      ]
     },
     "execution_count": 38,
     "metadata": {},
     "output_type": "execute_result"
    }
   ],
   "source": [
    "not_numeric_columns"
   ]
  },
  {
   "cell_type": "code",
   "execution_count": 38,
   "id": "3fdc9d88",
   "metadata": {},
   "outputs": [],
   "source": [
    "dataframe_general.to_csv(os.path.join(abs_path_result, 'general_malware.csv'), index=False)"
   ]
  }
 ],
 "metadata": {
  "kernelspec": {
   "display_name": "Python 3",
   "language": "python",
   "name": "python3"
  },
  "language_info": {
   "codemirror_mode": {
    "name": "ipython",
    "version": 3
   },
   "file_extension": ".py",
   "mimetype": "text/x-python",
   "name": "python",
   "nbconvert_exporter": "python",
   "pygments_lexer": "ipython3",
   "version": "3.11.2"
  }
 },
 "nbformat": 4,
 "nbformat_minor": 5
}
