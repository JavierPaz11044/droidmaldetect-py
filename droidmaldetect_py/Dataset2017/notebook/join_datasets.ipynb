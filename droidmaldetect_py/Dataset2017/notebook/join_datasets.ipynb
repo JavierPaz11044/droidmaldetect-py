{
 "cells": [
  {
   "cell_type": "code",
   "execution_count": 27,
   "id": "a27917f3",
   "metadata": {},
   "outputs": [
    {
     "name": "stdout",
     "output_type": "stream",
     "text": [
      "['/home/lpazc/Documentos/Proyects/DroidMalDetect-Py/droidmaldetect_py/Dataset2017/notebook', '/usr/lib/python311.zip', '/usr/lib/python3.11', '/usr/lib/python3.11/lib-dynload', '', '/home/lpazc/Documentos/Proyects/DroidMalDetect-Py/.venv/lib/python3.11/site-packages']\n"
     ]
    }
   ],
   "source": [
    "import sys\n",
    "print(sys.path)"
   ]
  },
  {
   "cell_type": "code",
   "execution_count": 33,
   "id": "initial_id",
   "metadata": {
    "ExecuteTime": {
     "end_time": "2023-11-06T01:19:44.635592221Z",
     "start_time": "2023-11-06T01:19:44.588274993Z"
    },
    "collapsed": true
   },
   "outputs": [
    {
     "data": {
      "text/plain": [
       "True"
      ]
     },
     "execution_count": 33,
     "metadata": {},
     "output_type": "execute_result"
    }
   ],
   "source": [
    "import pandas as pd\n",
    "import os\n",
    "import dotenv\n",
    "dotenv.load_dotenv()\n"
   ]
  },
  {
   "cell_type": "code",
   "execution_count": 34,
   "id": "7ff3bfce",
   "metadata": {},
   "outputs": [],
   "source": [
    "# TODO: Columns that can be removed for column correlation analysis\n",
    "# TODO: The initial version may change due to the relationship between the variables\n",
    "\n",
    "datasets_malware = [\n",
    "    {\"path\": [\"dataset/2017_dataset/Adware\"], \"class\":\"Adware\"},\n",
    "    {\"path\": [\"dataset/2017_dataset/Benign\"], \"class\":\"Benign\"},\n",
    "    {\"path\": [\"dataset/2017_dataset/Ransomware\"], \"class\":\"Ransomware\"},\n",
    "    {\"path\": [\"dataset/2017_dataset/Scareware\"], \"class\":\"Scareware\"},\n",
    "    {\"path\": [\"dataset/2017_dataset/SMSmalware\"], \"class\":\"SMSmalware\"},\n",
    "]"
   ]
  },
  {
   "cell_type": "code",
   "execution_count": null,
   "id": "9c3beace",
   "metadata": {},
   "outputs": [],
   "source": []
  },
  {
   "cell_type": "code",
   "execution_count": 35,
   "id": "e9f977425febc439",
   "metadata": {
    "ExecuteTime": {
     "end_time": "2023-11-06T01:28:44.735461506Z",
     "start_time": "2023-11-06T01:28:44.726879719Z"
    },
    "collapsed": false
   },
   "outputs": [
    {
     "data": {
      "text/plain": [
       "['ADWARE.csv',\n",
       " 'BENIGN.csv',\n",
       " 'RANSOMWARE.csv',\n",
       " 'SCAREWARE.csv',\n",
       " 'SMSMALWARE.csv']"
      ]
     },
     "execution_count": 35,
     "metadata": {},
     "output_type": "execute_result"
    }
   ],
   "source": [
    "abs_path_result = os.getenv('FOLDER_RESULT')\n",
    "categories =  [\"\".join([category['class'].upper(), '.csv']) for category in datasets_malware]\n",
    "column_to_delete = [\"Flow ID\", \"Source IP\", \"Destination IP\", \"Timestamp\", \"Label\"]\n",
    "dataframe_general =  pd.DataFrame()\n",
    "categories"
   ]
  },
  {
   "cell_type": "code",
   "execution_count": 36,
   "id": "e04e0bab60e6afd5",
   "metadata": {
    "ExecuteTime": {
     "start_time": "2023-11-06T01:44:37.664363714Z"
    },
    "collapsed": false,
    "is_executing": true
   },
   "outputs": [
    {
     "name": "stdout",
     "output_type": "stream",
     "text": [
      "ADWARE.csv\n",
      "BENIGN.csv\n",
      "RANSOMWARE.csv\n",
      "SCAREWARE.csv\n",
      "SMSMALWARE.csv\n"
     ]
    }
   ],
   "source": [
    "for category in categories:\n",
    "    csv_path = os.path.join(abs_path_result, category)\n",
    "    temp_dataframe: pd.DataFrame =  pd.read_csv(csv_path, index_col=False)\n",
    "    temp_dataframe.drop(column_to_delete, inplace=True, errors='ignore')\n",
    "    print(category)\n",
    "    temp_dataframe['category'] = 1 if 'BENIGN' in category else 0\n",
    "    dataframe_general =  pd.concat([dataframe_general, temp_dataframe])"
   ]
  },
  {
   "cell_type": "code",
   "execution_count": 37,
   "id": "ab1305333d1cec84",
   "metadata": {
    "ExecuteTime": {
     "end_time": "2023-11-06T01:41:49.914644597Z",
     "start_time": "2023-11-06T01:41:49.646512581Z"
    },
    "collapsed": false
   },
   "outputs": [
    {
     "data": {
      "text/plain": [
       "<Axes: >"
      ]
     },
     "execution_count": 37,
     "metadata": {},
     "output_type": "execute_result"
    },
    {
     "data": {
      "image/png": "[encoded data removed]",
      "text/plain": [
       "<Figure size 640x480 with 1 Axes>"
      ]
     },
     "metadata": {},
     "output_type": "display_data"
    }
   ],
   "source": [
    "dataframe_general['category'].hist()"
   ]
  },
  {
   "cell_type": "code",
   "execution_count": 38,
   "id": "3fdc9d88",
   "metadata": {},
   "outputs": [],
   "source": [
    "dataframe_general.to_csv(os.path.join(abs_path_result, 'general_malware.csv'))"
   ]
  }
 ],
 "metadata": {
  "kernelspec": {
   "display_name": "Python 3",
   "language": "python",
   "name": "python3"
  },
  "language_info": {
   "codemirror_mode": {
    "name": "ipython",
    "version": 3
   },
   "file_extension": ".py",
   "mimetype": "text/x-python",
   "name": "python",
   "nbconvert_exporter": "python",
   "pygments_lexer": "ipython3",
   "version": "3.11.2"
  }
 },
 "nbformat": 4,
 "nbformat_minor": 5
}
