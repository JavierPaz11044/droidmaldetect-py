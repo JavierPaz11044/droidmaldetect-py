{
 "cells": [
  {
   "cell_type": "code",
   "execution_count": 2,
   "id": "initial_id",
   "metadata": {
    "ExecuteTime": {
     "end_time": "2023-11-06T02:08:07.854406208Z",
     "start_time": "2023-11-06T02:08:07.711936457Z"
    }
   },
   "outputs": [],
   "source": [
    "import os\n",
    "import pandas as pd"
   ]
  },
  {
   "cell_type": "code",
   "execution_count": 3,
   "id": "389bb9e2",
   "metadata": {},
   "outputs": [],
   "source": [
    "datasets_malware = [\n",
    "    {\"path\": [\"dataset/2017_dataset/Adware\"], \"class\":\"Adware\"},\n",
    "    {\"path\": [\"dataset/2017_dataset/Benign\"], \"class\":\"Benign\"},\n",
    "    {\"path\": [\"dataset/2017_dataset/Ransomware\"], \"class\":\"Ransomware\"},\n",
    "    {\"path\": [\"dataset/2017_dataset/Scareware\"], \"class\":\"Scareware\"},\n",
    "    {\"path\": [\"dataset/2017_dataset/SMSmalware\"], \"class\":\"SMSmalware\"},\n",
    "]"
   ]
  },
  {
   "cell_type": "code",
   "execution_count": 30,
   "id": "d5e5f080c5a7bdae",
   "metadata": {
    "ExecuteTime": {
     "end_time": "2023-11-06T00:13:08.362895003Z",
     "start_time": "2023-11-06T00:13:08.355730888Z"
    },
    "collapsed": false,
    "jupyter": {
     "outputs_hidden": false
    }
   },
   "outputs": [
    {
     "data": {
      "text/plain": [
       "True"
      ]
     },
     "execution_count": 30,
     "metadata": {},
     "output_type": "execute_result"
    }
   ],
   "source": [
    "import dotenv\n",
    "dotenv.load_dotenv()\n"
   ]
  },
  {
   "cell_type": "code",
   "execution_count": 2,
   "id": "20bf39ff5ca8b7e",
   "metadata": {
    "ExecuteTime": {
     "end_time": "2023-11-05T23:37:18.717943076Z",
     "start_time": "2023-11-05T23:37:18.716180066Z"
    },
    "collapsed": false,
    "jupyter": {
     "outputs_hidden": false
    }
   },
   "outputs": [],
   "source": [
    "abs_path = os.getenv('PATH_ROOT_DATASET')\n",
    "# TODO: Columns that can be removed for column correlation analysis\n",
    "# TODO: The initial version may change due to the relationship between the variables\n",
    "columnTo_delete = [\"Flow ID\", \"Source IP\", \"Destination IP\", \"Timestamp\"]"
   ]
  },
  {
   "cell_type": "code",
   "execution_count": 9,
   "id": "658322bc89ab2068",
   "metadata": {
    "ExecuteTime": {
     "end_time": "2023-11-05T23:41:01.203822771Z",
     "start_time": "2023-11-05T23:38:32.682880824Z"
    },
    "collapsed": false,
    "jupyter": {
     "outputs_hidden": false
    }
   },
   "outputs": [
    {
     "name": "stdout",
     "output_type": "stream",
     "text": [
      "Adware\n",
      "Benign\n",
      "Ransomware\n",
      "Scareware\n",
      "SMSmalware\n"
     ]
    }
   ],
   "source": [
    "dict_dataframes =  dict()\n",
    "for metadata in datasets_malware:\n",
    "    print(metadata['class'])\n",
    "    dict_dataframes[metadata['class']] = pd.DataFrame()\n",
    "    for item in metadata['path']:\n",
    "        path_temp =  os.path.join(abs_path, item)\n",
    "        abs =  os.path.abspath(path_temp)\n",
    "        for root, dirs, files  in os.walk(abs): \n",
    "            for file in files:\n",
    "                if file.endswith('.csv'):\n",
    "                    path_data = os.path.join(root, file)\n",
    "                    data =  pd.read_csv(path_data, index_col=False)\n",
    "                    data.columns = data.columns.str.strip()\n",
    "                    data.drop('Flow ID', axis=1, inplace=True)\n",
    "                    dict_dataframes[metadata['class']] =  pd.concat([dict_dataframes[metadata['class']], data]) "
   ]
  },
  {
   "cell_type": "code",
   "execution_count": 18,
   "id": "626d09b33ca6c683",
   "metadata": {
    "ExecuteTime": {
     "end_time": "2023-11-06T00:12:14.007427130Z",
     "start_time": "2023-11-06T00:12:14.003756399Z"
    },
    "collapsed": false,
    "jupyter": {
     "outputs_hidden": false
    }
   },
   "outputs": [
    {
     "data": {
      "text/plain": [
       "Index(['Source IP', 'Source Port', 'Destination IP', 'Destination Port',\n",
       "       'Protocol', 'Timestamp', 'Flow Duration', 'Total Fwd Packets',\n",
       "       'Total Backward Packets', 'Total Length of Fwd Packets',\n",
       "       'Total Length of Bwd Packets', 'Fwd Packet Length Max',\n",
       "       'Fwd Packet Length Min', 'Fwd Packet Length Mean',\n",
       "       'Fwd Packet Length Std', 'Bwd Packet Length Max',\n",
       "       'Bwd Packet Length Min', 'Bwd Packet Length Mean',\n",
       "       'Bwd Packet Length Std', 'Flow Bytes/s', 'Flow Packets/s',\n",
       "       'Flow IAT Mean', 'Flow IAT Std', 'Flow IAT Max', 'Flow IAT Min',\n",
       "       'Fwd IAT Total', 'Fwd IAT Mean', 'Fwd IAT Std', 'Fwd IAT Max',\n",
       "       'Fwd IAT Min', 'Bwd IAT Total', 'Bwd IAT Mean', 'Bwd IAT Std',\n",
       "       'Bwd IAT Max', 'Bwd IAT Min', 'Fwd PSH Flags', 'Bwd PSH Flags',\n",
       "       'Fwd URG Flags', 'Bwd URG Flags', 'Fwd Header Length',\n",
       "       'Bwd Header Length', 'Fwd Packets/s', 'Bwd Packets/s',\n",
       "       'Min Packet Length', 'Max Packet Length', 'Packet Length Mean',\n",
       "       'Packet Length Std', 'Packet Length Variance', 'FIN Flag Count',\n",
       "       'SYN Flag Count', 'RST Flag Count', 'PSH Flag Count', 'ACK Flag Count',\n",
       "       'URG Flag Count', 'CWE Flag Count', 'ECE Flag Count', 'Down/Up Ratio',\n",
       "       'Average Packet Size', 'Avg Fwd Segment Size', 'Avg Bwd Segment Size',\n",
       "       'Fwd Header Length.1', 'Fwd Avg Bytes/Bulk', 'Fwd Avg Packets/Bulk',\n",
       "       'Fwd Avg Bulk Rate', 'Bwd Avg Bytes/Bulk', 'Bwd Avg Packets/Bulk',\n",
       "       'Bwd Avg Bulk Rate', 'Subflow Fwd Packets', 'Subflow Fwd Bytes',\n",
       "       'Subflow Bwd Packets', 'Subflow Bwd Bytes', 'Init_Win_bytes_forward',\n",
       "       'Init_Win_bytes_backward', 'act_data_pkt_fwd', 'min_seg_size_forward',\n",
       "       'Active Mean', 'Active Std', 'Active Max', 'Active Min', 'Idle Mean',\n",
       "       'Idle Std', 'Idle Max', 'Idle Min', 'Label'],\n",
       "      dtype='object')"
      ]
     },
     "execution_count": 18,
     "metadata": {},
     "output_type": "execute_result"
    }
   ],
   "source": [
    "dict_dataframes['SMSmalware'].columns"
   ]
  },
  {
   "cell_type": "code",
   "execution_count": 12,
   "id": "42c9bd93e39c417c",
   "metadata": {
    "ExecuteTime": {
     "end_time": "2023-11-06T00:09:19.124090905Z",
     "start_time": "2023-11-06T00:09:19.077649594Z"
    },
    "collapsed": false,
    "jupyter": {
     "outputs_hidden": false
    }
   },
   "outputs": [],
   "source": [
    "dict_dataframes_filter= {\n",
    "    \"RANSOMWARE\": pd.DataFrame(),\n",
    "    \"ADWARE\": pd.DataFrame(),\n",
    "    \"BENIGN\": pd.DataFrame(),\n",
    "    \"SCAREWARE\": pd.DataFrame(),\n",
    "    \"SMSMALWARE\": pd.DataFrame()\n",
    "}\n",
    "\n",
    "dict_dataframes_invalid = dict()\n",
    "labels = [\n",
    "    \"RANSOMWARE\",\n",
    "    \"ADWARE\",\n",
    "    \"BENIGN\",\n",
    "    \"SCAREWARE\",\n",
    "    \"SMSMALWARE\",\n",
    "]"
   ]
  },
  {
   "cell_type": "code",
   "execution_count": 13,
   "id": "9a47da83adc0871",
   "metadata": {
    "ExecuteTime": {
     "end_time": "2023-11-06T00:09:28.640777828Z",
     "start_time": "2023-11-06T00:09:21.902222288Z"
    },
    "collapsed": false,
    "jupyter": {
     "outputs_hidden": false
    }
   },
   "outputs": [],
   "source": [
    "for key,value in dict_dataframes.items():   \n",
    "    incomplete_rows =  value[value.isnull().any(axis=1)]\n",
    "    dict_dataframes_invalid[key] =  incomplete_rows\n",
    "    complete_rows = value.dropna(subset=value.columns)\n",
    "    for label in labels:\n",
    "        filter_dataframe = complete_rows[complete_rows['Label'].str.contains(r\"\"+label+r\"\", regex=True)]\n",
    "        if len(filter_dataframe) > 0:\n",
    "            dict_dataframes_filter[label] = pd.concat([dict_dataframes_filter[label], filter_dataframe])"
   ]
  },
  {
   "cell_type": "code",
   "execution_count": 14,
   "id": "6e8bfd140c10f15b",
   "metadata": {
    "ExecuteTime": {
     "end_time": "2023-11-06T00:09:35.708712712Z",
     "start_time": "2023-11-06T00:09:35.604480614Z"
    },
    "collapsed": false,
    "jupyter": {
     "outputs_hidden": false
    }
   },
   "outputs": [
    {
     "data": {
      "text/html": [
       "<div>\n",
       "<style scoped>\n",
       "    .dataframe tbody tr th:only-of-type {\n",
       "        vertical-align: middle;\n",
       "    }\n",
       "\n",
       "    .dataframe tbody tr th {\n",
       "        vertical-align: top;\n",
       "    }\n",
       "\n",
       "    .dataframe thead th {\n",
       "        text-align: right;\n",
       "    }\n",
       "</style>\n",
       "<table border=\"1\" class=\"dataframe\">\n",
       "  <thead>\n",
       "    <tr style=\"text-align: right;\">\n",
       "      <th></th>\n",
       "      <th>Source IP</th>\n",
       "      <th>Source Port</th>\n",
       "      <th>Destination IP</th>\n",
       "      <th>Destination Port</th>\n",
       "      <th>Protocol</th>\n",
       "      <th>Timestamp</th>\n",
       "      <th>Flow Duration</th>\n",
       "      <th>Total Fwd Packets</th>\n",
       "      <th>Total Backward Packets</th>\n",
       "      <th>Total Length of Fwd Packets</th>\n",
       "      <th>...</th>\n",
       "      <th>min_seg_size_forward</th>\n",
       "      <th>Active Mean</th>\n",
       "      <th>Active Std</th>\n",
       "      <th>Active Max</th>\n",
       "      <th>Active Min</th>\n",
       "      <th>Idle Mean</th>\n",
       "      <th>Idle Std</th>\n",
       "      <th>Idle Max</th>\n",
       "      <th>Idle Min</th>\n",
       "      <th>Label</th>\n",
       "    </tr>\n",
       "  </thead>\n",
       "  <tbody>\n",
       "    <tr>\n",
       "      <th>0</th>\n",
       "      <td>10.42.0.42</td>\n",
       "      <td>34528</td>\n",
       "      <td>172.217.12.174</td>\n",
       "      <td>443</td>\n",
       "      <td>6</td>\n",
       "      <td>29/08/2017 08:46:19</td>\n",
       "      <td>36753</td>\n",
       "      <td>1</td>\n",
       "      <td>1</td>\n",
       "      <td>23.0</td>\n",
       "      <td>...</td>\n",
       "      <td>32</td>\n",
       "      <td>0.0</td>\n",
       "      <td>0.0</td>\n",
       "      <td>0.0</td>\n",
       "      <td>0.0</td>\n",
       "      <td>0.0</td>\n",
       "      <td>0.0</td>\n",
       "      <td>0.0</td>\n",
       "      <td>0.0</td>\n",
       "      <td>RANSOMWARE_SVPENG</td>\n",
       "    </tr>\n",
       "    <tr>\n",
       "      <th>1</th>\n",
       "      <td>10.42.0.42</td>\n",
       "      <td>58002</td>\n",
       "      <td>172.217.3.106</td>\n",
       "      <td>443</td>\n",
       "      <td>6</td>\n",
       "      <td>29/08/2017 08:46:20</td>\n",
       "      <td>37259</td>\n",
       "      <td>1</td>\n",
       "      <td>2</td>\n",
       "      <td>31.0</td>\n",
       "      <td>...</td>\n",
       "      <td>32</td>\n",
       "      <td>0.0</td>\n",
       "      <td>0.0</td>\n",
       "      <td>0.0</td>\n",
       "      <td>0.0</td>\n",
       "      <td>0.0</td>\n",
       "      <td>0.0</td>\n",
       "      <td>0.0</td>\n",
       "      <td>0.0</td>\n",
       "      <td>RANSOMWARE_SVPENG</td>\n",
       "    </tr>\n",
       "    <tr>\n",
       "      <th>2</th>\n",
       "      <td>172.217.9.238</td>\n",
       "      <td>80</td>\n",
       "      <td>10.42.0.42</td>\n",
       "      <td>46352</td>\n",
       "      <td>6</td>\n",
       "      <td>29/08/2017 08:46:23</td>\n",
       "      <td>240329</td>\n",
       "      <td>2</td>\n",
       "      <td>0</td>\n",
       "      <td>0.0</td>\n",
       "      <td>...</td>\n",
       "      <td>32</td>\n",
       "      <td>0.0</td>\n",
       "      <td>0.0</td>\n",
       "      <td>0.0</td>\n",
       "      <td>0.0</td>\n",
       "      <td>0.0</td>\n",
       "      <td>0.0</td>\n",
       "      <td>0.0</td>\n",
       "      <td>0.0</td>\n",
       "      <td>RANSOMWARE_SVPENG</td>\n",
       "    </tr>\n",
       "    <tr>\n",
       "      <th>3</th>\n",
       "      <td>172.217.11.3</td>\n",
       "      <td>443</td>\n",
       "      <td>10.42.0.42</td>\n",
       "      <td>33677</td>\n",
       "      <td>6</td>\n",
       "      <td>29/08/2017 08:46:34</td>\n",
       "      <td>242945</td>\n",
       "      <td>2</td>\n",
       "      <td>0</td>\n",
       "      <td>0.0</td>\n",
       "      <td>...</td>\n",
       "      <td>32</td>\n",
       "      <td>0.0</td>\n",
       "      <td>0.0</td>\n",
       "      <td>0.0</td>\n",
       "      <td>0.0</td>\n",
       "      <td>0.0</td>\n",
       "      <td>0.0</td>\n",
       "      <td>0.0</td>\n",
       "      <td>0.0</td>\n",
       "      <td>RANSOMWARE_SVPENG</td>\n",
       "    </tr>\n",
       "    <tr>\n",
       "      <th>4</th>\n",
       "      <td>172.217.10.74</td>\n",
       "      <td>443</td>\n",
       "      <td>10.42.0.42</td>\n",
       "      <td>47775</td>\n",
       "      <td>6</td>\n",
       "      <td>29/08/2017 08:47:03</td>\n",
       "      <td>22</td>\n",
       "      <td>2</td>\n",
       "      <td>0</td>\n",
       "      <td>55.0</td>\n",
       "      <td>...</td>\n",
       "      <td>32</td>\n",
       "      <td>0.0</td>\n",
       "      <td>0.0</td>\n",
       "      <td>0.0</td>\n",
       "      <td>0.0</td>\n",
       "      <td>0.0</td>\n",
       "      <td>0.0</td>\n",
       "      <td>0.0</td>\n",
       "      <td>0.0</td>\n",
       "      <td>RANSOMWARE_SVPENG</td>\n",
       "    </tr>\n",
       "    <tr>\n",
       "      <th>...</th>\n",
       "      <td>...</td>\n",
       "      <td>...</td>\n",
       "      <td>...</td>\n",
       "      <td>...</td>\n",
       "      <td>...</td>\n",
       "      <td>...</td>\n",
       "      <td>...</td>\n",
       "      <td>...</td>\n",
       "      <td>...</td>\n",
       "      <td>...</td>\n",
       "      <td>...</td>\n",
       "      <td>...</td>\n",
       "      <td>...</td>\n",
       "      <td>...</td>\n",
       "      <td>...</td>\n",
       "      <td>...</td>\n",
       "      <td>...</td>\n",
       "      <td>...</td>\n",
       "      <td>...</td>\n",
       "      <td>...</td>\n",
       "      <td>...</td>\n",
       "    </tr>\n",
       "    <tr>\n",
       "      <th>3179</th>\n",
       "      <td>10.42.0.151</td>\n",
       "      <td>60901</td>\n",
       "      <td>174.35.73.199</td>\n",
       "      <td>80</td>\n",
       "      <td>6</td>\n",
       "      <td>22/08/2017 09:06:57</td>\n",
       "      <td>23166</td>\n",
       "      <td>1</td>\n",
       "      <td>1</td>\n",
       "      <td>0.0</td>\n",
       "      <td>...</td>\n",
       "      <td>32</td>\n",
       "      <td>0.0</td>\n",
       "      <td>0.0</td>\n",
       "      <td>0.0</td>\n",
       "      <td>0.0</td>\n",
       "      <td>0.0</td>\n",
       "      <td>0.0</td>\n",
       "      <td>0.0</td>\n",
       "      <td>0.0</td>\n",
       "      <td>RANSOMWARE_WANNALOCKER</td>\n",
       "    </tr>\n",
       "    <tr>\n",
       "      <th>3180</th>\n",
       "      <td>10.42.0.151</td>\n",
       "      <td>8520</td>\n",
       "      <td>10.42.0.1</td>\n",
       "      <td>53</td>\n",
       "      <td>17</td>\n",
       "      <td>22/08/2017 09:06:53</td>\n",
       "      <td>637792</td>\n",
       "      <td>1</td>\n",
       "      <td>1</td>\n",
       "      <td>31.0</td>\n",
       "      <td>...</td>\n",
       "      <td>32</td>\n",
       "      <td>0.0</td>\n",
       "      <td>0.0</td>\n",
       "      <td>0.0</td>\n",
       "      <td>0.0</td>\n",
       "      <td>0.0</td>\n",
       "      <td>0.0</td>\n",
       "      <td>0.0</td>\n",
       "      <td>0.0</td>\n",
       "      <td>RANSOMWARE_WANNALOCKER</td>\n",
       "    </tr>\n",
       "    <tr>\n",
       "      <th>3181</th>\n",
       "      <td>10.42.0.151</td>\n",
       "      <td>34407</td>\n",
       "      <td>192.229.163.180</td>\n",
       "      <td>443</td>\n",
       "      <td>6</td>\n",
       "      <td>22/08/2017 09:56:40</td>\n",
       "      <td>8899330</td>\n",
       "      <td>2</td>\n",
       "      <td>0</td>\n",
       "      <td>0.0</td>\n",
       "      <td>...</td>\n",
       "      <td>32</td>\n",
       "      <td>0.0</td>\n",
       "      <td>0.0</td>\n",
       "      <td>0.0</td>\n",
       "      <td>0.0</td>\n",
       "      <td>8899330.0</td>\n",
       "      <td>0.0</td>\n",
       "      <td>8899330.0</td>\n",
       "      <td>8899330.0</td>\n",
       "      <td>RANSOMWARE_WANNALOCKER</td>\n",
       "    </tr>\n",
       "    <tr>\n",
       "      <th>3182</th>\n",
       "      <td>10.42.0.151</td>\n",
       "      <td>43477</td>\n",
       "      <td>111.221.77.172</td>\n",
       "      <td>40027</td>\n",
       "      <td>17</td>\n",
       "      <td>22/08/2017 09:53:51</td>\n",
       "      <td>228357</td>\n",
       "      <td>1</td>\n",
       "      <td>1</td>\n",
       "      <td>22.0</td>\n",
       "      <td>...</td>\n",
       "      <td>32</td>\n",
       "      <td>0.0</td>\n",
       "      <td>0.0</td>\n",
       "      <td>0.0</td>\n",
       "      <td>0.0</td>\n",
       "      <td>0.0</td>\n",
       "      <td>0.0</td>\n",
       "      <td>0.0</td>\n",
       "      <td>0.0</td>\n",
       "      <td>RANSOMWARE_WANNALOCKER</td>\n",
       "    </tr>\n",
       "    <tr>\n",
       "      <th>3183</th>\n",
       "      <td>10.42.0.151</td>\n",
       "      <td>47686</td>\n",
       "      <td>172.217.10.1</td>\n",
       "      <td>443</td>\n",
       "      <td>6</td>\n",
       "      <td>22/08/2017 10:02:51</td>\n",
       "      <td>65879215</td>\n",
       "      <td>10</td>\n",
       "      <td>8</td>\n",
       "      <td>455.0</td>\n",
       "      <td>...</td>\n",
       "      <td>32</td>\n",
       "      <td>175966.0</td>\n",
       "      <td>0.0</td>\n",
       "      <td>175966.0</td>\n",
       "      <td>175966.0</td>\n",
       "      <td>65703249.0</td>\n",
       "      <td>0.0</td>\n",
       "      <td>65703249.0</td>\n",
       "      <td>65703249.0</td>\n",
       "      <td>RANSOMWARE_WANNALOCKER</td>\n",
       "    </tr>\n",
       "  </tbody>\n",
       "</table>\n",
       "<p>348943 rows × 84 columns</p>\n",
       "</div>"
      ],
      "text/plain": [
       "          Source IP  Source Port   Destination IP  Destination Port  Protocol  \\\n",
       "0        10.42.0.42        34528   172.217.12.174               443         6   \n",
       "1        10.42.0.42        58002    172.217.3.106               443         6   \n",
       "2     172.217.9.238           80       10.42.0.42             46352         6   \n",
       "3      172.217.11.3          443       10.42.0.42             33677         6   \n",
       "4     172.217.10.74          443       10.42.0.42             47775         6   \n",
       "...             ...          ...              ...               ...       ...   \n",
       "3179    10.42.0.151        60901    174.35.73.199                80         6   \n",
       "3180    10.42.0.151         8520        10.42.0.1                53        17   \n",
       "3181    10.42.0.151        34407  192.229.163.180               443         6   \n",
       "3182    10.42.0.151        43477   111.221.77.172             40027        17   \n",
       "3183    10.42.0.151        47686     172.217.10.1               443         6   \n",
       "\n",
       "                Timestamp  Flow Duration  Total Fwd Packets  \\\n",
       "0     29/08/2017 08:46:19          36753                  1   \n",
       "1     29/08/2017 08:46:20          37259                  1   \n",
       "2     29/08/2017 08:46:23         240329                  2   \n",
       "3     29/08/2017 08:46:34         242945                  2   \n",
       "4     29/08/2017 08:47:03             22                  2   \n",
       "...                   ...            ...                ...   \n",
       "3179  22/08/2017 09:06:57          23166                  1   \n",
       "3180  22/08/2017 09:06:53         637792                  1   \n",
       "3181  22/08/2017 09:56:40        8899330                  2   \n",
       "3182  22/08/2017 09:53:51         228357                  1   \n",
       "3183  22/08/2017 10:02:51       65879215                 10   \n",
       "\n",
       "      Total Backward Packets  Total Length of Fwd Packets  ...  \\\n",
       "0                          1                         23.0  ...   \n",
       "1                          2                         31.0  ...   \n",
       "2                          0                          0.0  ...   \n",
       "3                          0                          0.0  ...   \n",
       "4                          0                         55.0  ...   \n",
       "...                      ...                          ...  ...   \n",
       "3179                       1                          0.0  ...   \n",
       "3180                       1                         31.0  ...   \n",
       "3181                       0                          0.0  ...   \n",
       "3182                       1                         22.0  ...   \n",
       "3183                       8                        455.0  ...   \n",
       "\n",
       "      min_seg_size_forward  Active Mean  Active Std  Active Max  Active Min  \\\n",
       "0                       32          0.0         0.0         0.0         0.0   \n",
       "1                       32          0.0         0.0         0.0         0.0   \n",
       "2                       32          0.0         0.0         0.0         0.0   \n",
       "3                       32          0.0         0.0         0.0         0.0   \n",
       "4                       32          0.0         0.0         0.0         0.0   \n",
       "...                    ...          ...         ...         ...         ...   \n",
       "3179                    32          0.0         0.0         0.0         0.0   \n",
       "3180                    32          0.0         0.0         0.0         0.0   \n",
       "3181                    32          0.0         0.0         0.0         0.0   \n",
       "3182                    32          0.0         0.0         0.0         0.0   \n",
       "3183                    32     175966.0         0.0    175966.0    175966.0   \n",
       "\n",
       "       Idle Mean  Idle Std    Idle Max    Idle Min                   Label  \n",
       "0            0.0       0.0         0.0         0.0       RANSOMWARE_SVPENG  \n",
       "1            0.0       0.0         0.0         0.0       RANSOMWARE_SVPENG  \n",
       "2            0.0       0.0         0.0         0.0       RANSOMWARE_SVPENG  \n",
       "3            0.0       0.0         0.0         0.0       RANSOMWARE_SVPENG  \n",
       "4            0.0       0.0         0.0         0.0       RANSOMWARE_SVPENG  \n",
       "...          ...       ...         ...         ...                     ...  \n",
       "3179         0.0       0.0         0.0         0.0  RANSOMWARE_WANNALOCKER  \n",
       "3180         0.0       0.0         0.0         0.0  RANSOMWARE_WANNALOCKER  \n",
       "3181   8899330.0       0.0   8899330.0   8899330.0  RANSOMWARE_WANNALOCKER  \n",
       "3182         0.0       0.0         0.0         0.0  RANSOMWARE_WANNALOCKER  \n",
       "3183  65703249.0       0.0  65703249.0  65703249.0  RANSOMWARE_WANNALOCKER  \n",
       "\n",
       "[348943 rows x 84 columns]"
      ]
     },
     "execution_count": 14,
     "metadata": {},
     "output_type": "execute_result"
    }
   ],
   "source": [
    "dict_dataframes_filter['RANSOMWARE']"
   ]
  },
  {
   "cell_type": "code",
   "execution_count": 35,
   "id": "7aa52b12597809f1",
   "metadata": {
    "ExecuteTime": {
     "end_time": "2023-11-06T00:16:57.707411143Z",
     "start_time": "2023-11-06T00:16:57.664126562Z"
    },
    "collapsed": false,
    "jupyter": {
     "outputs_hidden": false
    }
   },
   "outputs": [],
   "source": [
    "def save_dic(dataframe, prefix=''):\n",
    "    for key, value in dataframe.items():\n",
    "        value.to_csv(f'{os.getenv(\"FOLDER_RESULT\")}/{prefix}{key}.csv', index=False)"
   ]
  },
  {
   "cell_type": "code",
   "execution_count": 37,
   "id": "93adbb8aa8c8c27a",
   "metadata": {
    "ExecuteTime": {
     "end_time": "2023-11-06T00:20:52.195866099Z",
     "start_time": "2023-11-06T00:20:07.174574224Z"
    },
    "collapsed": false,
    "jupyter": {
     "outputs_hidden": false
    }
   },
   "outputs": [],
   "source": [
    "save_dic(dataframe=dict_dataframes_filter)\n",
    "save_dic(dataframe=dict_dataframes_invalid,prefix='Invalid')"
   ]
  }
 ],
 "metadata": {
  "kernelspec": {
   "display_name": "Python 3 (ipykernel)",
   "language": "python",
   "name": "python3"
  },
  "language_info": {
   "codemirror_mode": {
    "name": "ipython",
    "version": 3
   },
   "file_extension": ".py",
   "mimetype": "text/x-python",
   "name": "python",
   "nbconvert_exporter": "python",
   "pygments_lexer": "ipython3",
   "version": "3.11.2"
  }
 },
 "nbformat": 4,
 "nbformat_minor": 5
}
