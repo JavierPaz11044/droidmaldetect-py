{
 "cells": [
  {
   "cell_type": "code",
   "execution_count": 2,
   "metadata": {},
   "outputs": [],
   "source": [
    "from  sklearn.preprocessing import StandardScaler, MinMaxScaler\n",
    "import pandas as pd"
   ]
  },
  {
   "cell_type": "code",
   "execution_count": 3,
   "metadata": {},
   "outputs": [
    {
     "ename": "ParserError",
     "evalue": "Error tokenizing data. C error: Calling read(nbytes) on source failed. Try engine='python'.",
     "output_type": "error",
     "traceback": [
      "\u001b[0;31m---------------------------------------------------------------------------\u001b[0m",
      "\u001b[0;31mParserError\u001b[0m                               Traceback (most recent call last)",
      "\u001b[1;32m/home/lpazc/Documentos/Proyects/DroidMalDetect-Py/droidmaldetect_py/Dataset2017/notebook/PCS.ipynb Cell 2\u001b[0m line \u001b[0;36m2\n\u001b[1;32m      <a href='vscode-notebook-cell:/home/lpazc/Documentos/Proyects/DroidMalDetect-Py/droidmaldetect_py/Dataset2017/notebook/PCS.ipynb#W1sZmlsZQ%3D%3D?line=0'>1</a>\u001b[0m csv_train \u001b[39m=\u001b[39m  \u001b[39m\"\u001b[39m\u001b[39m/home/lpazc/Documentos/Proyects/DroidMalDetect-Py/results/train_dataset.csv\u001b[39m\u001b[39m\"\u001b[39m\n\u001b[0;32m----> <a href='vscode-notebook-cell:/home/lpazc/Documentos/Proyects/DroidMalDetect-Py/droidmaldetect_py/Dataset2017/notebook/PCS.ipynb#W1sZmlsZQ%3D%3D?line=1'>2</a>\u001b[0m csv_dataframe_train \u001b[39m=\u001b[39m  pd\u001b[39m.\u001b[39;49mread_csv(csv_train, index_col\u001b[39m=\u001b[39;49m\u001b[39mFalse\u001b[39;49;00m)\n\u001b[1;32m      <a href='vscode-notebook-cell:/home/lpazc/Documentos/Proyects/DroidMalDetect-Py/droidmaldetect_py/Dataset2017/notebook/PCS.ipynb#W1sZmlsZQ%3D%3D?line=2'>3</a>\u001b[0m scaler \u001b[39m=\u001b[39m  StandardScaler()\n",
      "File \u001b[0;32m~/Documentos/Proyects/DroidMalDetect-Py/.venv/lib/python3.11/site-packages/pandas/io/parsers/readers.py:948\u001b[0m, in \u001b[0;36mread_csv\u001b[0;34m(filepath_or_buffer, sep, delimiter, header, names, index_col, usecols, dtype, engine, converters, true_values, false_values, skipinitialspace, skiprows, skipfooter, nrows, na_values, keep_default_na, na_filter, verbose, skip_blank_lines, parse_dates, infer_datetime_format, keep_date_col, date_parser, date_format, dayfirst, cache_dates, iterator, chunksize, compression, thousands, decimal, lineterminator, quotechar, quoting, doublequote, escapechar, comment, encoding, encoding_errors, dialect, on_bad_lines, delim_whitespace, low_memory, memory_map, float_precision, storage_options, dtype_backend)\u001b[0m\n\u001b[1;32m    935\u001b[0m kwds_defaults \u001b[39m=\u001b[39m _refine_defaults_read(\n\u001b[1;32m    936\u001b[0m     dialect,\n\u001b[1;32m    937\u001b[0m     delimiter,\n\u001b[0;32m   (...)\u001b[0m\n\u001b[1;32m    944\u001b[0m     dtype_backend\u001b[39m=\u001b[39mdtype_backend,\n\u001b[1;32m    945\u001b[0m )\n\u001b[1;32m    946\u001b[0m kwds\u001b[39m.\u001b[39mupdate(kwds_defaults)\n\u001b[0;32m--> 948\u001b[0m \u001b[39mreturn\u001b[39;00m _read(filepath_or_buffer, kwds)\n",
      "File \u001b[0;32m~/Documentos/Proyects/DroidMalDetect-Py/.venv/lib/python3.11/site-packages/pandas/io/parsers/readers.py:617\u001b[0m, in \u001b[0;36m_read\u001b[0;34m(filepath_or_buffer, kwds)\u001b[0m\n\u001b[1;32m    614\u001b[0m     \u001b[39mreturn\u001b[39;00m parser\n\u001b[1;32m    616\u001b[0m \u001b[39mwith\u001b[39;00m parser:\n\u001b[0;32m--> 617\u001b[0m     \u001b[39mreturn\u001b[39;00m parser\u001b[39m.\u001b[39;49mread(nrows)\n",
      "File \u001b[0;32m~/Documentos/Proyects/DroidMalDetect-Py/.venv/lib/python3.11/site-packages/pandas/io/parsers/readers.py:1748\u001b[0m, in \u001b[0;36mTextFileReader.read\u001b[0;34m(self, nrows)\u001b[0m\n\u001b[1;32m   1741\u001b[0m nrows \u001b[39m=\u001b[39m validate_integer(\u001b[39m\"\u001b[39m\u001b[39mnrows\u001b[39m\u001b[39m\"\u001b[39m, nrows)\n\u001b[1;32m   1742\u001b[0m \u001b[39mtry\u001b[39;00m:\n\u001b[1;32m   1743\u001b[0m     \u001b[39m# error: \"ParserBase\" has no attribute \"read\"\u001b[39;00m\n\u001b[1;32m   1744\u001b[0m     (\n\u001b[1;32m   1745\u001b[0m         index,\n\u001b[1;32m   1746\u001b[0m         columns,\n\u001b[1;32m   1747\u001b[0m         col_dict,\n\u001b[0;32m-> 1748\u001b[0m     ) \u001b[39m=\u001b[39m \u001b[39mself\u001b[39;49m\u001b[39m.\u001b[39;49m_engine\u001b[39m.\u001b[39;49mread(  \u001b[39m# type: ignore[attr-defined]\u001b[39;49;00m\n\u001b[1;32m   1749\u001b[0m         nrows\n\u001b[1;32m   1750\u001b[0m     )\n\u001b[1;32m   1751\u001b[0m \u001b[39mexcept\u001b[39;00m \u001b[39mException\u001b[39;00m:\n\u001b[1;32m   1752\u001b[0m     \u001b[39mself\u001b[39m\u001b[39m.\u001b[39mclose()\n",
      "File \u001b[0;32m~/Documentos/Proyects/DroidMalDetect-Py/.venv/lib/python3.11/site-packages/pandas/io/parsers/c_parser_wrapper.py:234\u001b[0m, in \u001b[0;36mCParserWrapper.read\u001b[0;34m(self, nrows)\u001b[0m\n\u001b[1;32m    232\u001b[0m \u001b[39mtry\u001b[39;00m:\n\u001b[1;32m    233\u001b[0m     \u001b[39mif\u001b[39;00m \u001b[39mself\u001b[39m\u001b[39m.\u001b[39mlow_memory:\n\u001b[0;32m--> 234\u001b[0m         chunks \u001b[39m=\u001b[39m \u001b[39mself\u001b[39;49m\u001b[39m.\u001b[39;49m_reader\u001b[39m.\u001b[39;49mread_low_memory(nrows)\n\u001b[1;32m    235\u001b[0m         \u001b[39m# destructive to chunks\u001b[39;00m\n\u001b[1;32m    236\u001b[0m         data \u001b[39m=\u001b[39m _concatenate_chunks(chunks)\n",
      "File \u001b[0;32mparsers.pyx:843\u001b[0m, in \u001b[0;36mpandas._libs.parsers.TextReader.read_low_memory\u001b[0;34m()\u001b[0m\n",
      "File \u001b[0;32mparsers.pyx:904\u001b[0m, in \u001b[0;36mpandas._libs.parsers.TextReader._read_rows\u001b[0;34m()\u001b[0m\n",
      "File \u001b[0;32mparsers.pyx:879\u001b[0m, in \u001b[0;36mpandas._libs.parsers.TextReader._tokenize_rows\u001b[0;34m()\u001b[0m\n",
      "File \u001b[0;32mparsers.pyx:890\u001b[0m, in \u001b[0;36mpandas._libs.parsers.TextReader._check_tokenize_status\u001b[0;34m()\u001b[0m\n",
      "File \u001b[0;32mparsers.pyx:2058\u001b[0m, in \u001b[0;36mpandas._libs.parsers.raise_parser_error\u001b[0;34m()\u001b[0m\n",
      "\u001b[0;31mParserError\u001b[0m: Error tokenizing data. C error: Calling read(nbytes) on source failed. Try engine='python'."
     ]
    }
   ],
   "source": [
    "csv_train =  \"/home/lpazc/Documentos/Proyects/DroidMalDetect-Py/results/train_dataset.csv\"\n",
    "csv_dataframe_train =  pd.read_csv(csv_train, index_col=False)\n",
    "scaler =  MinMaxScaler()"
   ]
  },
  {
   "cell_type": "code",
   "execution_count": 3,
   "metadata": {},
   "outputs": [],
   "source": [
    "csv_dataframe_train.drop(['Source Port', 'Destination Port', 'Protocol', 'Flow Duration'], inplace=True, axis=1)"
   ]
  },
  {
   "cell_type": "code",
   "execution_count": 4,
   "metadata": {},
   "outputs": [],
   "source": [
    "for data in csv_dataframe_train['category']:\n",
    "    if data != 0 and data!=1:\n",
    "        print(data)"
   ]
  },
  {
   "cell_type": "code",
   "execution_count": 5,
   "metadata": {},
   "outputs": [],
   "source": [
    "scaler_dataset = scaler.fit_transform(csv_dataframe_train) "
   ]
  },
  {
   "cell_type": "code",
   "execution_count": 6,
   "metadata": {},
   "outputs": [],
   "source": [
    "dataframe_scaled =  pd.DataFrame(scaler_dataset, columns=csv_dataframe_train.columns)"
   ]
  },
  {
   "cell_type": "code",
   "execution_count": 7,
   "metadata": {},
   "outputs": [
    {
     "data": {
      "text/plain": [
       "(2587694, 65)"
      ]
     },
     "execution_count": 7,
     "metadata": {},
     "output_type": "execute_result"
    }
   ],
   "source": [
    "dataframe_scaled.shape"
   ]
  },
  {
   "cell_type": "code",
   "execution_count": 8,
   "metadata": {},
   "outputs": [],
   "source": [
    "dataframe_scaled['category'] = csv_dataframe_train['category']"
   ]
  },
  {
   "cell_type": "code",
   "execution_count": 9,
   "metadata": {},
   "outputs": [],
   "source": [
    "dataframe_out_category =  dataframe_scaled.drop(['category'], axis=1)\n",
    "categories_dataframe =  dataframe_scaled['category']"
   ]
  },
  {
   "cell_type": "code",
   "execution_count": 10,
   "metadata": {},
   "outputs": [
    {
     "data": {
      "text/plain": [
       "(2587694, 64)"
      ]
     },
     "execution_count": 10,
     "metadata": {},
     "output_type": "execute_result"
    }
   ],
   "source": [
    "dataframe_out_category.shape"
   ]
  },
  {
   "cell_type": "code",
   "execution_count": 11,
   "metadata": {},
   "outputs": [],
   "source": [
    "from sklearn.decomposition import PCA\n",
    "from sklearn.model_selection import train_test_split\n",
    "pca = PCA(.95)"
   ]
  },
  {
   "cell_type": "code",
   "execution_count": 12,
   "metadata": {},
   "outputs": [],
   "source": [
    "train_dataset, test_dataset, train_category, test_category =  train_test_split(dataframe_out_category, categories_dataframe, random_state=42, test_size=1/7)"
   ]
  },
  {
   "cell_type": "code",
   "execution_count": 13,
   "metadata": {},
   "outputs": [],
   "source": [
    "train_dataset.reset_index(inplace=True, drop=True)\n",
    "test_dataset.reset_index(inplace=True, drop=True)\n",
    "train_category.reset_index(inplace=True, drop=True)\n",
    "test_category.reset_index(inplace=True, drop=True)"
   ]
  },
  {
   "cell_type": "code",
   "execution_count": 16,
   "metadata": {},
   "outputs": [],
   "source": [
    "train_dataset_v2 =  train_dataset\n",
    "test_dataset_v2 =  test_dataset\n",
    "train_dataset_v2['category'] =  train_category\n",
    "test_dataset_v2['category'] =  test_category\n",
    "train_dataset_v2.to_csv('/home/lpazc/Documentos/Proyects/DroidMalDetect-Py/results/train_dataset_v2.csv', index=False)\n",
    "test_dataset_v2.to_csv('/home/lpazc/Documentos/Proyects/DroidMalDetect-Py/results/test_dataset_v2.csv', index=False)"
   ]
  },
  {
   "cell_type": "code",
   "execution_count": 15,
   "metadata": {},
   "outputs": [
    {
     "data": {
      "text/plain": [
       "Index(['Total Fwd Packets', 'Total Backward Packets',\n",
       "       'Total Length of Fwd Packets', 'Total Length of Bwd Packets',\n",
       "       'Fwd Packet Length Max', 'Fwd Packet Length Min',\n",
       "       'Fwd Packet Length Mean', 'Fwd Packet Length Std',\n",
       "       'Bwd Packet Length Max', 'Bwd Packet Length Min',\n",
       "       'Bwd Packet Length Mean', 'Bwd Packet Length Std', 'Flow Bytes/s',\n",
       "       'Flow Packets/s', 'Flow IAT Mean', 'Flow IAT Std', 'Flow IAT Max',\n",
       "       'Flow IAT Min', 'Fwd IAT Total', 'Fwd IAT Mean', 'Fwd IAT Std',\n",
       "       'Fwd IAT Max', 'Fwd IAT Min', 'Bwd IAT Total', 'Bwd IAT Mean',\n",
       "       'Bwd IAT Std', 'Bwd IAT Max', 'Bwd IAT Min', 'Fwd PSH Flags',\n",
       "       'Fwd Header Length', 'Bwd Header Length', 'Fwd Packets/s',\n",
       "       'Bwd Packets/s', 'Min Packet Length', 'Max Packet Length',\n",
       "       'Packet Length Mean', 'Packet Length Std', 'Packet Length Variance',\n",
       "       'FIN Flag Count', 'SYN Flag Count', 'PSH Flag Count', 'ACK Flag Count',\n",
       "       'URG Flag Count', 'Down/Up Ratio', 'Average Packet Size',\n",
       "       'Avg Fwd Segment Size', 'Avg Bwd Segment Size', 'Fwd Header Length.1',\n",
       "       'Subflow Fwd Packets', 'Subflow Fwd Bytes', 'Subflow Bwd Packets',\n",
       "       'Subflow Bwd Bytes', 'Init_Win_bytes_forward',\n",
       "       'Init_Win_bytes_backward', 'act_data_pkt_fwd', 'min_seg_size_forward',\n",
       "       'Active Mean', 'Active Std', 'Active Max', 'Active Min', 'Idle Mean',\n",
       "       'Idle Std', 'Idle Max', 'Idle Min', 'category'],\n",
       "      dtype='object')"
      ]
     },
     "execution_count": 15,
     "metadata": {},
     "output_type": "execute_result"
    }
   ],
   "source": [
    "train_dataset_v2.columns"
   ]
  },
  {
   "cell_type": "code",
   "execution_count": 157,
   "metadata": {},
   "outputs": [
    {
     "data": {
      "text/html": [
       "<style>#sk-container-id-7 {color: black;}#sk-container-id-7 pre{padding: 0;}#sk-container-id-7 div.sk-toggleable {background-color: white;}#sk-container-id-7 label.sk-toggleable__label {cursor: pointer;display: block;width: 100%;margin-bottom: 0;padding: 0.3em;box-sizing: border-box;text-align: center;}#sk-container-id-7 label.sk-toggleable__label-arrow:before {content: \"▸\";float: left;margin-right: 0.25em;color: #696969;}#sk-container-id-7 label.sk-toggleable__label-arrow:hover:before {color: black;}#sk-container-id-7 div.sk-estimator:hover label.sk-toggleable__label-arrow:before {color: black;}#sk-container-id-7 div.sk-toggleable__content {max-height: 0;max-width: 0;overflow: hidden;text-align: left;background-color: #f0f8ff;}#sk-container-id-7 div.sk-toggleable__content pre {margin: 0.2em;color: black;border-radius: 0.25em;background-color: #f0f8ff;}#sk-container-id-7 input.sk-toggleable__control:checked~div.sk-toggleable__content {max-height: 200px;max-width: 100%;overflow: auto;}#sk-container-id-7 input.sk-toggleable__control:checked~label.sk-toggleable__label-arrow:before {content: \"▾\";}#sk-container-id-7 div.sk-estimator input.sk-toggleable__control:checked~label.sk-toggleable__label {background-color: #d4ebff;}#sk-container-id-7 div.sk-label input.sk-toggleable__control:checked~label.sk-toggleable__label {background-color: #d4ebff;}#sk-container-id-7 input.sk-hidden--visually {border: 0;clip: rect(1px 1px 1px 1px);clip: rect(1px, 1px, 1px, 1px);height: 1px;margin: -1px;overflow: hidden;padding: 0;position: absolute;width: 1px;}#sk-container-id-7 div.sk-estimator {font-family: monospace;background-color: #f0f8ff;border: 1px dotted black;border-radius: 0.25em;box-sizing: border-box;margin-bottom: 0.5em;}#sk-container-id-7 div.sk-estimator:hover {background-color: #d4ebff;}#sk-container-id-7 div.sk-parallel-item::after {content: \"\";width: 100%;border-bottom: 1px solid gray;flex-grow: 1;}#sk-container-id-7 div.sk-label:hover label.sk-toggleable__label {background-color: #d4ebff;}#sk-container-id-7 div.sk-serial::before {content: \"\";position: absolute;border-left: 1px solid gray;box-sizing: border-box;top: 0;bottom: 0;left: 50%;z-index: 0;}#sk-container-id-7 div.sk-serial {display: flex;flex-direction: column;align-items: center;background-color: white;padding-right: 0.2em;padding-left: 0.2em;position: relative;}#sk-container-id-7 div.sk-item {position: relative;z-index: 1;}#sk-container-id-7 div.sk-parallel {display: flex;align-items: stretch;justify-content: center;background-color: white;position: relative;}#sk-container-id-7 div.sk-item::before, #sk-container-id-7 div.sk-parallel-item::before {content: \"\";position: absolute;border-left: 1px solid gray;box-sizing: border-box;top: 0;bottom: 0;left: 50%;z-index: -1;}#sk-container-id-7 div.sk-parallel-item {display: flex;flex-direction: column;z-index: 1;position: relative;background-color: white;}#sk-container-id-7 div.sk-parallel-item:first-child::after {align-self: flex-end;width: 50%;}#sk-container-id-7 div.sk-parallel-item:last-child::after {align-self: flex-start;width: 50%;}#sk-container-id-7 div.sk-parallel-item:only-child::after {width: 0;}#sk-container-id-7 div.sk-dashed-wrapped {border: 1px dashed gray;margin: 0 0.4em 0.5em 0.4em;box-sizing: border-box;padding-bottom: 0.4em;background-color: white;}#sk-container-id-7 div.sk-label label {font-family: monospace;font-weight: bold;display: inline-block;line-height: 1.2em;}#sk-container-id-7 div.sk-label-container {text-align: center;}#sk-container-id-7 div.sk-container {/* jupyter's `normalize.less` sets `[hidden] { display: none; }` but bootstrap.min.css set `[hidden] { display: none !important; }` so we also need the `!important` here to be able to override the default hidden behavior on the sphinx rendered scikit-learn.org. See: https://github.com/scikit-learn/scikit-learn/issues/21755 */display: inline-block !important;position: relative;}#sk-container-id-7 div.sk-text-repr-fallback {display: none;}</style><div id=\"sk-container-id-7\" class=\"sk-top-container\"><div class=\"sk-text-repr-fallback\"><pre>PCA(n_components=0.95)</pre><b>In a Jupyter environment, please rerun this cell to show the HTML representation or trust the notebook. <br />On GitHub, the HTML representation is unable to render, please try loading this page with nbviewer.org.</b></div><div class=\"sk-container\" hidden><div class=\"sk-item\"><div class=\"sk-estimator sk-toggleable\"><input class=\"sk-toggleable__control sk-hidden--visually\" id=\"sk-estimator-id-7\" type=\"checkbox\" checked><label for=\"sk-estimator-id-7\" class=\"sk-toggleable__label sk-toggleable__label-arrow\">PCA</label><div class=\"sk-toggleable__content\"><pre>PCA(n_components=0.95)</pre></div></div></div></div></div>"
      ],
      "text/plain": [
       "PCA(n_components=0.95)"
      ]
     },
     "execution_count": 157,
     "metadata": {},
     "output_type": "execute_result"
    }
   ],
   "source": [
    "pca.fit(train_dataset)"
   ]
  },
  {
   "cell_type": "code",
   "execution_count": 158,
   "metadata": {},
   "outputs": [
    {
     "data": {
      "text/plain": [
       "24"
      ]
     },
     "execution_count": 158,
     "metadata": {},
     "output_type": "execute_result"
    }
   ],
   "source": [
    "pca.n_components_"
   ]
  },
  {
   "cell_type": "code",
   "execution_count": 159,
   "metadata": {},
   "outputs": [
    {
     "data": {
      "text/plain": [
       "0          0\n",
       "1          0\n",
       "2          1\n",
       "3          0\n",
       "4          0\n",
       "          ..\n",
       "2218018    0\n",
       "2218019    0\n",
       "2218020    0\n",
       "2218021    0\n",
       "2218022    0\n",
       "Name: category, Length: 2218023, dtype: int64"
      ]
     },
     "execution_count": 159,
     "metadata": {},
     "output_type": "execute_result"
    }
   ],
   "source": [
    "train_category"
   ]
  },
  {
   "cell_type": "code",
   "execution_count": 160,
   "metadata": {},
   "outputs": [],
   "source": [
    "train_dataset =  pca.transform(train_dataset)\n",
    "test_dataset =  pca.transform(test_dataset)"
   ]
  },
  {
   "cell_type": "code",
   "execution_count": 161,
   "metadata": {},
   "outputs": [
    {
     "data": {
      "text/plain": [
       "(369671, 24)"
      ]
     },
     "execution_count": 161,
     "metadata": {},
     "output_type": "execute_result"
    }
   ],
   "source": [
    "test_dataset.shape"
   ]
  },
  {
   "cell_type": "code",
   "execution_count": 162,
   "metadata": {},
   "outputs": [],
   "source": [
    "name_columns = [f\"PCS-{n}\" for n in range(0, train_dataset.shape[1])]"
   ]
  },
  {
   "cell_type": "code",
   "execution_count": 163,
   "metadata": {},
   "outputs": [],
   "source": [
    "train_dataset =  pd.DataFrame(train_dataset, columns=name_columns)\n",
    "test_dataset =  pd.DataFrame(test_dataset, columns=name_columns)"
   ]
  },
  {
   "cell_type": "code",
   "execution_count": 167,
   "metadata": {},
   "outputs": [],
   "source": [
    "train_dataset['category']=train_category\n",
    "test_dataset['category']=test_category"
   ]
  },
  {
   "cell_type": "code",
   "execution_count": 166,
   "metadata": {},
   "outputs": [
    {
     "data": {
      "text/html": [
       "<div>\n",
       "<style scoped>\n",
       "    .dataframe tbody tr th:only-of-type {\n",
       "        vertical-align: middle;\n",
       "    }\n",
       "\n",
       "    .dataframe tbody tr th {\n",
       "        vertical-align: top;\n",
       "    }\n",
       "\n",
       "    .dataframe thead th {\n",
       "        text-align: right;\n",
       "    }\n",
       "</style>\n",
       "<table border=\"1\" class=\"dataframe\">\n",
       "  <thead>\n",
       "    <tr style=\"text-align: right;\">\n",
       "      <th></th>\n",
       "      <th>PCS-0</th>\n",
       "      <th>PCS-1</th>\n",
       "      <th>PCS-2</th>\n",
       "      <th>PCS-3</th>\n",
       "      <th>PCS-4</th>\n",
       "      <th>PCS-5</th>\n",
       "      <th>PCS-6</th>\n",
       "      <th>PCS-7</th>\n",
       "      <th>PCS-8</th>\n",
       "      <th>PCS-9</th>\n",
       "      <th>...</th>\n",
       "      <th>PCS-15</th>\n",
       "      <th>PCS-16</th>\n",
       "      <th>PCS-17</th>\n",
       "      <th>PCS-18</th>\n",
       "      <th>PCS-19</th>\n",
       "      <th>PCS-20</th>\n",
       "      <th>PCS-21</th>\n",
       "      <th>PCS-22</th>\n",
       "      <th>PCS-23</th>\n",
       "      <th>category</th>\n",
       "    </tr>\n",
       "  </thead>\n",
       "  <tbody>\n",
       "    <tr>\n",
       "      <th>0</th>\n",
       "      <td>-1.719427</td>\n",
       "      <td>1.041112</td>\n",
       "      <td>-0.029033</td>\n",
       "      <td>-0.033945</td>\n",
       "      <td>0.488359</td>\n",
       "      <td>-0.320245</td>\n",
       "      <td>0.675607</td>\n",
       "      <td>0.040008</td>\n",
       "      <td>-0.850674</td>\n",
       "      <td>0.904590</td>\n",
       "      <td>...</td>\n",
       "      <td>0.166457</td>\n",
       "      <td>0.296350</td>\n",
       "      <td>0.170225</td>\n",
       "      <td>0.126065</td>\n",
       "      <td>-0.012936</td>\n",
       "      <td>-0.078119</td>\n",
       "      <td>-0.217705</td>\n",
       "      <td>0.006862</td>\n",
       "      <td>0.172171</td>\n",
       "      <td>0</td>\n",
       "    </tr>\n",
       "    <tr>\n",
       "      <th>1</th>\n",
       "      <td>-2.513016</td>\n",
       "      <td>0.378792</td>\n",
       "      <td>0.180003</td>\n",
       "      <td>-0.033389</td>\n",
       "      <td>0.509032</td>\n",
       "      <td>-0.166350</td>\n",
       "      <td>0.247207</td>\n",
       "      <td>-0.138200</td>\n",
       "      <td>0.478633</td>\n",
       "      <td>-0.355185</td>\n",
       "      <td>...</td>\n",
       "      <td>-0.423369</td>\n",
       "      <td>0.428696</td>\n",
       "      <td>-0.498758</td>\n",
       "      <td>-0.567661</td>\n",
       "      <td>0.053651</td>\n",
       "      <td>0.042064</td>\n",
       "      <td>-0.002884</td>\n",
       "      <td>0.018795</td>\n",
       "      <td>-0.570877</td>\n",
       "      <td>0</td>\n",
       "    </tr>\n",
       "    <tr>\n",
       "      <th>2</th>\n",
       "      <td>7.169543</td>\n",
       "      <td>0.970827</td>\n",
       "      <td>-0.545971</td>\n",
       "      <td>0.185807</td>\n",
       "      <td>-3.243937</td>\n",
       "      <td>-0.199090</td>\n",
       "      <td>-1.077415</td>\n",
       "      <td>-0.185070</td>\n",
       "      <td>1.729826</td>\n",
       "      <td>0.188037</td>\n",
       "      <td>...</td>\n",
       "      <td>-1.130055</td>\n",
       "      <td>-0.283804</td>\n",
       "      <td>0.332416</td>\n",
       "      <td>0.275258</td>\n",
       "      <td>-0.572652</td>\n",
       "      <td>-0.638327</td>\n",
       "      <td>0.332787</td>\n",
       "      <td>-0.019409</td>\n",
       "      <td>0.268257</td>\n",
       "      <td>1</td>\n",
       "    </tr>\n",
       "    <tr>\n",
       "      <th>3</th>\n",
       "      <td>-2.484802</td>\n",
       "      <td>0.321382</td>\n",
       "      <td>0.182738</td>\n",
       "      <td>-0.022501</td>\n",
       "      <td>0.317128</td>\n",
       "      <td>-0.203769</td>\n",
       "      <td>0.532316</td>\n",
       "      <td>-0.171392</td>\n",
       "      <td>0.235577</td>\n",
       "      <td>-0.311109</td>\n",
       "      <td>...</td>\n",
       "      <td>-0.340788</td>\n",
       "      <td>0.405275</td>\n",
       "      <td>-0.597997</td>\n",
       "      <td>-0.307447</td>\n",
       "      <td>0.088032</td>\n",
       "      <td>0.105859</td>\n",
       "      <td>0.135460</td>\n",
       "      <td>0.017582</td>\n",
       "      <td>-0.613108</td>\n",
       "      <td>0</td>\n",
       "    </tr>\n",
       "    <tr>\n",
       "      <th>4</th>\n",
       "      <td>0.095984</td>\n",
       "      <td>-6.182967</td>\n",
       "      <td>0.574045</td>\n",
       "      <td>0.176454</td>\n",
       "      <td>-3.033600</td>\n",
       "      <td>-0.513644</td>\n",
       "      <td>0.781771</td>\n",
       "      <td>1.736568</td>\n",
       "      <td>1.722352</td>\n",
       "      <td>-6.504171</td>\n",
       "      <td>...</td>\n",
       "      <td>2.019361</td>\n",
       "      <td>-2.565433</td>\n",
       "      <td>2.824614</td>\n",
       "      <td>-0.946937</td>\n",
       "      <td>0.259488</td>\n",
       "      <td>-0.222455</td>\n",
       "      <td>1.541727</td>\n",
       "      <td>-0.026497</td>\n",
       "      <td>-0.191912</td>\n",
       "      <td>0</td>\n",
       "    </tr>\n",
       "    <tr>\n",
       "      <th>...</th>\n",
       "      <td>...</td>\n",
       "      <td>...</td>\n",
       "      <td>...</td>\n",
       "      <td>...</td>\n",
       "      <td>...</td>\n",
       "      <td>...</td>\n",
       "      <td>...</td>\n",
       "      <td>...</td>\n",
       "      <td>...</td>\n",
       "      <td>...</td>\n",
       "      <td>...</td>\n",
       "      <td>...</td>\n",
       "      <td>...</td>\n",
       "      <td>...</td>\n",
       "      <td>...</td>\n",
       "      <td>...</td>\n",
       "      <td>...</td>\n",
       "      <td>...</td>\n",
       "      <td>...</td>\n",
       "      <td>...</td>\n",
       "      <td>...</td>\n",
       "    </tr>\n",
       "    <tr>\n",
       "      <th>2218018</th>\n",
       "      <td>-1.779313</td>\n",
       "      <td>1.015756</td>\n",
       "      <td>-0.024352</td>\n",
       "      <td>-0.036211</td>\n",
       "      <td>0.524642</td>\n",
       "      <td>-0.307170</td>\n",
       "      <td>0.679505</td>\n",
       "      <td>0.054820</td>\n",
       "      <td>-0.852952</td>\n",
       "      <td>0.798319</td>\n",
       "      <td>...</td>\n",
       "      <td>0.199171</td>\n",
       "      <td>0.227340</td>\n",
       "      <td>0.019026</td>\n",
       "      <td>0.140678</td>\n",
       "      <td>-0.023231</td>\n",
       "      <td>-0.091422</td>\n",
       "      <td>-0.252822</td>\n",
       "      <td>0.008038</td>\n",
       "      <td>0.286910</td>\n",
       "      <td>0</td>\n",
       "    </tr>\n",
       "    <tr>\n",
       "      <th>2218019</th>\n",
       "      <td>11.529245</td>\n",
       "      <td>-4.560917</td>\n",
       "      <td>-1.032951</td>\n",
       "      <td>-0.216910</td>\n",
       "      <td>2.686570</td>\n",
       "      <td>-3.110249</td>\n",
       "      <td>0.780086</td>\n",
       "      <td>1.255543</td>\n",
       "      <td>1.430819</td>\n",
       "      <td>4.563230</td>\n",
       "      <td>...</td>\n",
       "      <td>1.076840</td>\n",
       "      <td>-1.305083</td>\n",
       "      <td>0.340297</td>\n",
       "      <td>-0.245000</td>\n",
       "      <td>1.894244</td>\n",
       "      <td>1.474236</td>\n",
       "      <td>-0.919507</td>\n",
       "      <td>0.007565</td>\n",
       "      <td>0.324853</td>\n",
       "      <td>0</td>\n",
       "    </tr>\n",
       "    <tr>\n",
       "      <th>2218020</th>\n",
       "      <td>2.609045</td>\n",
       "      <td>2.083090</td>\n",
       "      <td>-1.059412</td>\n",
       "      <td>0.043720</td>\n",
       "      <td>-1.162372</td>\n",
       "      <td>-0.005590</td>\n",
       "      <td>0.076629</td>\n",
       "      <td>0.071676</td>\n",
       "      <td>0.721323</td>\n",
       "      <td>-1.195586</td>\n",
       "      <td>...</td>\n",
       "      <td>0.084411</td>\n",
       "      <td>0.600983</td>\n",
       "      <td>-1.022751</td>\n",
       "      <td>-0.077301</td>\n",
       "      <td>0.243243</td>\n",
       "      <td>0.162927</td>\n",
       "      <td>-0.268063</td>\n",
       "      <td>0.007436</td>\n",
       "      <td>-0.075900</td>\n",
       "      <td>0</td>\n",
       "    </tr>\n",
       "    <tr>\n",
       "      <th>2218021</th>\n",
       "      <td>-2.670975</td>\n",
       "      <td>0.411073</td>\n",
       "      <td>0.281450</td>\n",
       "      <td>-0.032887</td>\n",
       "      <td>0.471525</td>\n",
       "      <td>-0.358356</td>\n",
       "      <td>0.726009</td>\n",
       "      <td>-0.120767</td>\n",
       "      <td>0.090735</td>\n",
       "      <td>0.155129</td>\n",
       "      <td>...</td>\n",
       "      <td>0.056390</td>\n",
       "      <td>-0.130530</td>\n",
       "      <td>0.360380</td>\n",
       "      <td>0.255409</td>\n",
       "      <td>-0.077802</td>\n",
       "      <td>0.121277</td>\n",
       "      <td>-0.032297</td>\n",
       "      <td>-0.011444</td>\n",
       "      <td>0.313261</td>\n",
       "      <td>0</td>\n",
       "    </tr>\n",
       "    <tr>\n",
       "      <th>2218022</th>\n",
       "      <td>-2.487179</td>\n",
       "      <td>0.372637</td>\n",
       "      <td>0.183950</td>\n",
       "      <td>-0.027915</td>\n",
       "      <td>0.400431</td>\n",
       "      <td>-0.212242</td>\n",
       "      <td>0.491977</td>\n",
       "      <td>-0.155830</td>\n",
       "      <td>0.289996</td>\n",
       "      <td>-0.335644</td>\n",
       "      <td>...</td>\n",
       "      <td>-0.365279</td>\n",
       "      <td>0.413942</td>\n",
       "      <td>-0.583635</td>\n",
       "      <td>-0.363196</td>\n",
       "      <td>0.082374</td>\n",
       "      <td>0.097007</td>\n",
       "      <td>0.108911</td>\n",
       "      <td>0.017860</td>\n",
       "      <td>-0.607870</td>\n",
       "      <td>0</td>\n",
       "    </tr>\n",
       "  </tbody>\n",
       "</table>\n",
       "<p>2218023 rows × 25 columns</p>\n",
       "</div>"
      ],
      "text/plain": [
       "             PCS-0     PCS-1     PCS-2     PCS-3     PCS-4     PCS-5  \\\n",
       "0        -1.719427  1.041112 -0.029033 -0.033945  0.488359 -0.320245   \n",
       "1        -2.513016  0.378792  0.180003 -0.033389  0.509032 -0.166350   \n",
       "2         7.169543  0.970827 -0.545971  0.185807 -3.243937 -0.199090   \n",
       "3        -2.484802  0.321382  0.182738 -0.022501  0.317128 -0.203769   \n",
       "4         0.095984 -6.182967  0.574045  0.176454 -3.033600 -0.513644   \n",
       "...            ...       ...       ...       ...       ...       ...   \n",
       "2218018  -1.779313  1.015756 -0.024352 -0.036211  0.524642 -0.307170   \n",
       "2218019  11.529245 -4.560917 -1.032951 -0.216910  2.686570 -3.110249   \n",
       "2218020   2.609045  2.083090 -1.059412  0.043720 -1.162372 -0.005590   \n",
       "2218021  -2.670975  0.411073  0.281450 -0.032887  0.471525 -0.358356   \n",
       "2218022  -2.487179  0.372637  0.183950 -0.027915  0.400431 -0.212242   \n",
       "\n",
       "            PCS-6     PCS-7     PCS-8     PCS-9  ...    PCS-15    PCS-16  \\\n",
       "0        0.675607  0.040008 -0.850674  0.904590  ...  0.166457  0.296350   \n",
       "1        0.247207 -0.138200  0.478633 -0.355185  ... -0.423369  0.428696   \n",
       "2       -1.077415 -0.185070  1.729826  0.188037  ... -1.130055 -0.283804   \n",
       "3        0.532316 -0.171392  0.235577 -0.311109  ... -0.340788  0.405275   \n",
       "4        0.781771  1.736568  1.722352 -6.504171  ...  2.019361 -2.565433   \n",
       "...           ...       ...       ...       ...  ...       ...       ...   \n",
       "2218018  0.679505  0.054820 -0.852952  0.798319  ...  0.199171  0.227340   \n",
       "2218019  0.780086  1.255543  1.430819  4.563230  ...  1.076840 -1.305083   \n",
       "2218020  0.076629  0.071676  0.721323 -1.195586  ...  0.084411  0.600983   \n",
       "2218021  0.726009 -0.120767  0.090735  0.155129  ...  0.056390 -0.130530   \n",
       "2218022  0.491977 -0.155830  0.289996 -0.335644  ... -0.365279  0.413942   \n",
       "\n",
       "           PCS-17    PCS-18    PCS-19    PCS-20    PCS-21    PCS-22    PCS-23  \\\n",
       "0        0.170225  0.126065 -0.012936 -0.078119 -0.217705  0.006862  0.172171   \n",
       "1       -0.498758 -0.567661  0.053651  0.042064 -0.002884  0.018795 -0.570877   \n",
       "2        0.332416  0.275258 -0.572652 -0.638327  0.332787 -0.019409  0.268257   \n",
       "3       -0.597997 -0.307447  0.088032  0.105859  0.135460  0.017582 -0.613108   \n",
       "4        2.824614 -0.946937  0.259488 -0.222455  1.541727 -0.026497 -0.191912   \n",
       "...           ...       ...       ...       ...       ...       ...       ...   \n",
       "2218018  0.019026  0.140678 -0.023231 -0.091422 -0.252822  0.008038  0.286910   \n",
       "2218019  0.340297 -0.245000  1.894244  1.474236 -0.919507  0.007565  0.324853   \n",
       "2218020 -1.022751 -0.077301  0.243243  0.162927 -0.268063  0.007436 -0.075900   \n",
       "2218021  0.360380  0.255409 -0.077802  0.121277 -0.032297 -0.011444  0.313261   \n",
       "2218022 -0.583635 -0.363196  0.082374  0.097007  0.108911  0.017860 -0.607870   \n",
       "\n",
       "         category  \n",
       "0               0  \n",
       "1               0  \n",
       "2               1  \n",
       "3               0  \n",
       "4               0  \n",
       "...           ...  \n",
       "2218018         0  \n",
       "2218019         0  \n",
       "2218020         0  \n",
       "2218021         0  \n",
       "2218022         0  \n",
       "\n",
       "[2218023 rows x 25 columns]"
      ]
     },
     "execution_count": 166,
     "metadata": {},
     "output_type": "execute_result"
    }
   ],
   "source": []
  },
  {
   "cell_type": "code",
   "execution_count": 168,
   "metadata": {},
   "outputs": [],
   "source": [
    "train_dataset.to_csv('/home/lpazc/Documentos/Proyects/DroidMalDetect-Py/results/train_dataset_pca.csv', index=False)\n",
    "test_dataset.to_csv('/home/lpazc/Documentos/Proyects/DroidMalDetect-Py/results/test_dataset_pca.csv', index=False)"
   ]
  }
 ],
 "metadata": {
  "kernelspec": {
   "display_name": ".venv",
   "language": "python",
   "name": "python3"
  },
  "language_info": {
   "codemirror_mode": {
    "name": "ipython",
    "version": 3
   },
   "file_extension": ".py",
   "mimetype": "text/x-python",
   "name": "python",
   "nbconvert_exporter": "python",
   "pygments_lexer": "ipython3",
   "version": "3.11.2"
  }
 },
 "nbformat": 4,
 "nbformat_minor": 2
}
